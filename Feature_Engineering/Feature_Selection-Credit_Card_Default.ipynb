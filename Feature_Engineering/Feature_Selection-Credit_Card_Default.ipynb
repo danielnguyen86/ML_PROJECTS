{
 "cells": [
  {
   "cell_type": "code",
   "execution_count": 1,
   "metadata": {
    "collapsed": true
   },
   "outputs": [],
   "source": [
    "import pandas as pd\n",
    "import sys\n",
    "sys.path.insert(1,'E:\\DUY\\DS\\deeplearning\\CustomTools')\n",
    "import ultility_tools as utt\n",
    "from sklearn.pipeline import Pipeline\n",
    "from sklearn.preprocessing import StandardScaler\n",
    "from sklearn.linear_model import LogisticRegression\n",
    "from sklearn.neighbors import KNeighborsClassifier\n",
    "from sklearn.tree import DecisionTreeClassifier\n",
    "from sklearn.ensemble import RandomForestClassifier\n",
    "from sklearn.preprocessing import PolynomialFeatures\n",
    "from sklearn.feature_selection import SelectKBest\n",
    "from sklearn.feature_selection import f_classif\n",
    "from sklearn.feature_selection import SelectFromModel\n",
    "from sklearn.svm import LinearSVC"
   ]
  },
  {
   "cell_type": "code",
   "execution_count": 2,
   "outputs": [
    {
     "name": "stdout",
     "output_type": "stream",
     "text": [
      "<class 'pandas.core.frame.DataFrame'>\n",
      "RangeIndex: 30000 entries, 0 to 29999\n",
      "Data columns (total 24 columns):\n",
      " #   Column                      Non-Null Count  Dtype\n",
      "---  ------                      --------------  -----\n",
      " 0   LIMIT_BAL                   30000 non-null  int64\n",
      " 1   SEX                         30000 non-null  int64\n",
      " 2   EDUCATION                   30000 non-null  int64\n",
      " 3   MARRIAGE                    30000 non-null  int64\n",
      " 4   AGE                         30000 non-null  int64\n",
      " 5   PAY_0                       30000 non-null  int64\n",
      " 6   PAY_2                       30000 non-null  int64\n",
      " 7   PAY_3                       30000 non-null  int64\n",
      " 8   PAY_4                       30000 non-null  int64\n",
      " 9   PAY_5                       30000 non-null  int64\n",
      " 10  PAY_6                       30000 non-null  int64\n",
      " 11  BILL_AMT1                   30000 non-null  int64\n",
      " 12  BILL_AMT2                   30000 non-null  int64\n",
      " 13  BILL_AMT3                   30000 non-null  int64\n",
      " 14  BILL_AMT4                   30000 non-null  int64\n",
      " 15  BILL_AMT5                   30000 non-null  int64\n",
      " 16  BILL_AMT6                   30000 non-null  int64\n",
      " 17  PAY_AMT1                    30000 non-null  int64\n",
      " 18  PAY_AMT2                    30000 non-null  int64\n",
      " 19  PAY_AMT3                    30000 non-null  int64\n",
      " 20  PAY_AMT4                    30000 non-null  int64\n",
      " 21  PAY_AMT5                    30000 non-null  int64\n",
      " 22  PAY_AMT6                    30000 non-null  int64\n",
      " 23  default payment next month  30000 non-null  int64\n",
      "dtypes: int64(24)\n",
      "memory usage: 5.5 MB\n",
      "None\n"
     ]
    },
    {
     "data": {
      "text/plain": "   LIMIT_BAL  SEX  EDUCATION  MARRIAGE  AGE  PAY_0  PAY_2  PAY_3  PAY_4  \\\n0      20000    2          2         1   24      2      2     -1     -1   \n1     120000    2          2         2   26     -1      2      0      0   \n2      90000    2          2         2   34      0      0      0      0   \n3      50000    2          2         1   37      0      0      0      0   \n4      50000    1          2         1   57     -1      0     -1      0   \n\n   PAY_5  ...  BILL_AMT4  BILL_AMT5  BILL_AMT6  PAY_AMT1  PAY_AMT2  PAY_AMT3  \\\n0     -2  ...          0          0          0         0       689         0   \n1      0  ...       3272       3455       3261         0      1000      1000   \n2      0  ...      14331      14948      15549      1518      1500      1000   \n3      0  ...      28314      28959      29547      2000      2019      1200   \n4      0  ...      20940      19146      19131      2000     36681     10000   \n\n   PAY_AMT4  PAY_AMT5  PAY_AMT6  default payment next month  \n0         0         0         0                           1  \n1      1000         0      2000                           1  \n2      1000      1000      5000                           0  \n3      1100      1069      1000                           0  \n4      9000       689       679                           0  \n\n[5 rows x 24 columns]",
      "text/html": "<div>\n<style scoped>\n    .dataframe tbody tr th:only-of-type {\n        vertical-align: middle;\n    }\n\n    .dataframe tbody tr th {\n        vertical-align: top;\n    }\n\n    .dataframe thead th {\n        text-align: right;\n    }\n</style>\n<table border=\"1\" class=\"dataframe\">\n  <thead>\n    <tr style=\"text-align: right;\">\n      <th></th>\n      <th>LIMIT_BAL</th>\n      <th>SEX</th>\n      <th>EDUCATION</th>\n      <th>MARRIAGE</th>\n      <th>AGE</th>\n      <th>PAY_0</th>\n      <th>PAY_2</th>\n      <th>PAY_3</th>\n      <th>PAY_4</th>\n      <th>PAY_5</th>\n      <th>...</th>\n      <th>BILL_AMT4</th>\n      <th>BILL_AMT5</th>\n      <th>BILL_AMT6</th>\n      <th>PAY_AMT1</th>\n      <th>PAY_AMT2</th>\n      <th>PAY_AMT3</th>\n      <th>PAY_AMT4</th>\n      <th>PAY_AMT5</th>\n      <th>PAY_AMT6</th>\n      <th>default payment next month</th>\n    </tr>\n  </thead>\n  <tbody>\n    <tr>\n      <th>0</th>\n      <td>20000</td>\n      <td>2</td>\n      <td>2</td>\n      <td>1</td>\n      <td>24</td>\n      <td>2</td>\n      <td>2</td>\n      <td>-1</td>\n      <td>-1</td>\n      <td>-2</td>\n      <td>...</td>\n      <td>0</td>\n      <td>0</td>\n      <td>0</td>\n      <td>0</td>\n      <td>689</td>\n      <td>0</td>\n      <td>0</td>\n      <td>0</td>\n      <td>0</td>\n      <td>1</td>\n    </tr>\n    <tr>\n      <th>1</th>\n      <td>120000</td>\n      <td>2</td>\n      <td>2</td>\n      <td>2</td>\n      <td>26</td>\n      <td>-1</td>\n      <td>2</td>\n      <td>0</td>\n      <td>0</td>\n      <td>0</td>\n      <td>...</td>\n      <td>3272</td>\n      <td>3455</td>\n      <td>3261</td>\n      <td>0</td>\n      <td>1000</td>\n      <td>1000</td>\n      <td>1000</td>\n      <td>0</td>\n      <td>2000</td>\n      <td>1</td>\n    </tr>\n    <tr>\n      <th>2</th>\n      <td>90000</td>\n      <td>2</td>\n      <td>2</td>\n      <td>2</td>\n      <td>34</td>\n      <td>0</td>\n      <td>0</td>\n      <td>0</td>\n      <td>0</td>\n      <td>0</td>\n      <td>...</td>\n      <td>14331</td>\n      <td>14948</td>\n      <td>15549</td>\n      <td>1518</td>\n      <td>1500</td>\n      <td>1000</td>\n      <td>1000</td>\n      <td>1000</td>\n      <td>5000</td>\n      <td>0</td>\n    </tr>\n    <tr>\n      <th>3</th>\n      <td>50000</td>\n      <td>2</td>\n      <td>2</td>\n      <td>1</td>\n      <td>37</td>\n      <td>0</td>\n      <td>0</td>\n      <td>0</td>\n      <td>0</td>\n      <td>0</td>\n      <td>...</td>\n      <td>28314</td>\n      <td>28959</td>\n      <td>29547</td>\n      <td>2000</td>\n      <td>2019</td>\n      <td>1200</td>\n      <td>1100</td>\n      <td>1069</td>\n      <td>1000</td>\n      <td>0</td>\n    </tr>\n    <tr>\n      <th>4</th>\n      <td>50000</td>\n      <td>1</td>\n      <td>2</td>\n      <td>1</td>\n      <td>57</td>\n      <td>-1</td>\n      <td>0</td>\n      <td>-1</td>\n      <td>0</td>\n      <td>0</td>\n      <td>...</td>\n      <td>20940</td>\n      <td>19146</td>\n      <td>19131</td>\n      <td>2000</td>\n      <td>36681</td>\n      <td>10000</td>\n      <td>9000</td>\n      <td>689</td>\n      <td>679</td>\n      <td>0</td>\n    </tr>\n  </tbody>\n</table>\n<p>5 rows × 24 columns</p>\n</div>"
     },
     "execution_count": 2,
     "metadata": {},
     "output_type": "execute_result"
    }
   ],
   "source": [
    "data = pd.read_csv('DATA/CreditCardDefault/credit_card_default.csv')\n",
    "print(data.info())\n",
    "data.head()"
   ],
   "metadata": {
    "collapsed": false,
    "pycharm": {
     "name": "#%%\n"
    }
   }
  },
  {
   "cell_type": "code",
   "execution_count": 3,
   "outputs": [],
   "source": [
    "# create the feature set\n",
    "X = data.drop('default payment next month',axis=1)\n",
    "\n",
    "# create the response set\n",
    "y = data['default payment next month']"
   ],
   "metadata": {
    "collapsed": false,
    "pycharm": {
     "name": "#%%\n"
    }
   }
  },
  {
   "cell_type": "code",
   "execution_count": 4,
   "outputs": [
    {
     "name": "stdout",
     "output_type": "stream",
     "text": [
      "0    0.7788\n",
      "1    0.2212\n",
      "Name: default payment next month, dtype: float64\n"
     ]
    }
   ],
   "source": [
    "# get the null accuracy (baseline)\n",
    "print(y.value_counts(normalize=True))\n"
   ],
   "metadata": {
    "collapsed": false,
    "pycharm": {
     "name": "#%%\n"
    }
   }
  },
  {
   "cell_type": "markdown",
   "source": [
    "# Creating a Baseline ML Pipeline for Classification problem"
   ],
   "metadata": {
    "collapsed": false
   }
  },
  {
   "cell_type": "code",
   "execution_count": 5,
   "outputs": [
    {
     "data": {
      "text/plain": "            model_name  best_score                           best_params  \\\n0  Logistic Regression    0.778833         {'C': 100.0, 'penalty': 'l2'}   \n1                  KNN    0.799333        {'classifier__n_neighbors': 7}   \n2        Decision Tree    0.820633                      {'max_depth': 3}   \n3        Random Forest    0.818467  {'max_depth': 7, 'n_estimators': 50}   \n\n   fit_time  score_time  \n0  0.152245    0.000822  \n1  0.149401    3.130825  \n2  0.146089    0.001396  \n3  0.980155    0.025320  ",
      "text/html": "<div>\n<style scoped>\n    .dataframe tbody tr th:only-of-type {\n        vertical-align: middle;\n    }\n\n    .dataframe tbody tr th {\n        vertical-align: top;\n    }\n\n    .dataframe thead th {\n        text-align: right;\n    }\n</style>\n<table border=\"1\" class=\"dataframe\">\n  <thead>\n    <tr style=\"text-align: right;\">\n      <th></th>\n      <th>model_name</th>\n      <th>best_score</th>\n      <th>best_params</th>\n      <th>fit_time</th>\n      <th>score_time</th>\n    </tr>\n  </thead>\n  <tbody>\n    <tr>\n      <th>0</th>\n      <td>Logistic Regression</td>\n      <td>0.778833</td>\n      <td>{'C': 100.0, 'penalty': 'l2'}</td>\n      <td>0.152245</td>\n      <td>0.000822</td>\n    </tr>\n    <tr>\n      <th>1</th>\n      <td>KNN</td>\n      <td>0.799333</td>\n      <td>{'classifier__n_neighbors': 7}</td>\n      <td>0.149401</td>\n      <td>3.130825</td>\n    </tr>\n    <tr>\n      <th>2</th>\n      <td>Decision Tree</td>\n      <td>0.820633</td>\n      <td>{'max_depth': 3}</td>\n      <td>0.146089</td>\n      <td>0.001396</td>\n    </tr>\n    <tr>\n      <th>3</th>\n      <td>Random Forest</td>\n      <td>0.818467</td>\n      <td>{'max_depth': 7, 'n_estimators': 50}</td>\n      <td>0.980155</td>\n      <td>0.025320</td>\n    </tr>\n  </tbody>\n</table>\n</div>"
     },
     "execution_count": 5,
     "metadata": {},
     "output_type": "execute_result"
    }
   ],
   "source": [
    "models ={\"model_name\": [\"Logistic Regression\",\n",
    "                        \"KNN\",\n",
    "                        \"Decision Tree\",\n",
    "                        \"Random Forest\"],\n",
    "         \"model_command\": [LogisticRegression(),\n",
    "                           Pipeline([('scaler',StandardScaler()),('classifier',KNeighborsClassifier())]),\n",
    "                           DecisionTreeClassifier(),\n",
    "                           RandomForestClassifier()],\n",
    "         \"model_params\": [{'C':[1e-1, 1e0, 1e1, 1e2], 'penalty':['l1', 'l2']},\n",
    "                          {'classifier__n_neighbors': [1, 3, 5, 7]},\n",
    "                          {'max_depth':[None, 1, 3, 5, 7]},\n",
    "                          {'n_estimators': [10, 50, 100], 'max_depth': [None, 1, 3, 5, 7]}]\n",
    "         }\n",
    "\n",
    "best_grid, df_models_results = utt.get_all_best_models(models, X, y)\n",
    "df_models_results\n"
   ],
   "metadata": {
    "collapsed": false,
    "pycharm": {
     "name": "#%%\n"
    }
   }
  },
  {
   "cell_type": "markdown",
   "source": [
    "# Feature Selection: using PolynomialFeatures & Decision Tree"
   ],
   "metadata": {
    "collapsed": false
   }
  },
  {
   "cell_type": "code",
   "execution_count": 6,
   "outputs": [
    {
     "name": "stdout",
     "output_type": "stream",
     "text": [
      "************************************************\n",
      "Best Accuracy: 0.8211333333333334\n",
      "Best Parameters: {'classifier__max_depth': 3, 'poly__degree': 2}\n",
      "Average Time to Fit: 2.524 (s)\n",
      "Average Time to Score: 0.018 (s)\n",
      "************************************************\n"
     ]
    }
   ],
   "source": [
    "poly_tree = Pipeline([(\"poly\",PolynomialFeatures()),\n",
    "                          (\"classifier\",DecisionTreeClassifier())])\n",
    "poly_tree_paras = {'poly__degree':[2],\n",
    "                   'classifier__max_depth': [None, 1, 3, 5, 7]}\n",
    "\n",
    "grid1 = utt.get_best_for_model(poly_tree, poly_tree_paras, X, y)\n"
   ],
   "metadata": {
    "collapsed": false,
    "pycharm": {
     "name": "#%%\n"
    }
   }
  },
  {
   "cell_type": "markdown",
   "source": [
    "# Feature Selection: using Correlation Matrix values & Decision Tree"
   ],
   "metadata": {
    "collapsed": false,
    "pycharm": {
     "name": "#%% md\n"
    }
   }
  },
  {
   "cell_type": "code",
   "execution_count": 7,
   "outputs": [
    {
     "data": {
      "text/plain": "<Figure size 1080x576 with 2 Axes>",
      "image/png": "[encoded data removed]"
     },
     "metadata": {},
     "output_type": "display_data"
    },
    {
     "name": "stdout",
     "output_type": "stream",
     "text": [
      "************************************************\n",
      "Best Accuracy: 0.8207333333333333\n",
      "Best Parameters: {'classifier__max_depth': 3, 'corr_chooser__threshold': 0.2}\n",
      "Average Time to Fit: 0.081 (s)\n",
      "Average Time to Score: 0.002 (s)\n",
      "************************************************\n"
     ]
    }
   ],
   "source": [
    "# get correlation matrix\n",
    "corr = utt.get_corr(data,annot=False)\n",
    "\n",
    "# pipeline\n",
    "ccc = utt.CustomCorrelationChooser(response=y)\n",
    "d_tree = DecisionTreeClassifier()\n",
    "corr_tree = Pipeline([(\"corr_chooser\",ccc),\n",
    "                      (\"classifier\",d_tree)])\n",
    "corr_tree_params = {\"corr_chooser__threshold\":[0,0.1,0.2,0.3],\n",
    "                    \"classifier__max_depth\":[None, 1, 3, 5, 7]}\n",
    "grid2 = utt.get_best_for_model(corr_tree , corr_tree_params, X, y)"
   ],
   "metadata": {
    "collapsed": false,
    "pycharm": {
     "name": "#%%\n"
    }
   }
  },
  {
   "cell_type": "code",
   "execution_count": 20,
   "outputs": [
    {
     "name": "stdout",
     "output_type": "stream",
     "text": [
      "Index(['PAY_0', 'PAY_2', 'PAY_3', 'PAY_4', 'PAY_5'], dtype='object')\n"
     ]
    }
   ],
   "source": [
    "# OLD WAY (MANUAL)\n",
    "ccc = utt.CustomCorrelationChooser(response=y,threshold=0.2)\n",
    "ccc.fit(X)\n",
    "print(ccc.cols_to_keep)\n"
   ],
   "metadata": {
    "collapsed": false,
    "pycharm": {
     "name": "#%%\n"
    }
   }
  },
  {
   "cell_type": "markdown",
   "source": [
    "# Feature Selection: using KBest and f_classif (ANOVA p-values test) & Decision Tree"
   ],
   "metadata": {
    "collapsed": false
   }
  },
  {
   "cell_type": "code",
   "execution_count": 9,
   "outputs": [
    {
     "name": "stdout",
     "output_type": "stream",
     "text": [
      "************************************************\n",
      "Best Accuracy: 0.8213333333333332\n",
      "Best Parameters: {'classifier__max_depth': 3, 'k_best__k': 5}\n",
      "Average Time to Fit: 0.025 (s)\n",
      "Average Time to Score: 0.001 (s)\n",
      "************************************************\n"
     ]
    }
   ],
   "source": [
    "kbest = SelectKBest(f_classif)\n",
    "d_tree = DecisionTreeClassifier()\n",
    "kbest_tree = Pipeline([(\"k_best\",kbest),(\"classifier\",d_tree)])\n",
    "kbest_tree_params = {\"k_best__k\":[1,2,3,4,5,6,7,8,9,10],\n",
    "                     \"classifier__max_depth\":[None,1,3,5,7]}\n",
    "grid3 = utt.get_best_for_model(kbest_tree , kbest_tree_params, X, y)"
   ],
   "metadata": {
    "collapsed": false,
    "pycharm": {
     "name": "#%%\n"
    }
   }
  },
  {
   "cell_type": "code",
   "execution_count": 10,
   "outputs": [
    {
     "data": {
      "text/plain": "  column        p_value\n5  PAY_0   0.000000e+00\n6  PAY_2   0.000000e+00\n7  PAY_3   0.000000e+00\n8  PAY_4  1.899297e-315\n9  PAY_5  1.126608e-279",
      "text/html": "<div>\n<style scoped>\n    .dataframe tbody tr th:only-of-type {\n        vertical-align: middle;\n    }\n\n    .dataframe tbody tr th {\n        vertical-align: top;\n    }\n\n    .dataframe thead th {\n        text-align: right;\n    }\n</style>\n<table border=\"1\" class=\"dataframe\">\n  <thead>\n    <tr style=\"text-align: right;\">\n      <th></th>\n      <th>column</th>\n      <th>p_value</th>\n    </tr>\n  </thead>\n  <tbody>\n    <tr>\n      <th>5</th>\n      <td>PAY_0</td>\n      <td>0.000000e+00</td>\n    </tr>\n    <tr>\n      <th>6</th>\n      <td>PAY_2</td>\n      <td>0.000000e+00</td>\n    </tr>\n    <tr>\n      <th>7</th>\n      <td>PAY_3</td>\n      <td>0.000000e+00</td>\n    </tr>\n    <tr>\n      <th>8</th>\n      <td>PAY_4</td>\n      <td>1.899297e-315</td>\n    </tr>\n    <tr>\n      <th>9</th>\n      <td>PAY_5</td>\n      <td>1.126608e-279</td>\n    </tr>\n  </tbody>\n</table>\n</div>"
     },
     "execution_count": 10,
     "metadata": {},
     "output_type": "execute_result"
    }
   ],
   "source": [
    "kbest = SelectKBest(f_classif,k=5)\n",
    "kbest.fit_transform(X,y)\n",
    "p_values = pd.DataFrame({'column': X.columns, 'p_value': kbest.pvalues_}).sort_values('p_value')\n",
    "p_values.head()"
   ],
   "metadata": {
    "collapsed": false,
    "pycharm": {
     "name": "#%%\n"
    }
   }
  },
  {
   "cell_type": "code",
   "execution_count": 11,
   "outputs": [
    {
     "data": {
      "text/plain": "Index(['PAY_0', 'PAY_2', 'PAY_3', 'PAY_4', 'PAY_5'], dtype='object')"
     },
     "execution_count": 11,
     "metadata": {},
     "output_type": "execute_result"
    }
   ],
   "source": [
    "# a better way\n",
    "kbest_tree.set_params(**grid3.best_params_)\n",
    "kbest_tree.steps[0][1].fit(X,y)\n",
    "X.columns[kbest_tree.steps[0][1].get_support()]"
   ],
   "metadata": {
    "collapsed": false,
    "pycharm": {
     "name": "#%%\n"
    }
   }
  },
  {
   "cell_type": "markdown",
   "source": [
    "# Feature Selection: using SelectFromModel (Decision Tree) & Decision Tree"
   ],
   "metadata": {
    "collapsed": false,
    "pycharm": {
     "name": "#%% md\n"
    }
   }
  },
  {
   "cell_type": "code",
   "execution_count": 12,
   "outputs": [
    {
     "name": "stdout",
     "output_type": "stream",
     "text": [
      "************************************************\n",
      "Best Accuracy: 0.8206333333333333\n",
      "Best Parameters: {'classifier__max_depth': 3, 'select_model__estimator__max_depth': 1, 'select_model__threshold': 'median'}\n",
      "Average Time to Fit: 0.164 (s)\n",
      "Average Time to Score: 0.001 (s)\n",
      "************************************************\n"
     ]
    }
   ],
   "source": [
    "select_model = SelectFromModel(DecisionTreeClassifier())\n",
    "d_tree = DecisionTreeClassifier()\n",
    "select_model_tree = Pipeline([(\"select_model\",select_model),(\"classifier\",d_tree)])\n",
    "select_model_tree_params = {\"select_model__threshold\": [.01, .05, .1, .2, .25, .3, .4, .5, .6, \"mean\", \"median\", \"2.*mean\"],\n",
    "                            \"select_model__estimator__max_depth\": [None, 1, 3, 5, 7],\n",
    "                            \"classifier__max_depth\":[None,1,3,5,7]}\n",
    "grid4 = utt.get_best_for_model(select_model_tree , select_model_tree_params, X, y)"
   ],
   "metadata": {
    "collapsed": false,
    "pycharm": {
     "name": "#%%\n"
    }
   }
  },
  {
   "cell_type": "code",
   "execution_count": 13,
   "outputs": [
    {
     "data": {
      "text/plain": "Index(['LIMIT_BAL', 'SEX', 'EDUCATION', 'MARRIAGE', 'AGE', 'PAY_0', 'PAY_2',\n       'PAY_3', 'PAY_4', 'PAY_5', 'PAY_6', 'BILL_AMT1', 'BILL_AMT2',\n       'BILL_AMT3', 'BILL_AMT4', 'BILL_AMT5', 'BILL_AMT6', 'PAY_AMT1',\n       'PAY_AMT2', 'PAY_AMT3', 'PAY_AMT4', 'PAY_AMT5', 'PAY_AMT6'],\n      dtype='object')"
     },
     "execution_count": 13,
     "metadata": {},
     "output_type": "execute_result"
    }
   ],
   "source": [
    "select_model_tree.set_params(**grid4.best_params_)\n",
    "select_model_tree.steps[0][1].fit(X,y)\n",
    "X.columns[select_model_tree.steps[0][1].get_support()]"
   ],
   "metadata": {
    "collapsed": false,
    "pycharm": {
     "name": "#%%\n"
    }
   }
  },
  {
   "cell_type": "markdown",
   "source": [
    "# Feature Selection: using SelectFromModel (LogisticRegression) & Decision Tree"
   ],
   "metadata": {
    "collapsed": false
   }
  },
  {
   "cell_type": "code",
   "execution_count": 14,
   "outputs": [
    {
     "name": "stdout",
     "output_type": "stream",
     "text": [
      "************************************************\n",
      "Best Accuracy: 0.8207000000000001\n",
      "Best Parameters: {'classifier__max_depth': 3, 'select_model__estimator__penalty': 'l2', 'select_model__threshold': 'median'}\n",
      "Average Time to Fit: 0.086 (s)\n",
      "Average Time to Score: 0.0 (s)\n",
      "************************************************\n"
     ]
    }
   ],
   "source": [
    "select_model_LR = SelectFromModel(LogisticRegression())\n",
    "d_tree = DecisionTreeClassifier()\n",
    "select_model_LR_tree = Pipeline([(\"select_model\",select_model_LR),(\"classifier\",d_tree)])\n",
    "select_model_LR_tree_params = {\"select_model__threshold\": [.01, .05, .1, .2, \"mean\", \"median\", \"2.*mean\"],\n",
    "                            \"select_model__estimator__penalty\": ['l1','l2'],\n",
    "                            \"classifier__max_depth\":[None,1,3,5,7]}\n",
    "grid5 = utt.get_best_for_model(select_model_LR_tree , select_model_LR_tree_params, X, y)"
   ],
   "metadata": {
    "collapsed": false,
    "pycharm": {
     "name": "#%%\n"
    }
   }
  },
  {
   "cell_type": "code",
   "execution_count": 15,
   "outputs": [
    {
     "data": {
      "text/plain": "Index(['SEX', 'EDUCATION', 'MARRIAGE', 'AGE', 'PAY_0', 'PAY_2', 'PAY_3',\n       'PAY_4', 'PAY_5', 'PAY_6', 'PAY_AMT1', 'PAY_AMT2'],\n      dtype='object')"
     },
     "execution_count": 15,
     "metadata": {},
     "output_type": "execute_result"
    }
   ],
   "source": [
    "select_model_LR_tree.set_params(**grid5.best_params_)\n",
    "select_model_LR_tree.steps[0][1].fit(X,y)\n",
    "X.columns[select_model_LR_tree.steps[0][1].get_support()]"
   ],
   "metadata": {
    "collapsed": false,
    "pycharm": {
     "name": "#%%\n"
    }
   }
  },
  {
   "cell_type": "code",
   "execution_count": 16,
   "outputs": [
    {
     "data": {
      "text/plain": "       column   coeff_value\n5       PAY_0  5.072907e-05\n6       PAY_2  3.938047e-05\n7       PAY_3  3.475645e-05\n8       PAY_4  3.275442e-05\n9       PAY_5  3.078160e-05\n10      PAY_6  2.880201e-05\n16  BILL_AMT6  3.859960e-06\n14  BILL_AMT4  3.722612e-06\n13  BILL_AMT3  2.436832e-06\n15  BILL_AMT5  2.417408e-06\n22   PAY_AMT6  4.031109e-07\n12  BILL_AMT2 -1.400519e-07\n0   LIMIT_BAL -5.061756e-06\n11  BILL_AMT1 -7.782155e-06\n21   PAY_AMT5 -1.022808e-05\n20   PAY_AMT4 -1.076539e-05\n19   PAY_AMT3 -1.438918e-05\n18   PAY_AMT2 -2.658747e-05\n17   PAY_AMT1 -3.798577e-05\n1         SEX -3.903863e-05\n3    MARRIAGE -4.086521e-05\n2   EDUCATION -4.826709e-05\n4         AGE -6.922156e-04",
      "text/html": "<div>\n<style scoped>\n    .dataframe tbody tr th:only-of-type {\n        vertical-align: middle;\n    }\n\n    .dataframe tbody tr th {\n        vertical-align: top;\n    }\n\n    .dataframe thead th {\n        text-align: right;\n    }\n</style>\n<table border=\"1\" class=\"dataframe\">\n  <thead>\n    <tr style=\"text-align: right;\">\n      <th></th>\n      <th>column</th>\n      <th>coeff_value</th>\n    </tr>\n  </thead>\n  <tbody>\n    <tr>\n      <th>5</th>\n      <td>PAY_0</td>\n      <td>5.072907e-05</td>\n    </tr>\n    <tr>\n      <th>6</th>\n      <td>PAY_2</td>\n      <td>3.938047e-05</td>\n    </tr>\n    <tr>\n      <th>7</th>\n      <td>PAY_3</td>\n      <td>3.475645e-05</td>\n    </tr>\n    <tr>\n      <th>8</th>\n      <td>PAY_4</td>\n      <td>3.275442e-05</td>\n    </tr>\n    <tr>\n      <th>9</th>\n      <td>PAY_5</td>\n      <td>3.078160e-05</td>\n    </tr>\n    <tr>\n      <th>10</th>\n      <td>PAY_6</td>\n      <td>2.880201e-05</td>\n    </tr>\n    <tr>\n      <th>16</th>\n      <td>BILL_AMT6</td>\n      <td>3.859960e-06</td>\n    </tr>\n    <tr>\n      <th>14</th>\n      <td>BILL_AMT4</td>\n      <td>3.722612e-06</td>\n    </tr>\n    <tr>\n      <th>13</th>\n      <td>BILL_AMT3</td>\n      <td>2.436832e-06</td>\n    </tr>\n    <tr>\n      <th>15</th>\n      <td>BILL_AMT5</td>\n      <td>2.417408e-06</td>\n    </tr>\n    <tr>\n      <th>22</th>\n      <td>PAY_AMT6</td>\n      <td>4.031109e-07</td>\n    </tr>\n    <tr>\n      <th>12</th>\n      <td>BILL_AMT2</td>\n      <td>-1.400519e-07</td>\n    </tr>\n    <tr>\n      <th>0</th>\n      <td>LIMIT_BAL</td>\n      <td>-5.061756e-06</td>\n    </tr>\n    <tr>\n      <th>11</th>\n      <td>BILL_AMT1</td>\n      <td>-7.782155e-06</td>\n    </tr>\n    <tr>\n      <th>21</th>\n      <td>PAY_AMT5</td>\n      <td>-1.022808e-05</td>\n    </tr>\n    <tr>\n      <th>20</th>\n      <td>PAY_AMT4</td>\n      <td>-1.076539e-05</td>\n    </tr>\n    <tr>\n      <th>19</th>\n      <td>PAY_AMT3</td>\n      <td>-1.438918e-05</td>\n    </tr>\n    <tr>\n      <th>18</th>\n      <td>PAY_AMT2</td>\n      <td>-2.658747e-05</td>\n    </tr>\n    <tr>\n      <th>17</th>\n      <td>PAY_AMT1</td>\n      <td>-3.798577e-05</td>\n    </tr>\n    <tr>\n      <th>1</th>\n      <td>SEX</td>\n      <td>-3.903863e-05</td>\n    </tr>\n    <tr>\n      <th>3</th>\n      <td>MARRIAGE</td>\n      <td>-4.086521e-05</td>\n    </tr>\n    <tr>\n      <th>2</th>\n      <td>EDUCATION</td>\n      <td>-4.826709e-05</td>\n    </tr>\n    <tr>\n      <th>4</th>\n      <td>AGE</td>\n      <td>-6.922156e-04</td>\n    </tr>\n  </tbody>\n</table>\n</div>"
     },
     "execution_count": 16,
     "metadata": {},
     "output_type": "execute_result"
    }
   ],
   "source": [
    "#OR\n",
    "lr = LogisticRegression(penalty='l2')\n",
    "lr.fit(X,y)\n",
    "coeff_values = pd.DataFrame({'column': X.columns, 'coeff_value': lr.coef_.reshape(-1,)}).sort_values('coeff_value',ascending=False)\n",
    "coeff_values\n"
   ],
   "metadata": {
    "collapsed": false,
    "pycharm": {
     "name": "#%%\n"
    }
   }
  },
  {
   "cell_type": "markdown",
   "source": [
    "# Feature Selection: using SelectFromModel (Support Vector Classification-SVC) & Decision Tree"
   ],
   "metadata": {
    "collapsed": false,
    "pycharm": {
     "name": "#%% md\n"
    }
   }
  },
  {
   "cell_type": "code",
   "execution_count": 17,
   "outputs": [
    {
     "name": "stdout",
     "output_type": "stream",
     "text": [
      "************************************************\n",
      "Best Accuracy: 0.8212999999999999\n",
      "Best Parameters: {'classifier__max_depth': 5, 'select_model__estimator__dual': True, 'select_model__estimator__loss': 'hinge', 'select_model__estimator__penalty': 'l2', 'select_model__threshold': 'median'}\n",
      "Average Time to Fit: 0.765 (s)\n",
      "Average Time to Score: 0.0 (s)\n",
      "************************************************\n"
     ]
    }
   ],
   "source": [
    "select_model_LSVC = SelectFromModel(LinearSVC())\n",
    "d_tree = DecisionTreeClassifier()\n",
    "select_model_LSVC_tree = Pipeline([(\"select_model\",select_model_LSVC),(\"classifier\",d_tree)])\n",
    "select_model_LSVC_tree_params = {\"select_model__threshold\": [.01, .05, .1, .2, \"mean\", \"median\", \"2.*mean\"],\n",
    "                                 \"select_model__estimator__penalty\": ['l1','l2'],\n",
    "                                 \"select_model__estimator__loss\": ['squared_hinge', 'hinge'],\n",
    "                                 \"select_model__estimator__dual\": [True, False],\n",
    "                                 \"classifier__max_depth\":[None,1,3,5,7]}\n",
    "grid6 = utt.get_best_for_model(select_model_LSVC_tree , select_model_LSVC_tree_params, X, y)"
   ],
   "metadata": {
    "collapsed": false,
    "pycharm": {
     "name": "#%%\n"
    }
   }
  },
  {
   "cell_type": "code",
   "execution_count": 18,
   "outputs": [
    {
     "data": {
      "text/plain": "Index(['SEX', 'EDUCATION', 'MARRIAGE', 'AGE', 'PAY_0', 'PAY_2', 'PAY_3',\n       'PAY_4', 'PAY_5', 'PAY_6', 'PAY_AMT2', 'PAY_AMT5'],\n      dtype='object')"
     },
     "execution_count": 18,
     "metadata": {},
     "output_type": "execute_result"
    }
   ],
   "source": [
    "select_model_LSVC_tree.set_params(**grid6.best_params_)\n",
    "select_model_LSVC_tree.steps[0][1].fit(X,y)\n",
    "X.columns[select_model_LSVC_tree.steps[0][1].get_support()]\n",
    "\n"
   ],
   "metadata": {
    "collapsed": false,
    "pycharm": {
     "name": "#%%\n"
    }
   }
  },
  {
   "cell_type": "code",
   "execution_count": 19,
   "outputs": [
    {
     "data": {
      "text/plain": "   column  coeff_value\n8   PAY_4     0.001991\n10  PAY_6     0.001913\n9   PAY_5     0.001891\n7   PAY_3     0.001728\n5   PAY_0     0.001600\n6   PAY_2     0.001592",
      "text/html": "<div>\n<style scoped>\n    .dataframe tbody tr th:only-of-type {\n        vertical-align: middle;\n    }\n\n    .dataframe tbody tr th {\n        vertical-align: top;\n    }\n\n    .dataframe thead th {\n        text-align: right;\n    }\n</style>\n<table border=\"1\" class=\"dataframe\">\n  <thead>\n    <tr style=\"text-align: right;\">\n      <th></th>\n      <th>column</th>\n      <th>coeff_value</th>\n    </tr>\n  </thead>\n  <tbody>\n    <tr>\n      <th>8</th>\n      <td>PAY_4</td>\n      <td>0.001991</td>\n    </tr>\n    <tr>\n      <th>10</th>\n      <td>PAY_6</td>\n      <td>0.001913</td>\n    </tr>\n    <tr>\n      <th>9</th>\n      <td>PAY_5</td>\n      <td>0.001891</td>\n    </tr>\n    <tr>\n      <th>7</th>\n      <td>PAY_3</td>\n      <td>0.001728</td>\n    </tr>\n    <tr>\n      <th>5</th>\n      <td>PAY_0</td>\n      <td>0.001600</td>\n    </tr>\n    <tr>\n      <th>6</th>\n      <td>PAY_2</td>\n      <td>0.001592</td>\n    </tr>\n  </tbody>\n</table>\n</div>"
     },
     "execution_count": 19,
     "metadata": {},
     "output_type": "execute_result"
    }
   ],
   "source": [
    "#OR\n",
    "# lsvc = LinearSVC(penalty='l1', loss='squared_hinge',dual=False)\n",
    "lsvc = grid6.best_estimator_.steps[0][1].estimator_\n",
    "lsvc.fit(X,y)\n",
    "coeff_values_lsvc = pd.DataFrame({'column': X.columns, 'coeff_value': lsvc.coef_.reshape(-1,)}).sort_values('coeff_value',ascending=False)\n",
    "coeff_values_lsvc.head(6)\n"
   ],
   "metadata": {
    "collapsed": false,
    "pycharm": {
     "name": "#%%\n"
    }
   }
  }
 ],
 "metadata": {
  "kernelspec": {
   "name": "pycharm-fc3f4a74",
   "language": "python",
   "display_name": "PyCharm (deeplearning)"
  },
  "language_info": {
   "codemirror_mode": {
    "name": "ipython",
    "version": 2
   },
   "file_extension": ".py",
   "mimetype": "text/x-python",
   "name": "python",
   "nbconvert_exporter": "python",
   "pygments_lexer": "ipython2",
   "version": "2.7.6"
  }
 },
 "nbformat": 4,
 "nbformat_minor": 0
}