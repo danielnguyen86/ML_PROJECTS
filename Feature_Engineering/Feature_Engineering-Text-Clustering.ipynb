{
 "cells": [
  {
   "cell_type": "markdown",
   "metadata": {
    "collapsed": true,
    "pycharm": {
     "name": "#%% md\n"
    }
   },
   "source": [
    "b# TOPIC: predicting topics of hotel reviews data"
   ]
  },
  {
   "cell_type": "markdown",
   "source": [
    "#1 / Loading data"
   ],
   "metadata": {
    "collapsed": false,
    "pycharm": {
     "name": "#%% md\n"
    }
   }
  },
  {
   "cell_type": "code",
   "execution_count": 1,
   "outputs": [
    {
     "name": "stdout",
     "output_type": "stream",
     "text": [
      "<class 'pandas.core.frame.DataFrame'>\n",
      "RangeIndex: 35912 entries, 0 to 35911\n",
      "Data columns (total 19 columns):\n",
      " #   Column                Non-Null Count  Dtype  \n",
      "---  ------                --------------  -----  \n",
      " 0   address               35912 non-null  object \n",
      " 1   categories            35912 non-null  object \n",
      " 2   city                  35912 non-null  object \n",
      " 3   country               35912 non-null  object \n",
      " 4   latitude              35826 non-null  float64\n",
      " 5   longitude             35826 non-null  float64\n",
      " 6   name                  35912 non-null  object \n",
      " 7   postalCode            35857 non-null  object \n",
      " 8   province              35912 non-null  object \n",
      " 9   reviews.date          35653 non-null  object \n",
      " 10  reviews.dateAdded     35912 non-null  object \n",
      " 11  reviews.doRecommend   0 non-null      float64\n",
      " 12  reviews.id            0 non-null      float64\n",
      " 13  reviews.rating        35050 non-null  float64\n",
      " 14  reviews.text          35890 non-null  object \n",
      " 15  reviews.title         34290 non-null  object \n",
      " 16  reviews.userCity      16263 non-null  object \n",
      " 17  reviews.username      35869 non-null  object \n",
      " 18  reviews.userProvince  17518 non-null  object \n",
      "dtypes: float64(5), object(14)\n",
      "memory usage: 5.2+ MB\n",
      "None\n"
     ]
    },
    {
     "data": {
      "text/plain": "                  address categories      city country   latitude  longitude  \\\n0  Riviera San Nicol 11/a     Hotels  Mableton      US  45.421611  12.376187   \n1  Riviera San Nicol 11/a     Hotels  Mableton      US  45.421611  12.376187   \n2  Riviera San Nicol 11/a     Hotels  Mableton      US  45.421611  12.376187   \n3  Riviera San Nicol 11/a     Hotels  Mableton      US  45.421611  12.376187   \n4  Riviera San Nicol 11/a     Hotels  Mableton      US  45.421611  12.376187   \n\n                 name postalCode province          reviews.date  \\\n0  Hotel Russo Palace      30126       GA  2013-09-22T00:00:00Z   \n1  Hotel Russo Palace      30126       GA  2015-04-03T00:00:00Z   \n2  Hotel Russo Palace      30126       GA  2014-05-13T00:00:00Z   \n3  Hotel Russo Palace      30126       GA  2013-10-27T00:00:00Z   \n4  Hotel Russo Palace      30126       GA  2015-03-05T00:00:00Z   \n\n      reviews.dateAdded  reviews.doRecommend  reviews.id  reviews.rating  \\\n0  2016-10-24T00:00:25Z                  NaN         NaN             4.0   \n1  2016-10-24T00:00:25Z                  NaN         NaN             5.0   \n2  2016-10-24T00:00:25Z                  NaN         NaN             5.0   \n3  2016-10-24T00:00:25Z                  NaN         NaN             5.0   \n4  2016-10-24T00:00:25Z                  NaN         NaN             5.0   \n\n                                        reviews.text  \\\n0  Pleasant 10 min walk along the sea front to th...   \n1  Really lovely hotel. Stayed on the very top fl...   \n2  Ett mycket bra hotell. Det som drog ner betyge...   \n3  We stayed here for four nights in October. The...   \n4  We stayed here for four nights in October. The...   \n\n                        reviews.title reviews.userCity reviews.username  \\\n0  Good location away from the crouds              NaN      Russ (kent)   \n1      Great hotel with Jacuzzi bath!              NaN       A Traveler   \n2                         Lugnt l��ge              NaN             Maud   \n3          Good location on the Lido.              NaN            Julie   \n4              ������ ���������������              NaN         sungchul   \n\n  reviews.userProvince  \n0                  NaN  \n1                  NaN  \n2                  NaN  \n3                  NaN  \n4                  NaN  ",
      "text/html": "<div>\n<style scoped>\n    .dataframe tbody tr th:only-of-type {\n        vertical-align: middle;\n    }\n\n    .dataframe tbody tr th {\n        vertical-align: top;\n    }\n\n    .dataframe thead th {\n        text-align: right;\n    }\n</style>\n<table border=\"1\" class=\"dataframe\">\n  <thead>\n    <tr style=\"text-align: right;\">\n      <th></th>\n      <th>address</th>\n      <th>categories</th>\n      <th>city</th>\n      <th>country</th>\n      <th>latitude</th>\n      <th>longitude</th>\n      <th>name</th>\n      <th>postalCode</th>\n      <th>province</th>\n      <th>reviews.date</th>\n      <th>reviews.dateAdded</th>\n      <th>reviews.doRecommend</th>\n      <th>reviews.id</th>\n      <th>reviews.rating</th>\n      <th>reviews.text</th>\n      <th>reviews.title</th>\n      <th>reviews.userCity</th>\n      <th>reviews.username</th>\n      <th>reviews.userProvince</th>\n    </tr>\n  </thead>\n  <tbody>\n    <tr>\n      <th>0</th>\n      <td>Riviera San Nicol 11/a</td>\n      <td>Hotels</td>\n      <td>Mableton</td>\n      <td>US</td>\n      <td>45.421611</td>\n      <td>12.376187</td>\n      <td>Hotel Russo Palace</td>\n      <td>30126</td>\n      <td>GA</td>\n      <td>2013-09-22T00:00:00Z</td>\n      <td>2016-10-24T00:00:25Z</td>\n      <td>NaN</td>\n      <td>NaN</td>\n      <td>4.0</td>\n      <td>Pleasant 10 min walk along the sea front to th...</td>\n      <td>Good location away from the crouds</td>\n      <td>NaN</td>\n      <td>Russ (kent)</td>\n      <td>NaN</td>\n    </tr>\n    <tr>\n      <th>1</th>\n      <td>Riviera San Nicol 11/a</td>\n      <td>Hotels</td>\n      <td>Mableton</td>\n      <td>US</td>\n      <td>45.421611</td>\n      <td>12.376187</td>\n      <td>Hotel Russo Palace</td>\n      <td>30126</td>\n      <td>GA</td>\n      <td>2015-04-03T00:00:00Z</td>\n      <td>2016-10-24T00:00:25Z</td>\n      <td>NaN</td>\n      <td>NaN</td>\n      <td>5.0</td>\n      <td>Really lovely hotel. Stayed on the very top fl...</td>\n      <td>Great hotel with Jacuzzi bath!</td>\n      <td>NaN</td>\n      <td>A Traveler</td>\n      <td>NaN</td>\n    </tr>\n    <tr>\n      <th>2</th>\n      <td>Riviera San Nicol 11/a</td>\n      <td>Hotels</td>\n      <td>Mableton</td>\n      <td>US</td>\n      <td>45.421611</td>\n      <td>12.376187</td>\n      <td>Hotel Russo Palace</td>\n      <td>30126</td>\n      <td>GA</td>\n      <td>2014-05-13T00:00:00Z</td>\n      <td>2016-10-24T00:00:25Z</td>\n      <td>NaN</td>\n      <td>NaN</td>\n      <td>5.0</td>\n      <td>Ett mycket bra hotell. Det som drog ner betyge...</td>\n      <td>Lugnt l��ge</td>\n      <td>NaN</td>\n      <td>Maud</td>\n      <td>NaN</td>\n    </tr>\n    <tr>\n      <th>3</th>\n      <td>Riviera San Nicol 11/a</td>\n      <td>Hotels</td>\n      <td>Mableton</td>\n      <td>US</td>\n      <td>45.421611</td>\n      <td>12.376187</td>\n      <td>Hotel Russo Palace</td>\n      <td>30126</td>\n      <td>GA</td>\n      <td>2013-10-27T00:00:00Z</td>\n      <td>2016-10-24T00:00:25Z</td>\n      <td>NaN</td>\n      <td>NaN</td>\n      <td>5.0</td>\n      <td>We stayed here for four nights in October. The...</td>\n      <td>Good location on the Lido.</td>\n      <td>NaN</td>\n      <td>Julie</td>\n      <td>NaN</td>\n    </tr>\n    <tr>\n      <th>4</th>\n      <td>Riviera San Nicol 11/a</td>\n      <td>Hotels</td>\n      <td>Mableton</td>\n      <td>US</td>\n      <td>45.421611</td>\n      <td>12.376187</td>\n      <td>Hotel Russo Palace</td>\n      <td>30126</td>\n      <td>GA</td>\n      <td>2015-03-05T00:00:00Z</td>\n      <td>2016-10-24T00:00:25Z</td>\n      <td>NaN</td>\n      <td>NaN</td>\n      <td>5.0</td>\n      <td>We stayed here for four nights in October. The...</td>\n      <td>������ ���������������</td>\n      <td>NaN</td>\n      <td>sungchul</td>\n      <td>NaN</td>\n    </tr>\n  </tbody>\n</table>\n</div>"
     },
     "execution_count": 1,
     "metadata": {},
     "output_type": "execute_result"
    }
   ],
   "source": [
    "import pandas as pd\n",
    "\n",
    "data = pd.read_csv(\"DATA/Text_Cluster/7282_1.csv\")\n",
    "print(data.info())\n",
    "data.head()"
   ],
   "metadata": {
    "collapsed": false,
    "pycharm": {
     "name": "#%%\n"
    }
   }
  },
  {
   "cell_type": "markdown",
   "source": [
    "# 2/ Exploring data"
   ],
   "metadata": {
    "collapsed": false
   }
  },
  {
   "cell_type": "code",
   "execution_count": 2,
   "outputs": [
    {
     "name": "stdout",
     "output_type": "stream",
     "text": [
      "<class 'pandas.core.frame.DataFrame'>\n",
      "RangeIndex: 35912 entries, 0 to 35911\n",
      "Data columns (total 19 columns):\n",
      " #   Column                Non-Null Count  Dtype  \n",
      "---  ------                --------------  -----  \n",
      " 0   address               35912 non-null  object \n",
      " 1   categories            35912 non-null  object \n",
      " 2   city                  35912 non-null  object \n",
      " 3   country               35912 non-null  object \n",
      " 4   latitude              35826 non-null  float64\n",
      " 5   longitude             35826 non-null  float64\n",
      " 6   name                  35912 non-null  object \n",
      " 7   postalcode            35857 non-null  object \n",
      " 8   province              35912 non-null  object \n",
      " 9   reviews_date          35653 non-null  object \n",
      " 10  reviews_dateadded     35912 non-null  object \n",
      " 11  reviews_dorecommend   0 non-null      float64\n",
      " 12  reviews_id            0 non-null      float64\n",
      " 13  reviews_rating        35050 non-null  float64\n",
      " 14  reviews_text          35890 non-null  object \n",
      " 15  reviews_title         34290 non-null  object \n",
      " 16  reviews_usercity      16263 non-null  object \n",
      " 17  reviews_username      35869 non-null  object \n",
      " 18  reviews_userprovince  17518 non-null  object \n",
      "dtypes: float64(5), object(14)\n",
      "memory usage: 5.2+ MB\n",
      "None\n"
     ]
    },
    {
     "data": {
      "text/plain": "                  address categories      city country   latitude  longitude  \\\n0  Riviera San Nicol 11/a     Hotels  Mableton      US  45.421611  12.376187   \n1  Riviera San Nicol 11/a     Hotels  Mableton      US  45.421611  12.376187   \n2  Riviera San Nicol 11/a     Hotels  Mableton      US  45.421611  12.376187   \n3  Riviera San Nicol 11/a     Hotels  Mableton      US  45.421611  12.376187   \n4  Riviera San Nicol 11/a     Hotels  Mableton      US  45.421611  12.376187   \n\n                 name postalcode province          reviews_date  \\\n0  Hotel Russo Palace      30126       GA  2013-09-22T00:00:00Z   \n1  Hotel Russo Palace      30126       GA  2015-04-03T00:00:00Z   \n2  Hotel Russo Palace      30126       GA  2014-05-13T00:00:00Z   \n3  Hotel Russo Palace      30126       GA  2013-10-27T00:00:00Z   \n4  Hotel Russo Palace      30126       GA  2015-03-05T00:00:00Z   \n\n      reviews_dateadded  reviews_dorecommend  reviews_id  reviews_rating  \\\n0  2016-10-24T00:00:25Z                  NaN         NaN             4.0   \n1  2016-10-24T00:00:25Z                  NaN         NaN             5.0   \n2  2016-10-24T00:00:25Z                  NaN         NaN             5.0   \n3  2016-10-24T00:00:25Z                  NaN         NaN             5.0   \n4  2016-10-24T00:00:25Z                  NaN         NaN             5.0   \n\n                                        reviews_text  \\\n0  Pleasant 10 min walk along the sea front to th...   \n1  Really lovely hotel. Stayed on the very top fl...   \n2  Ett mycket bra hotell. Det som drog ner betyge...   \n3  We stayed here for four nights in October. The...   \n4  We stayed here for four nights in October. The...   \n\n                        reviews_title reviews_usercity reviews_username  \\\n0  Good location away from the crouds              NaN      Russ (kent)   \n1      Great hotel with Jacuzzi bath!              NaN       A Traveler   \n2                         Lugnt l��ge              NaN             Maud   \n3          Good location on the Lido.              NaN            Julie   \n4              ������ ���������������              NaN         sungchul   \n\n  reviews_userprovince  \n0                  NaN  \n1                  NaN  \n2                  NaN  \n3                  NaN  \n4                  NaN  ",
      "text/html": "<div>\n<style scoped>\n    .dataframe tbody tr th:only-of-type {\n        vertical-align: middle;\n    }\n\n    .dataframe tbody tr th {\n        vertical-align: top;\n    }\n\n    .dataframe thead th {\n        text-align: right;\n    }\n</style>\n<table border=\"1\" class=\"dataframe\">\n  <thead>\n    <tr style=\"text-align: right;\">\n      <th></th>\n      <th>address</th>\n      <th>categories</th>\n      <th>city</th>\n      <th>country</th>\n      <th>latitude</th>\n      <th>longitude</th>\n      <th>name</th>\n      <th>postalcode</th>\n      <th>province</th>\n      <th>reviews_date</th>\n      <th>reviews_dateadded</th>\n      <th>reviews_dorecommend</th>\n      <th>reviews_id</th>\n      <th>reviews_rating</th>\n      <th>reviews_text</th>\n      <th>reviews_title</th>\n      <th>reviews_usercity</th>\n      <th>reviews_username</th>\n      <th>reviews_userprovince</th>\n    </tr>\n  </thead>\n  <tbody>\n    <tr>\n      <th>0</th>\n      <td>Riviera San Nicol 11/a</td>\n      <td>Hotels</td>\n      <td>Mableton</td>\n      <td>US</td>\n      <td>45.421611</td>\n      <td>12.376187</td>\n      <td>Hotel Russo Palace</td>\n      <td>30126</td>\n      <td>GA</td>\n      <td>2013-09-22T00:00:00Z</td>\n      <td>2016-10-24T00:00:25Z</td>\n      <td>NaN</td>\n      <td>NaN</td>\n      <td>4.0</td>\n      <td>Pleasant 10 min walk along the sea front to th...</td>\n      <td>Good location away from the crouds</td>\n      <td>NaN</td>\n      <td>Russ (kent)</td>\n      <td>NaN</td>\n    </tr>\n    <tr>\n      <th>1</th>\n      <td>Riviera San Nicol 11/a</td>\n      <td>Hotels</td>\n      <td>Mableton</td>\n      <td>US</td>\n      <td>45.421611</td>\n      <td>12.376187</td>\n      <td>Hotel Russo Palace</td>\n      <td>30126</td>\n      <td>GA</td>\n      <td>2015-04-03T00:00:00Z</td>\n      <td>2016-10-24T00:00:25Z</td>\n      <td>NaN</td>\n      <td>NaN</td>\n      <td>5.0</td>\n      <td>Really lovely hotel. Stayed on the very top fl...</td>\n      <td>Great hotel with Jacuzzi bath!</td>\n      <td>NaN</td>\n      <td>A Traveler</td>\n      <td>NaN</td>\n    </tr>\n    <tr>\n      <th>2</th>\n      <td>Riviera San Nicol 11/a</td>\n      <td>Hotels</td>\n      <td>Mableton</td>\n      <td>US</td>\n      <td>45.421611</td>\n      <td>12.376187</td>\n      <td>Hotel Russo Palace</td>\n      <td>30126</td>\n      <td>GA</td>\n      <td>2014-05-13T00:00:00Z</td>\n      <td>2016-10-24T00:00:25Z</td>\n      <td>NaN</td>\n      <td>NaN</td>\n      <td>5.0</td>\n      <td>Ett mycket bra hotell. Det som drog ner betyge...</td>\n      <td>Lugnt l��ge</td>\n      <td>NaN</td>\n      <td>Maud</td>\n      <td>NaN</td>\n    </tr>\n    <tr>\n      <th>3</th>\n      <td>Riviera San Nicol 11/a</td>\n      <td>Hotels</td>\n      <td>Mableton</td>\n      <td>US</td>\n      <td>45.421611</td>\n      <td>12.376187</td>\n      <td>Hotel Russo Palace</td>\n      <td>30126</td>\n      <td>GA</td>\n      <td>2013-10-27T00:00:00Z</td>\n      <td>2016-10-24T00:00:25Z</td>\n      <td>NaN</td>\n      <td>NaN</td>\n      <td>5.0</td>\n      <td>We stayed here for four nights in October. The...</td>\n      <td>Good location on the Lido.</td>\n      <td>NaN</td>\n      <td>Julie</td>\n      <td>NaN</td>\n    </tr>\n    <tr>\n      <th>4</th>\n      <td>Riviera San Nicol 11/a</td>\n      <td>Hotels</td>\n      <td>Mableton</td>\n      <td>US</td>\n      <td>45.421611</td>\n      <td>12.376187</td>\n      <td>Hotel Russo Palace</td>\n      <td>30126</td>\n      <td>GA</td>\n      <td>2015-03-05T00:00:00Z</td>\n      <td>2016-10-24T00:00:25Z</td>\n      <td>NaN</td>\n      <td>NaN</td>\n      <td>5.0</td>\n      <td>We stayed here for four nights in October. The...</td>\n      <td>������ ���������������</td>\n      <td>NaN</td>\n      <td>sungchul</td>\n      <td>NaN</td>\n    </tr>\n  </tbody>\n</table>\n</div>"
     },
     "execution_count": 2,
     "metadata": {},
     "output_type": "execute_result"
    }
   ],
   "source": [
    "# edit columns names\n",
    "data.columns = data.columns.str.strip().str.lower().str.replace('.', '_')\n",
    "print(data.info())\n",
    "data.head()"
   ],
   "metadata": {
    "collapsed": false,
    "pycharm": {
     "name": "#%%\n"
    }
   }
  },
  {
   "cell_type": "code",
   "execution_count": 124,
   "outputs": [
    {
     "data": {
      "text/plain": "(35912,)"
     },
     "execution_count": 124,
     "metadata": {},
     "output_type": "execute_result"
    }
   ],
   "source": [
    "import numpy as np\n",
    "# array of review_texts\n",
    "texts = np.array(data['reviews_text'].astype(str))\n",
    "texts.shape"
   ],
   "metadata": {
    "collapsed": false,
    "pycharm": {
     "name": "#%%\n"
    }
   }
  },
  {
   "cell_type": "code",
   "execution_count": 119,
   "outputs": [
    {
     "data": {
      "text/plain": "\"Pleasant 10 min walk along the sea front to the Water Bus. restaurants etc. Hotel was comfortable breakfast was good - quite a variety. Room aircon didn't work very well. Take mosquito repelant!\""
     },
     "execution_count": 119,
     "metadata": {},
     "output_type": "execute_result"
    }
   ],
   "source": [],
   "metadata": {
    "collapsed": false,
    "pycharm": {
     "name": "#%%\n"
    }
   }
  },
  {
   "cell_type": "code",
   "execution_count": 60,
   "outputs": [
    {
     "name": "stderr",
     "output_type": "stream",
     "text": [
      "[nltk_data] Downloading package punkt to\n",
      "[nltk_data]     C:\\Users\\zacha\\AppData\\Roaming\\nltk_data...\n",
      "[nltk_data]   Package punkt is already up-to-date!\n"
     ]
    },
    {
     "data": {
      "text/plain": "(138301,)"
     },
     "execution_count": 60,
     "metadata": {},
     "output_type": "execute_result"
    }
   ],
   "source": [
    "import nltk\n",
    "nltk.download('punkt')\n",
    "from nltk import sent_tokenize\n",
    "from functools import reduce\n",
    "import numpy as np\n",
    "\n",
    "# tokenize each element (comment) in the texts into sentences: list of lists\n",
    "token_texts = list(map(lambda x: sent_tokenize(str(x)),texts))\n",
    "\n",
    "# put all sentences together as one array\n",
    "sentences = np.array(reduce(lambda x,y: x+y,token_texts))\n",
    "print(\"sentences.shape = \", sentences.shape)"
   ],
   "metadata": {
    "collapsed": false,
    "pycharm": {
     "name": "#%%\n"
    }
   }
  },
  {
   "cell_type": "markdown",
   "source": [
    "# 3/ Latent Semantic Analysis (LSA)\n",
    "- Creating document-term matrix: using TfidfVectorizer\n",
    "- Extracting features: using TruncatedSVD (for spare matrix)"
   ],
   "metadata": {
    "collapsed": false
   }
  },
  {
   "cell_type": "code",
   "execution_count": 72,
   "outputs": [
    {
     "data": {
      "text/plain": "(138301, 20)"
     },
     "execution_count": 72,
     "metadata": {},
     "output_type": "execute_result"
    }
   ],
   "source": [
    "from sklearn.feature_extraction.text import TfidfVectorizer\n",
    "from sklearn.decomposition import TruncatedSVD\n",
    "from sklearn.pipeline import Pipeline\n",
    "from sklearn.preprocessing import Normalizer\n",
    "lsa = Pipeline([(\"tfidf\",TfidfVectorizer(ngram_range=(1,2),stop_words='english')),\n",
    "                 (\"svd\",TruncatedSVD(n_components=20)),\n",
    "                 (\"normalizer\",Normalizer())])\n",
    "lsa_sentences = lsa.fit_transform(sentences)\n",
    "lsa_sentences.shape"
   ],
   "metadata": {
    "collapsed": false,
    "pycharm": {
     "name": "#%%\n"
    }
   }
  },
  {
   "cell_type": "markdown",
   "source": [
    "# 4/ Unsupervised model: KMeans"
   ],
   "metadata": {
    "collapsed": false
   }
  },
  {
   "cell_type": "code",
   "execution_count": 73,
   "outputs": [
    {
     "data": {
      "text/plain": "KMeans(algorithm='auto', copy_x=True, init='k-means++', max_iter=300,\n       n_clusters=10, n_init=10, n_jobs=None, precompute_distances='auto',\n       random_state=None, tol=0.0001, verbose=0)"
     },
     "execution_count": 73,
     "metadata": {},
     "output_type": "execute_result"
    }
   ],
   "source": [
    "from sklearn.cluster import KMeans\n",
    "cluster = KMeans(n_clusters=10)\n",
    "cluster.fit(lsa_sentences)\n"
   ],
   "metadata": {
    "collapsed": false,
    "pycharm": {
     "name": "#%%\n"
    }
   }
  },
  {
   "cell_type": "code",
   "execution_count": 75,
   "outputs": [
    {
     "data": {
      "text/plain": "array([0, 9, 5, ..., 9, 0, 9])"
     },
     "execution_count": 75,
     "metadata": {},
     "output_type": "execute_result"
    }
   ],
   "source": [
    "cluster_predicted = cluster.predict(lsa_sentences)\n",
    "cluster_predicted\n"
   ],
   "metadata": {
    "collapsed": false,
    "pycharm": {
     "name": "#%%\n"
    }
   }
  },
  {
   "cell_type": "code",
   "execution_count": 76,
   "outputs": [
    {
     "data": {
      "text/plain": "Counter({0: 35217,\n         9: 19339,\n         5: 8668,\n         6: 12763,\n         8: 12124,\n         3: 17876,\n         4: 9644,\n         7: 7706,\n         1: 6687,\n         2: 8277})"
     },
     "execution_count": 76,
     "metadata": {},
     "output_type": "execute_result"
    }
   ],
   "source": [
    "from collections import Counter\n",
    "Counter(cluster_predicted)\n",
    "\n"
   ],
   "metadata": {
    "collapsed": false,
    "pycharm": {
     "name": "#%%\n"
    }
   }
  },
  {
   "cell_type": "code",
   "execution_count": 85,
   "outputs": [],
   "source": [
    "centroids = cluster.cluster_centers_"
   ],
   "metadata": {
    "collapsed": false,
    "pycharm": {
     "name": "#%%\n"
    }
   }
  },
  {
   "cell_type": "code",
   "execution_count": 86,
   "outputs": [],
   "source": [
    "original_centroids = lsa.steps[1][1].inverse_transform(centroids)"
   ],
   "metadata": {
    "collapsed": false,
    "pycharm": {
     "name": "#%%\n"
    }
   }
  },
  {
   "cell_type": "code",
   "execution_count": 87,
   "outputs": [],
   "source": [
    "original_centroids_ordered = original_centroids.argsort()[:, ::-1]"
   ],
   "metadata": {
    "collapsed": false,
    "pycharm": {
     "name": "#%%\n"
    }
   }
  },
  {
   "cell_type": "code",
   "execution_count": 84,
   "outputs": [
    {
     "data": {
      "text/plain": "['00',\n '00 01',\n '00 125',\n '00 150',\n '00 20',\n '00 24',\n '00 30',\n '00 600',\n '00 additional',\n '00 adult',\n '00 arrival',\n '00 arrived',\n '00 asked',\n '00 bed',\n '00 bedroom',\n '00 beginning',\n '00 believe',\n '00 better',\n '00 big',\n '00 booking',\n '00 bottle',\n '00 bowl',\n '00 breakfast',\n '00 buffet',\n '00 cash',\n '00 catch',\n '00 ceramic',\n '00 champagne',\n '00 charge',\n '00 cheaper',\n '00 check',\n '00 checked',\n '00 checkout',\n '00 child',\n '00 children',\n '00 cleaning',\n '00 coffee',\n '00 collapsed',\n '00 compared',\n '00 comping',\n '00 couldn',\n '00 credit',\n '00 day',\n '00 days',\n '00 dear',\n '00 decided',\n '00 deposit',\n '00 did',\n '00 didn',\n '00 dinner',\n '00 discount',\n '00 displeased',\n '00 dog',\n '00 dollar',\n '00 dollars',\n '00 door',\n '00 dress',\n '00 drinking',\n '00 driving',\n '00 du',\n '00 early',\n '00 effort',\n '00 entire',\n '00 etwas',\n '00 euro',\n '00 event',\n '00 expect',\n '00 fantastic',\n '00 fee',\n '00 fish',\n '00 friday',\n '00 gift',\n '00 going',\n '00 got',\n '00 great',\n '00 hamburgers',\n '00 hard',\n '00 held',\n '00 helpful',\n '00 hold',\n '00 horas',\n '00 hotel',\n '00 hs',\n '00 incidental',\n '00 july',\n '00 just',\n '00 knock',\n '00 later',\n '00 le',\n '00 leave',\n '00 min',\n '00 minute',\n '00 monday',\n '00 morning',\n '00 nice',\n '00 night',\n '00 nights',\n '00 noon',\n '00 ok',\n '00 paid',\n '00 parking',\n '00 party',\n '00 person',\n '00 pet',\n '00 pfand',\n '00 plus',\n '00 pm',\n '00 price',\n '00 proceeded',\n '00 quick',\n '00 recetionist',\n '00 redicilious',\n '00 rent',\n '00 requested',\n '00 restocked',\n '00 right',\n '00 room',\n '00 rooms',\n '00 satisfied',\n '00 saturday',\n '00 security',\n '00 self',\n '00 sleep',\n '00 soon',\n '00 sort',\n '00 sound',\n '00 sounds',\n '00 stay',\n '00 street',\n '00 suite',\n '00 sunday',\n '00 surcharge',\n '00 tax',\n '00 taxing',\n '00 tell',\n '00 thanks',\n '00 think',\n '00 thursday',\n '00 told',\n '00 took',\n '00 traffic',\n '00 twice',\n '00 uhr',\n '00 und',\n '00 usd',\n '00 use',\n '00 value',\n '00 visit',\n '00 voucher',\n '00 wasn',\n '00 way',\n '00 went',\n '00 west',\n '00 winston',\n '00 won',\n '00 worked',\n '000',\n '000 00',\n '000 bonus',\n '000 feet',\n '000 ihg',\n '000 km',\n '000 mile',\n '000 plus',\n '000 point',\n '000 points',\n '000 residents',\n '000 room',\n '000 square',\n '000 tourist',\n '000 vehicle',\n '0000',\n '0002',\n '0002 fax',\n '00am',\n '00am 10',\n '00am 30',\n '00am able',\n '00am apologize',\n '00am causing',\n '00am crowd',\n '00am group',\n '00am informed',\n '00am long',\n '00am morning',\n '00am nights',\n '00am obnoxious',\n '00am room',\n '00am went',\n '00am woken',\n '00am ws',\n '00dcopxqg',\n '00dcopxqg 5001a19grvb',\n '00dollar',\n '00dollar day',\n '00n',\n '00n saturday',\n '00p',\n '00p midnight',\n '00pm',\n '00pm 00am',\n '00pm 25',\n '00pm adults',\n '00pm arrive',\n '00pm check',\n '00pm checkout',\n '00pm cold',\n '00pm day',\n '00pm fact',\n '00pm flight',\n '00pm got',\n '00pm pool',\n '00pm rent',\n '00pm river',\n '00pm room',\n '00pm saturday',\n '00pm towels',\n '00pm tried',\n '01',\n '01 02',\n '01 11',\n '01 30',\n '01 charge',\n '01 garden',\n '01 rooms',\n '02',\n '02 00',\n '02 17',\n '02 floors',\n '02 small',\n '0200',\n '0200 morning',\n '03',\n '03 quartos',\n '0300am',\n '0300am car',\n '0330',\n '0330 key',\n '03am',\n '03am calling',\n '03am check',\n '03mbps',\n '04',\n '04 2016',\n '04 25am',\n '04 dismantling',\n '0400',\n '05',\n '05 2008',\n '05 opened',\n '054',\n '054 excellent',\n '0555',\n '05h30',\n '05h30 du',\n '06',\n '06 2016',\n '06 oh',\n '06 smyrna',\n '0600',\n '07',\n '07 07',\n '07 2015',\n '07 day',\n '07 went',\n '08',\n '08 07',\n '08 09',\n '08 2015',\n '08 bbegan',\n '08 keypad',\n '08 weeks',\n '0815',\n '0815 0830',\n '0830',\n '0830 1st',\n '09',\n '09 09',\n '09 30',\n '09 fine',\n '09 motel',\n '0900',\n '0930',\n '0930 everyday',\n '0ne',\n '0ne clerk',\n '10',\n '10 00',\n '10 000',\n '10 00am',\n '10 00p',\n '10 00pm',\n '10 06',\n '10 10',\n '10 11',\n '10 11pm',\n '10 12',\n '10 13years',\n '10 14',\n '10 15',\n '10 150lbs',\n '10 15min',\n '10 15pm',\n '10 16',\n '10 17',\n '10 20',\n '10 2008',\n '10 2015',\n '10 2016',\n '10 20am',\n '10 215',\n '10 23',\n '10 27',\n '10 30',\n '10 30am',\n '10 30p',\n '10 30pm',\n '10 35pm',\n '10 40',\n '10 45',\n '10 45pm',\n '10 50',\n '10 9am',\n '10 able',\n '10 amazing',\n '10 answer',\n '10 asking',\n '10 asleep',\n '10 attempted',\n '10 balconies',\n '10 beach',\n '10 bed',\n '10 big',\n '10 blocks',\n '10 book',\n '10 booked',\n '10 breakfast',\n '10 buffet',\n '10 business',\n '10 came',\n '10 cars',\n '10 casino',\n '10 catered',\n '10 cause',\n '10 cert',\n '10 champion',\n '10 chanels',\n '10 charge',\n '10 cheaply',\n '10 check',\n '10 child',\n '10 clock',\n '10 close',\n '10 come',\n '10 convenient',\n '10 couple',\n '10 coupon',\n '10 crappiest',\n '10 daily',\n '10 day',\n '10 days',\n '10 dead',\n '10 degree',\n '10 desk',\n '10 different',\n '10 discount',\n '10 does',\n '10 dog',\n '10 dollars',\n '10 don',\n '10 euro',\n '10 euros',\n '10 evening',\n '10 exceptional',\n '10 extra',\n '10 feet',\n '10 floors',\n '10 food',\n '10 free',\n '10 friday',\n '10 gamble',\n '10 gives',\n '10 good',\n '10 got',\n '10 guys',\n '10 help',\n '10 helpfulness',\n '10 hotel',\n '10 hour',\n '10 hours',\n '10 hr',\n '10 includes',\n '10 just',\n '10 kids',\n '10 kilometers',\n '10 km',\n '10 legal',\n '10 management',\n '10 marginal',\n '10 meant',\n '10 mere',\n '10 midnight',\n '10 mile',\n '10 miles',\n '10 min',\n '10 mini',\n '10 mins',\n '10 minute',\n '10 minuten',\n '10 minutes',\n '10 minuti',\n '10 minuuttia',\n '10 mnaders',\n '10 morning',\n '10 motel',\n '10 near',\n '10 need',\n '10 negative',\n '10 new',\n '10 nice',\n '10 night',\n '10 nights',\n '10 october',\n '10 onsite',\n '10 opinion',\n '10 overall',\n '10 oz',\n '10 packed',\n '10 park',\n '10 parking',\n '10 people',\n '10 peoples',\n '10 perfect',\n '10 person',\n '10 pet',\n '10 pillows',\n '10 plans',\n '10 plus',\n '10 pm',\n '10 programs',\n '10 rate',\n '10 receive',\n '10 red',\n '10 resort',\n '10 restaurant',\n '10 returned',\n '10 reviewers',\n '10 room',\n '10 rooms',\n '10 sat',\n '10 saturday',\n '10 say',\n '10 scale',\n '10 scream',\n '10 seattle',\n '10 seconds',\n '10 seen',\n '10 service',\n '10 shuttles',\n '10 soup',\n '10 spiff',\n '10 stay',\n '10 stayed',\n '10 steps',\n '10 sunshine',\n '10 tell',\n '10 til',\n '10 times',\n '10 total',\n '10 turned',\n '10 tv',\n '10 tyrell',\n '10 using',\n '10 valet',\n '10 ve',\n '10 view',\n '10 vine',\n '10 visiting',\n '10 walk',\n '10 way',\n '10 weather',\n '10 weekdays',\n '10 went',\n '10 worth',\n '10 year',\n '10 years',\n '10 yo',\n '10 yr',\n '10 yrs',\n '100',\n '100 00',\n '100 100',\n '100 acres',\n '100 additional',\n '100 basic',\n '100 beat',\n '100 better',\n '100 big',\n '100 broken',\n '100 bucks',\n '100 cab',\n '100 card',\n '100 cash',\n '100 changed',\n '100 channels',\n '100 charge',\n '100 cheaper',\n '100 clean',\n '100 comforted',\n '100 compared',\n '100 credit',\n '100 damage',\n '100 darkness',\n '100 day',\n '100 degree',\n '100 degrees',\n '100 deposit',\n '100 disabled',\n '100 dogs',\n '100 dollar',\n '100 dollars',\n '100 euros',\n '100 explanation',\n '100 fee',\n '100 feet',\n '100 floor',\n '100 ft',\n '100 gift',\n '100 guarantee',\n '100 guests',\n '100 hold',\n '100 hotel',\n '100 housekeeping',\n '100 including',\n '100 km',\n '100 la',\n '100 lbs',\n '100 like',\n '100 locations',\n '100 maximum',\n '100 meter',\n '100 meters',\n '100 metres',\n '100 metros',\n '100 mile',\n '100 month',\n '100 night',\n '100 nights',\n '100 non',\n '100 outside',\n '100 paid',\n '100 people',\n '100 percent',\n '100 pesos',\n '100 pet',\n '100 pool',\n '100 pound',\n '100 price',\n '100 range',\n '100 ransom',\n '100 recomendable',\n '100 recommend',\n '100 refund',\n '100 room',\n '100 rooms',\n '100 satisfied',\n '100 series',\n '100 smoke',\n '100 spotless',\n '100 st',\n '100 stay',\n '100 staying',\n '100 steps',\n '100 sure',\n '100 things',\n '100 think',\n '100 time',\n '100 times',\n '100 told',\n '100 total',\n '100 unflustered',\n '100 upgrade',\n '100 usd',\n '100 valid',\n '100 went',\n '100 words',\n '100 worth',\n '100 yard',\n '100 yards',\n '100 year',\n '100 years',\n '100 yr',\n '1000',\n '1000 day',\n '1000 hotels',\n '1000 stair',\n '1000 times',\n '10000rp',\n '10000rp didn',\n '1000am',\n '1000am asked',\n '1000x',\n '1000x easier',\n '10054',\n '10054 erie',\n '1008',\n '1008 greeted',\n '100m',\n '100m en',\n '100mb',\n '100mb waren',\n '100not',\n '100not pleased',\n '100s',\n '100s times',\n '100x',\n '100x cleaner',\n '101',\n '101 103',\n '101 bad',\n '101 bar',\n '101 checked',\n '101 fairly',\n '101 freeway',\n '101 interstate',\n '101 loud',\n '101 poor',\n '101 rien',\n '101 steady',\n '101 tissues',\n '101 traffic',\n '101 turn',\n '1013',\n '1013 lighting',\n '1015',\n '101deg',\n '101deg jets',\n '102',\n '102 00',\n '102 completely',\n '102 greatest',\n '102 ip',\n '1020',\n '1020 university',\n '103',\n '103 106',\n '103 autrement',\n '103 avec',\n '103 clean',\n '103 degree',\n '103 maybe',\n '103 offered',\n '1030',\n '1030 11pm',\n '1030 disturb',\n '1030 pm',\n '1030am',\n '1030am 1200pm',\n '1030pm',\n '1030pm sun',\n '104',\n '104 2428',\n '104 night',\n '1045pm',\n '1045pm day',\n '105',\n '105 6l',\n '105 bedroom',\n '105 faced',\n '105 hotels',\n '105 night',\n '106',\n '106 interior',\n '106 room',\n '106 telephone',\n '106 wreaked',\n '107',\n '107 believe',\n '107 florida',\n '107 property',\n '107 room',\n '108',\n '108 day',\n '108 running',\n '109',\n '109 25',\n '109 95',\n '109 degrees',\n '109 ended',\n '109 furnace',\n '109 literally',\n '109 night',\n '109 outside',\n '109 stayed',\n '109 suposed',\n '10a',\n '10am',\n '10am 10am',\n '10am 10pm',\n '10am area',\n '10am ask',\n '10am asked',\n '10am breakfast',\n '10am busy',\n '10am cabin',\n '10am don',\n '10am earlier',\n '10am enjoyable',\n '10am got',\n '10am housekeeping',\n '10am included',\n '10am left',\n '10am little',\n '10am means',\n '10am saturday',\n '10am sisters',\n '10am sleeping',\n '10am spread',\n '10am think',\n '10am told',\n '10am tough',\n '10dollars',\n '10dollars place',\n '10e',\n '10e jewel',\n '10euros',\n '10euros left',\n '10gg',\n '10gg di',\n '10ish',\n '10ish minute',\n '10k',\n '10k race',\n '10miles',\n '10miles away',\n '10min',\n '10min airport',\n '10min away',\n '10min mit',\n '10min past',\n '10min petit',\n '10min stroll',\n '10min walk',\n '10min walking',\n '10mins',\n '10mins walk',\n '10minutes',\n '10minutes come',\n '10minutes later',\n '10mn',\n '10mn et',\n '10mn marche',\n '10p',\n '10p 6a',\n '10p just',\n '10pm',\n '10pm beat',\n '10pm breakfast',\n '10pm checked',\n '10pm day',\n '10pm dirty',\n '10pm driver',\n '10pm free',\n '10pm heard',\n '10pm hotel',\n '10pm length',\n '10pm little',\n '10pm lobby',\n '10pm long',\n '10pm maids',\n '10pm meeting',\n '10pm night',\n '10pm parking',\n '10pm point',\n '10pm putting',\n '10pm room',\n '10pm smell',\n '10pm sounded',\n '10pm staff',\n '10pm think',\n '10pm using',\n '10pm wait',\n '10pm waited',\n '10th',\n '10th 11th',\n '10th double',\n '10th facing',\n '10th floor',\n '10th hole',\n '10th night',\n '10th trip',\n '10th visit',\n '10th wedding',\n '10x',\n '10x worse',\n '10yerars',\n '10yerars nice',\n '11',\n '11 00',\n '11 000',\n '11 00pm',\n '11 01',\n '11 03am',\n '11 10',\n '11 11',\n '11 12',\n '11 13',\n '11 14',\n '11 15',\n '11 15pm',\n '11 16',\n '11 19',\n '11 20',\n '11 2015',\n '11 2016',\n '11 21',\n '11 22',\n '11 225',\n '11 23',\n '11 25',\n '11 26',\n '11 2pm',\n '11 30',\n '11 30am',\n '11 30p',\n '11 30pm',\n '11 445',\n '11 45',\n '11 50',\n '11 55',\n '11 7am',\n '11 95',\n '11 believe',\n '11 blocks',\n '11 case',\n '11 challenge',\n '11 check',\n '11 clock',\n '11 come',\n '11 complained',\n '11 day',\n '11 days',\n '11 door',\n '11 en',\n '11 equivalent',\n '11 euro',\n '11 euros',\n '11 evening',\n '11 families',\n '11 following',\n '11 hey',\n '11 hotel',\n '11 hour',\n '11 hours',\n '11 iur',\n '11 johnson',\n '11 juice',\n '11 just',\n '11 let',\n '11 lots',\n '11 love',\n '11 miles',\n '11 minutes',\n '11 mon',\n '11 month',\n '11 negative',\n '11 night',\n '11 nights',\n '11 oo',\n '11 parking',\n '11 pm',\n '11 poolside',\n '11 quant',\n '11 really',\n '11 recently',\n '11 requested',\n '11 resort',\n '11 rooms',\n '11 saturday',\n '11 stay',\n '11 strict',\n '11 wanted',\n '11 women',\n '11 working',\n '11 year',\n '11 years',\n '11 yo',\n '11 yr',\n '110',\n '110 98',\n '110 night',\n '110 serving',\n '110 toilet',\n '110 worth',\n '111',\n '111 33',\n '111 night',\n '111 termited',\n '112',\n '112 clean',\n '112 impeccable',\n '112 painted',\n '112 rooms',\n '113',\n '113 00',\n '113 bed',\n '113 marked',\n '113 night',\n '1130am',\n '1130pm',\n '1130pm night',\n '114',\n '114was',\n '114was loud',\n '115',\n '115 avoid',\n '115 beginning',\n '115 close',\n '115 degrees',\n '115 rooms',\n '115 thought',\n '115 usd',\n '115 want',\n '115 weather',\n '115 worth',\n '116',\n '116 guess',\n '116 having',\n '1161',\n '117',\n '117 107',\n '117 amazing',\n '118',\n '118 00',\n '119',\n '119 night',\n '11am',\n '11am 10am',\n '11am 11',\n '11am 1pm',\n '11am 30',\n '11am 45pm',\n '11am 7pm',\n '11am billed',\n '11am check',\n '11am checkout',\n '11am don',\n '11am gave',\n '11am live',\n '11am planned',\n '11am room',\n '11amwe',\n '11amwe enjoyed',\n '11h',\n '11h da',\n '11hour',\n '11hour drive',\n '11ieme',\n '11ieme pour',\n '11ish',\n '11ish 10',\n '11p',\n '11p quiet',\n '11p step',\n '11pm',\n '11pm 5am',\n '11pm 6am',\n '11pm 9am',\n '11pm angry',\n '11pm arrival',\n '11pm brought',\n '11pm called',\n '11pm concerned',\n '11pm construction',\n '11pm friday',\n '11pm got',\n '11pm hot',\n '11pm hotel',\n '11pm hustled',\n '11pm late',\n '11pm long',\n '11pm loved',\n '11pm needed',\n '11pm noise',\n '11pm room',\n '11pm shower',\n '11pm sleep',\n '11pm sunday',\n '11pm unfortunate',\n '11pm worker',\n '11th',\n '11th 2002',\n '11th 2015and',\n '11th 2016',\n '11th celebrate',\n '11th floor',\n '11th today',\n '11th weekend',\n '11v',\n '11v ja',\n ...]"
     },
     "execution_count": 84,
     "metadata": {},
     "output_type": "execute_result"
    }
   ],
   "source": [
    "terms = lsa.steps[0][1].get_feature_names()\n",
    "terms"
   ],
   "metadata": {
    "collapsed": false,
    "pycharm": {
     "name": "#%%\n"
    }
   }
  },
  {
   "cell_type": "code",
   "execution_count": 97,
   "outputs": [
    {
     "name": "stdout",
     "output_type": "stream",
     "text": [
      "Cluster = 0:     rooms, room, enjoyed, stayed, hotel, \n",
      "Cluster = 1:     nice, nice hotel, room, hotel, nice clean, \n",
      "Cluster = 2:     stay, hotel, definitely stay, enjoyed, enjoyed stay, \n",
      "Cluster = 3:     stayed, night, nights, stayed night, hotel, \n",
      "Cluster = 4:     staff, friendly, helpful, staff friendly, friendly staff, \n",
      "Cluster = 5:     breakfast, breakfast good, free, free breakfast, breakfast great, \n",
      "Cluster = 6:     room, room clean, room nice, rooms, spacious, \n",
      "Cluster = 7:     great, location, great location, hotel, great stay, \n",
      "Cluster = 8:     hotel, hotel clean, nice hotel, great hotel, hotel staff, \n",
      "Cluster = 9:     good, clean, comfortable, location, place, \n"
     ]
    }
   ],
   "source": [
    "for i in range(10):\n",
    "    print(f\"Cluster = {i}:     \",end='')\n",
    "    for j in range(5):\n",
    "        print(f\"{terms[original_centroids_ordered[i,j]]}, \", end='')\n",
    "    print()\n"
   ],
   "metadata": {
    "collapsed": false,
    "pycharm": {
     "name": "#%%\n"
    }
   }
  },
  {
   "cell_type": "code",
   "execution_count": 89,
   "outputs": [
    {
     "data": {
      "text/plain": "(10, 345451)"
     },
     "execution_count": 89,
     "metadata": {},
     "output_type": "execute_result"
    }
   ],
   "source": [
    "original_centroids_ordered.shape\n",
    "\n"
   ],
   "metadata": {
    "collapsed": false,
    "pycharm": {
     "name": "#%%\n"
    }
   }
  },
  {
   "cell_type": "code",
   "execution_count": 90,
   "outputs": [
    {
     "data": {
      "text/plain": "array([258809, 256154, 100207, ..., 256697,  56687,  56840], dtype=int64)"
     },
     "execution_count": 90,
     "metadata": {},
     "output_type": "execute_result"
    }
   ],
   "source": [
    "original_centroids_ordered[0]\n",
    "\n"
   ],
   "metadata": {
    "collapsed": false,
    "pycharm": {
     "name": "#%%\n"
    }
   }
  },
  {
   "cell_type": "code",
   "execution_count": 91,
   "outputs": [
    {
     "data": {
      "text/plain": "array([ 5.43507136e-03,  8.61442626e-05,  1.75228432e-05, ...,\n       -3.91242520e-14, -1.47991918e-15, -1.47991918e-15])"
     },
     "execution_count": 91,
     "metadata": {},
     "output_type": "execute_result"
    }
   ],
   "source": [
    "original_centroids[0]"
   ],
   "metadata": {
    "collapsed": false,
    "pycharm": {
     "name": "#%%\n"
    }
   }
  },
  {
   "cell_type": "code",
   "execution_count": 99,
   "outputs": [
    {
     "data": {
      "text/plain": "(35912,)"
     },
     "execution_count": 99,
     "metadata": {},
     "output_type": "execute_result"
    }
   ],
   "source": [
    "texts.shape"
   ],
   "metadata": {
    "collapsed": false,
    "pycharm": {
     "name": "#%%\n"
    }
   }
  },
  {
   "cell_type": "code",
   "execution_count": 125,
   "outputs": [],
   "source": [
    "import sys\n",
    "sys.path.insert(1,'E:\\DUY\\DS\\deeplearning\\CustomTools')\n",
    "import natural_language_processing_tools as nlpt\n",
    "texts_cleaned = nlpt.normalize_corpus(texts,html_stripping=False)\n"
   ],
   "metadata": {
    "collapsed": false,
    "pycharm": {
     "name": "#%%\n"
    }
   }
  },
  {
   "cell_type": "code",
   "execution_count": 115,
   "outputs": [
    {
     "data": {
      "text/plain": "numpy.ndarray"
     },
     "execution_count": 115,
     "metadata": {},
     "output_type": "execute_result"
    }
   ],
   "source": [
    "type(texts)\n"
   ],
   "metadata": {
    "collapsed": false,
    "pycharm": {
     "name": "#%%\n"
    }
   }
  },
  {
   "cell_type": "code",
   "execution_count": 134,
   "outputs": [
    {
     "data": {
      "text/plain": "list"
     },
     "execution_count": 134,
     "metadata": {},
     "output_type": "execute_result"
    }
   ],
   "source": [
    "type(texts_cleaned)\n"
   ],
   "metadata": {
    "collapsed": false,
    "pycharm": {
     "name": "#%%\n"
    }
   }
  },
  {
   "cell_type": "code",
   "execution_count": 135,
   "outputs": [
    {
     "data": {
      "text/plain": "'pleasant 10 min walk along sea front water bus restaurant etc hotel comfortable breakfast good quite variety room aircon not work well take mosquito repelant'"
     },
     "execution_count": 135,
     "metadata": {},
     "output_type": "execute_result"
    }
   ],
   "source": [
    "texts_cleaned[0]"
   ],
   "metadata": {
    "collapsed": false,
    "pycharm": {
     "name": "#%%\n"
    }
   }
  },
  {
   "cell_type": "code",
   "execution_count": null,
   "outputs": [],
   "source": [
    "\n"
   ],
   "metadata": {
    "collapsed": false,
    "pycharm": {
     "name": "#%%\n"
    }
   }
  }
 ],
 "metadata": {
  "kernelspec": {
   "name": "pycharm-fc3f4a74",
   "language": "python",
   "display_name": "PyCharm (deeplearning)"
  },
  "language_info": {
   "codemirror_mode": {
    "name": "ipython",
    "version": 2
   },
   "file_extension": ".py",
   "mimetype": "text/x-python",
   "name": "python",
   "nbconvert_exporter": "python",
   "pygments_lexer": "ipython2",
   "version": "2.7.6"
  }
 },
 "nbformat": 4,
 "nbformat_minor": 0
}