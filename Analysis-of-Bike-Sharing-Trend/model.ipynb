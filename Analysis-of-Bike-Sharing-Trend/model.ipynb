{
 "cells": [
  {
   "cell_type": "markdown",
   "metadata": {
    "collapsed": true,
    "pycharm": {
     "name": "#%% md\n"
    }
   },
   "source": []
  },
  {
   "cell_type": "markdown",
   "source": [
    "# 5) Regression Analysis\n",
    "- process of investigating relationships between dependent and independent VARIABLES (in term of an equation).\n",
    "- 3 types of regression functions: linear/ logistical/ non-linear.\n",
    "\n",
    "## 5.1) Encode categorical variables to binay numbers using One-Hot-Encode"
   ],
   "metadata": {
    "collapsed": false,
    "pycharm": {
     "name": "#%% md\n"
    }
   }
  },
  {
   "cell_type": "code",
   "execution_count": 17,
   "outputs": [],
   "source": [
    "from sklearn import preprocessing\n",
    "# encode the categorical variables\n",
    "def fit_transform_ohe(df,col_name):\n",
    "    \n",
    "    # label encode the column\n",
    "    le = preprocessing.LabelEncoder()\n",
    "    le_labels = le.fit_transform(df[col_name])\n",
    "    df[col_name+'_label'] = le_labels\n",
    "    \n",
    "    # one hot encoding\n",
    "    ohe = preprocessing.OneHotEncoder()\n",
    "    feature_arr = ohe.fit_transform(df[[col_name + '_label']]).toarray() \n",
    "    feature_labels = [col_name+'_'+str(cls_label) for cls_label in le.classes_] \n",
    "    features_df = pd.DataFrame(feature_arr, columns=feature_labels)\n",
    "    return le,ohe,features_df\n"
   ],
   "metadata": {
    "collapsed": false,
    "pycharm": {
     "name": "#%%\n",
     "is_executing": false
    }
   }
  },
  {
   "cell_type": "code",
   "execution_count": 18,
   "outputs": [
    {
     "name": "stdout",
     "text": [
      "<class 'pandas.core.frame.DataFrame'>\n",
      "RangeIndex: 17379 entries, 0 to 17378\n",
      "Data columns (total 17 columns):\n",
      "rec_id               17379 non-null int64\n",
      "datetime             17379 non-null datetime64[ns]\n",
      "season               17379 non-null category\n",
      "year                 17379 non-null category\n",
      "month                17379 non-null category\n",
      "hour                 17379 non-null category\n",
      "is_holiday           17379 non-null category\n",
      "weekday              17379 non-null category\n",
      "is_workingday        17379 non-null category\n",
      "weather_condition    17379 non-null category\n",
      "temp                 17379 non-null float64\n",
      "atemp                17379 non-null float64\n",
      "humidity             17379 non-null float64\n",
      "windspeed            17379 non-null float64\n",
      "casual               17379 non-null int64\n",
      "registered           17379 non-null int64\n",
      "total_count          17379 non-null int64\n",
      "dtypes: category(8), datetime64[ns](1), float64(4), int64(4)\n",
      "memory usage: 1.3 MB\n"
     ],
     "output_type": "stream"
    }
   ],
   "source": [
    "hour_df.info()"
   ],
   "metadata": {
    "collapsed": false,
    "pycharm": {
     "name": "#%%\n",
     "is_executing": false
    }
   }
  },
  {
   "cell_type": "code",
   "execution_count": 19,
   "outputs": [
    {
     "name": "stderr",
     "text": [
      "/Users/DuyUyen/opt/anaconda3/lib/python3.7/site-packages/sklearn/preprocessing/_encoders.py:415: FutureWarning: The handling of integer data will change in version 0.22. Currently, the categories are determined based on the range [0, max(values)], while in the future they will be determined based on the unique values.\n",
      "If you want the future behaviour and silence this warning, you can specify \"categories='auto'\".\n",
      "In case you used a LabelEncoder before this OneHotEncoder to convert the categories to integers, then you can now use the OneHotEncoder directly.\n",
      "  warnings.warn(msg, FutureWarning)\n",
      "/Users/DuyUyen/opt/anaconda3/lib/python3.7/site-packages/sklearn/preprocessing/_encoders.py:415: FutureWarning: The handling of integer data will change in version 0.22. Currently, the categories are determined based on the range [0, max(values)], while in the future they will be determined based on the unique values.\n",
      "If you want the future behaviour and silence this warning, you can specify \"categories='auto'\".\n",
      "In case you used a LabelEncoder before this OneHotEncoder to convert the categories to integers, then you can now use the OneHotEncoder directly.\n",
      "  warnings.warn(msg, FutureWarning)\n",
      "/Users/DuyUyen/opt/anaconda3/lib/python3.7/site-packages/sklearn/preprocessing/_encoders.py:415: FutureWarning: The handling of integer data will change in version 0.22. Currently, the categories are determined based on the range [0, max(values)], while in the future they will be determined based on the unique values.\n",
      "If you want the future behaviour and silence this warning, you can specify \"categories='auto'\".\n",
      "In case you used a LabelEncoder before this OneHotEncoder to convert the categories to integers, then you can now use the OneHotEncoder directly.\n",
      "  warnings.warn(msg, FutureWarning)\n",
      "/Users/DuyUyen/opt/anaconda3/lib/python3.7/site-packages/sklearn/preprocessing/_encoders.py:415: FutureWarning: The handling of integer data will change in version 0.22. Currently, the categories are determined based on the range [0, max(values)], while in the future they will be determined based on the unique values.\n",
      "If you want the future behaviour and silence this warning, you can specify \"categories='auto'\".\n",
      "In case you used a LabelEncoder before this OneHotEncoder to convert the categories to integers, then you can now use the OneHotEncoder directly.\n",
      "  warnings.warn(msg, FutureWarning)\n",
      "/Users/DuyUyen/opt/anaconda3/lib/python3.7/site-packages/sklearn/preprocessing/_encoders.py:415: FutureWarning: The handling of integer data will change in version 0.22. Currently, the categories are determined based on the range [0, max(values)], while in the future they will be determined based on the unique values.\n",
      "If you want the future behaviour and silence this warning, you can specify \"categories='auto'\".\n",
      "In case you used a LabelEncoder before this OneHotEncoder to convert the categories to integers, then you can now use the OneHotEncoder directly.\n",
      "  warnings.warn(msg, FutureWarning)\n",
      "/Users/DuyUyen/opt/anaconda3/lib/python3.7/site-packages/sklearn/preprocessing/_encoders.py:415: FutureWarning: The handling of integer data will change in version 0.22. Currently, the categories are determined based on the range [0, max(values)], while in the future they will be determined based on the unique values.\n",
      "If you want the future behaviour and silence this warning, you can specify \"categories='auto'\".\n",
      "In case you used a LabelEncoder before this OneHotEncoder to convert the categories to integers, then you can now use the OneHotEncoder directly.\n",
      "  warnings.warn(msg, FutureWarning)\n",
      "/Users/DuyUyen/opt/anaconda3/lib/python3.7/site-packages/sklearn/preprocessing/_encoders.py:415: FutureWarning: The handling of integer data will change in version 0.22. Currently, the categories are determined based on the range [0, max(values)], while in the future they will be determined based on the unique values.\n",
      "If you want the future behaviour and silence this warning, you can specify \"categories='auto'\".\n",
      "In case you used a LabelEncoder before this OneHotEncoder to convert the categories to integers, then you can now use the OneHotEncoder directly.\n",
      "  warnings.warn(msg, FutureWarning)\n",
      "/Users/DuyUyen/opt/anaconda3/lib/python3.7/site-packages/sklearn/preprocessing/_encoders.py:415: FutureWarning: The handling of integer data will change in version 0.22. Currently, the categories are determined based on the range [0, max(values)], while in the future they will be determined based on the unique values.\n",
      "If you want the future behaviour and silence this warning, you can specify \"categories='auto'\".\n",
      "In case you used a LabelEncoder before this OneHotEncoder to convert the categories to integers, then you can now use the OneHotEncoder directly.\n",
      "  warnings.warn(msg, FutureWarning)\n"
     ],
     "output_type": "stream"
    },
    {
     "data": {
      "text/plain": "(LabelEncoder(),\n OneHotEncoder(categorical_features=None, categories=None, drop=None,\n               dtype=<class 'numpy.float64'>, handle_unknown='error',\n               n_values=None, sparse=True),\n        weather_condition_1  weather_condition_2  weather_condition_3  \\\n 0                      1.0                  0.0                  0.0   \n 1                      1.0                  0.0                  0.0   \n 2                      1.0                  0.0                  0.0   \n 3                      1.0                  0.0                  0.0   \n 4                      1.0                  0.0                  0.0   \n ...                    ...                  ...                  ...   \n 17374                  0.0                  1.0                  0.0   \n 17375                  0.0                  1.0                  0.0   \n 17376                  1.0                  0.0                  0.0   \n 17377                  1.0                  0.0                  0.0   \n 17378                  1.0                  0.0                  0.0   \n \n        weather_condition_4  \n 0                      0.0  \n 1                      0.0  \n 2                      0.0  \n 3                      0.0  \n 4                      0.0  \n ...                    ...  \n 17374                  0.0  \n 17375                  0.0  \n 17376                  0.0  \n 17377                  0.0  \n 17378                  0.0  \n \n [17379 rows x 4 columns])"
     },
     "metadata": {},
     "output_type": "execute_result",
     "execution_count": 19
    }
   ],
   "source": [
    "# call functions\n",
    "fit_transform_ohe(hour_df,'season')\n",
    "fit_transform_ohe(hour_df,'year')\n",
    "fit_transform_ohe(hour_df,'month')\n",
    "fit_transform_ohe(hour_df,'hour')\n",
    "fit_transform_ohe(hour_df,'is_holiday')\n",
    "fit_transform_ohe(hour_df,'weekday')\n",
    "fit_transform_ohe(hour_df,'is_workingday')\n",
    "fit_transform_ohe(hour_df,'weather_condition')"
   ],
   "metadata": {
    "collapsed": false,
    "pycharm": {
     "name": "#%%\n",
     "is_executing": false
    }
   }
  },
  {
   "cell_type": "code",
   "execution_count": 20,
   "outputs": [
    {
     "name": "stdout",
     "text": [
      "<class 'pandas.core.frame.DataFrame'>\n",
      "RangeIndex: 17379 entries, 0 to 17378\n",
      "Data columns (total 25 columns):\n",
      "rec_id                     17379 non-null int64\n",
      "datetime                   17379 non-null datetime64[ns]\n",
      "season                     17379 non-null category\n",
      "year                       17379 non-null category\n",
      "month                      17379 non-null category\n",
      "hour                       17379 non-null category\n",
      "is_holiday                 17379 non-null category\n",
      "weekday                    17379 non-null category\n",
      "is_workingday              17379 non-null category\n",
      "weather_condition          17379 non-null category\n",
      "temp                       17379 non-null float64\n",
      "atemp                      17379 non-null float64\n",
      "humidity                   17379 non-null float64\n",
      "windspeed                  17379 non-null float64\n",
      "casual                     17379 non-null int64\n",
      "registered                 17379 non-null int64\n",
      "total_count                17379 non-null int64\n",
      "season_label               17379 non-null int64\n",
      "year_label                 17379 non-null int64\n",
      "month_label                17379 non-null int64\n",
      "hour_label                 17379 non-null int64\n",
      "is_holiday_label           17379 non-null int64\n",
      "weekday_label              17379 non-null int64\n",
      "is_workingday_label        17379 non-null int64\n",
      "weather_condition_label    17379 non-null int64\n",
      "dtypes: category(8), datetime64[ns](1), float64(4), int64(12)\n",
      "memory usage: 2.4 MB\n"
     ],
     "output_type": "stream"
    }
   ],
   "source": [
    "hour_df.info()\n",
    "\n"
   ],
   "metadata": {
    "collapsed": false,
    "pycharm": {
     "name": "#%%\n",
     "is_executing": false
    }
   }
  },
  {
   "cell_type": "code",
   "execution_count": null,
   "outputs": [],
   "source": [
    "\n"
   ],
   "metadata": {
    "collapsed": false,
    "pycharm": {
     "name": "#%%\n"
    }
   }
  }
 ],
 "metadata": {
  "kernelspec": {
   "display_name": "Python 3",
   "language": "python",
   "name": "python3"
  },
  "language_info": {
   "codemirror_mode": {
    "name": "ipython",
    "version": 2
   },
   "file_extension": ".py",
   "mimetype": "text/x-python",
   "name": "python",
   "nbconvert_exporter": "python",
   "pygments_lexer": "ipython2",
   "version": "2.7.6"
  },
  "pycharm": {
   "stem_cell": {
    "cell_type": "raw",
    "source": [],
    "metadata": {
     "collapsed": false
    }
   }
  }
 },
 "nbformat": 4,
 "nbformat_minor": 0
}