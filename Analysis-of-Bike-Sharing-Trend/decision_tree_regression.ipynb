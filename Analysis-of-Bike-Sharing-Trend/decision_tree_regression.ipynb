{
 "cells": [
  {
   "cell_type": "code",
   "execution_count": 9,
   "outputs": [],
   "source": [
    "# plotting libraries\n",
    "import matplotlib.pyplot as plt\n",
    "import seaborn as sn\n",
    "\n",
    "\n",
    "sn.set_style('whitegrid')\n",
    "sn.set_context('talk')\n",
    "params = {'legend.fontsize': 'x-large',\n",
    "          'figure.figsize': (30, 10),\n",
    "          'axes.labelsize': 'x-large',\n",
    "          'axes.titlesize':'x-large',\n",
    "          'xtick.labelsize':'x-large',\n",
    "          'ytick.labelsize':'x-large'}\n",
    "\n",
    "plt.rcParams.update(params)"
   ],
   "metadata": {
    "collapsed": false,
    "pycharm": {
     "name": "#%%\n",
     "is_executing": false
    }
   }
  },
  {
   "cell_type": "markdown",
   "source": [
    "# 1) Load data"
   ],
   "metadata": {
    "collapsed": false
   }
  },
  {
   "cell_type": "code",
   "execution_count": 10,
   "outputs": [
    {
     "name": "stdout",
     "text": [
      "<class 'pandas.core.frame.DataFrame'>\n",
      "RangeIndex: 17379 entries, 0 to 17378\n",
      "Data columns (total 17 columns):\n",
      "instant       17379 non-null int64\n",
      "dteday        17379 non-null object\n",
      "season        17379 non-null int64\n",
      "yr            17379 non-null int64\n",
      "mnth          17379 non-null int64\n",
      "hr            17379 non-null int64\n",
      "holiday       17379 non-null int64\n",
      "weekday       17379 non-null int64\n",
      "workingday    17379 non-null int64\n",
      "weathersit    17379 non-null int64\n",
      "temp          17379 non-null float64\n",
      "atemp         17379 non-null float64\n",
      "hum           17379 non-null float64\n",
      "windspeed     17379 non-null float64\n",
      "casual        17379 non-null int64\n",
      "registered    17379 non-null int64\n",
      "cnt           17379 non-null int64\n",
      "dtypes: float64(4), int64(12), object(1)\n",
      "memory usage: 2.3+ MB\n",
      "None\n"
     ],
     "output_type": "stream"
    },
    {
     "data": {
      "text/plain": "   instant      dteday  season  yr  mnth  hr  holiday  weekday  workingday  \\\n0        1  2011-01-01       1   0     1   0        0        6           0   \n1        2  2011-01-01       1   0     1   1        0        6           0   \n2        3  2011-01-01       1   0     1   2        0        6           0   \n3        4  2011-01-01       1   0     1   3        0        6           0   \n4        5  2011-01-01       1   0     1   4        0        6           0   \n\n   weathersit  temp   atemp   hum  windspeed  casual  registered  cnt  \n0           1  0.24  0.2879  0.81        0.0       3          13   16  \n1           1  0.22  0.2727  0.80        0.0       8          32   40  \n2           1  0.22  0.2727  0.80        0.0       5          27   32  \n3           1  0.24  0.2879  0.75        0.0       3          10   13  \n4           1  0.24  0.2879  0.75        0.0       0           1    1  ",
      "text/html": "<div>\n<style scoped>\n    .dataframe tbody tr th:only-of-type {\n        vertical-align: middle;\n    }\n\n    .dataframe tbody tr th {\n        vertical-align: top;\n    }\n\n    .dataframe thead th {\n        text-align: right;\n    }\n</style>\n<table border=\"1\" class=\"dataframe\">\n  <thead>\n    <tr style=\"text-align: right;\">\n      <th></th>\n      <th>instant</th>\n      <th>dteday</th>\n      <th>season</th>\n      <th>yr</th>\n      <th>mnth</th>\n      <th>hr</th>\n      <th>holiday</th>\n      <th>weekday</th>\n      <th>workingday</th>\n      <th>weathersit</th>\n      <th>temp</th>\n      <th>atemp</th>\n      <th>hum</th>\n      <th>windspeed</th>\n      <th>casual</th>\n      <th>registered</th>\n      <th>cnt</th>\n    </tr>\n  </thead>\n  <tbody>\n    <tr>\n      <td>0</td>\n      <td>1</td>\n      <td>2011-01-01</td>\n      <td>1</td>\n      <td>0</td>\n      <td>1</td>\n      <td>0</td>\n      <td>0</td>\n      <td>6</td>\n      <td>0</td>\n      <td>1</td>\n      <td>0.24</td>\n      <td>0.2879</td>\n      <td>0.81</td>\n      <td>0.0</td>\n      <td>3</td>\n      <td>13</td>\n      <td>16</td>\n    </tr>\n    <tr>\n      <td>1</td>\n      <td>2</td>\n      <td>2011-01-01</td>\n      <td>1</td>\n      <td>0</td>\n      <td>1</td>\n      <td>1</td>\n      <td>0</td>\n      <td>6</td>\n      <td>0</td>\n      <td>1</td>\n      <td>0.22</td>\n      <td>0.2727</td>\n      <td>0.80</td>\n      <td>0.0</td>\n      <td>8</td>\n      <td>32</td>\n      <td>40</td>\n    </tr>\n    <tr>\n      <td>2</td>\n      <td>3</td>\n      <td>2011-01-01</td>\n      <td>1</td>\n      <td>0</td>\n      <td>1</td>\n      <td>2</td>\n      <td>0</td>\n      <td>6</td>\n      <td>0</td>\n      <td>1</td>\n      <td>0.22</td>\n      <td>0.2727</td>\n      <td>0.80</td>\n      <td>0.0</td>\n      <td>5</td>\n      <td>27</td>\n      <td>32</td>\n    </tr>\n    <tr>\n      <td>3</td>\n      <td>4</td>\n      <td>2011-01-01</td>\n      <td>1</td>\n      <td>0</td>\n      <td>1</td>\n      <td>3</td>\n      <td>0</td>\n      <td>6</td>\n      <td>0</td>\n      <td>1</td>\n      <td>0.24</td>\n      <td>0.2879</td>\n      <td>0.75</td>\n      <td>0.0</td>\n      <td>3</td>\n      <td>10</td>\n      <td>13</td>\n    </tr>\n    <tr>\n      <td>4</td>\n      <td>5</td>\n      <td>2011-01-01</td>\n      <td>1</td>\n      <td>0</td>\n      <td>1</td>\n      <td>4</td>\n      <td>0</td>\n      <td>6</td>\n      <td>0</td>\n      <td>1</td>\n      <td>0.24</td>\n      <td>0.2879</td>\n      <td>0.75</td>\n      <td>0.0</td>\n      <td>0</td>\n      <td>1</td>\n      <td>1</td>\n    </tr>\n  </tbody>\n</table>\n</div>"
     },
     "metadata": {},
     "output_type": "execute_result",
     "execution_count": 10
    }
   ],
   "source": [
    "import pandas as pd\n",
    "\n",
    "# Load data\n",
    "hour_df = pd.read_csv('DATA/Bike-Sharing-Dataset/hour.csv')\n",
    "print(hour_df.info())\n",
    "hour_df.head()"
   ],
   "metadata": {
    "collapsed": false,
    "pycharm": {
     "name": "#%%\n",
     "is_executing": false
    }
   }
  },
  {
   "cell_type": "markdown",
   "source": [
    "# 2) Pre-process data\n",
    "## 2.1) Standarize column names"
   ],
   "metadata": {
    "collapsed": false
   }
  },
  {
   "cell_type": "code",
   "execution_count": 11,
   "outputs": [],
   "source": [
    "hour_df.rename(columns={'instant':'rec_id',\n",
    "                        'dteday':'datetime',\n",
    "                        'holiday':'is_holiday',\n",
    "                        'workingday':'is_workingday',\n",
    "                        'weathersit':'weather_condition',\n",
    "                        'hum':'humidity',\n",
    "                        'mnth':'month',\n",
    "                        'cnt':'total_count',\n",
    "                        'hr':'hour',\n",
    "                        'yr':'year'}, inplace=True)"
   ],
   "metadata": {
    "collapsed": false,
    "pycharm": {
     "name": "#%%\n",
     "is_executing": false
    }
   }
  },
  {
   "cell_type": "markdown",
   "source": [
    "## 2.2) Typecast Attributes"
   ],
   "metadata": {
    "collapsed": false
   }
  },
  {
   "cell_type": "code",
   "execution_count": 12,
   "outputs": [
    {
     "data": {
      "text/plain": "   rec_id   datetime season year month hour is_holiday weekday is_workingday  \\\n0       1 2011-01-01      1    0     1    0          0       6             0   \n1       2 2011-01-01      1    0     1    1          0       6             0   \n2       3 2011-01-01      1    0     1    2          0       6             0   \n3       4 2011-01-01      1    0     1    3          0       6             0   \n4       5 2011-01-01      1    0     1    4          0       6             0   \n\n  weather_condition  temp   atemp  humidity  windspeed  casual  registered  \\\n0                 1  0.24  0.2879      0.81        0.0       3          13   \n1                 1  0.22  0.2727      0.80        0.0       8          32   \n2                 1  0.22  0.2727      0.80        0.0       5          27   \n3                 1  0.24  0.2879      0.75        0.0       3          10   \n4                 1  0.24  0.2879      0.75        0.0       0           1   \n\n   total_count  \n0           16  \n1           40  \n2           32  \n3           13  \n4            1  ",
      "text/html": "<div>\n<style scoped>\n    .dataframe tbody tr th:only-of-type {\n        vertical-align: middle;\n    }\n\n    .dataframe tbody tr th {\n        vertical-align: top;\n    }\n\n    .dataframe thead th {\n        text-align: right;\n    }\n</style>\n<table border=\"1\" class=\"dataframe\">\n  <thead>\n    <tr style=\"text-align: right;\">\n      <th></th>\n      <th>rec_id</th>\n      <th>datetime</th>\n      <th>season</th>\n      <th>year</th>\n      <th>month</th>\n      <th>hour</th>\n      <th>is_holiday</th>\n      <th>weekday</th>\n      <th>is_workingday</th>\n      <th>weather_condition</th>\n      <th>temp</th>\n      <th>atemp</th>\n      <th>humidity</th>\n      <th>windspeed</th>\n      <th>casual</th>\n      <th>registered</th>\n      <th>total_count</th>\n    </tr>\n  </thead>\n  <tbody>\n    <tr>\n      <td>0</td>\n      <td>1</td>\n      <td>2011-01-01</td>\n      <td>1</td>\n      <td>0</td>\n      <td>1</td>\n      <td>0</td>\n      <td>0</td>\n      <td>6</td>\n      <td>0</td>\n      <td>1</td>\n      <td>0.24</td>\n      <td>0.2879</td>\n      <td>0.81</td>\n      <td>0.0</td>\n      <td>3</td>\n      <td>13</td>\n      <td>16</td>\n    </tr>\n    <tr>\n      <td>1</td>\n      <td>2</td>\n      <td>2011-01-01</td>\n      <td>1</td>\n      <td>0</td>\n      <td>1</td>\n      <td>1</td>\n      <td>0</td>\n      <td>6</td>\n      <td>0</td>\n      <td>1</td>\n      <td>0.22</td>\n      <td>0.2727</td>\n      <td>0.80</td>\n      <td>0.0</td>\n      <td>8</td>\n      <td>32</td>\n      <td>40</td>\n    </tr>\n    <tr>\n      <td>2</td>\n      <td>3</td>\n      <td>2011-01-01</td>\n      <td>1</td>\n      <td>0</td>\n      <td>1</td>\n      <td>2</td>\n      <td>0</td>\n      <td>6</td>\n      <td>0</td>\n      <td>1</td>\n      <td>0.22</td>\n      <td>0.2727</td>\n      <td>0.80</td>\n      <td>0.0</td>\n      <td>5</td>\n      <td>27</td>\n      <td>32</td>\n    </tr>\n    <tr>\n      <td>3</td>\n      <td>4</td>\n      <td>2011-01-01</td>\n      <td>1</td>\n      <td>0</td>\n      <td>1</td>\n      <td>3</td>\n      <td>0</td>\n      <td>6</td>\n      <td>0</td>\n      <td>1</td>\n      <td>0.24</td>\n      <td>0.2879</td>\n      <td>0.75</td>\n      <td>0.0</td>\n      <td>3</td>\n      <td>10</td>\n      <td>13</td>\n    </tr>\n    <tr>\n      <td>4</td>\n      <td>5</td>\n      <td>2011-01-01</td>\n      <td>1</td>\n      <td>0</td>\n      <td>1</td>\n      <td>4</td>\n      <td>0</td>\n      <td>6</td>\n      <td>0</td>\n      <td>1</td>\n      <td>0.24</td>\n      <td>0.2879</td>\n      <td>0.75</td>\n      <td>0.0</td>\n      <td>0</td>\n      <td>1</td>\n      <td>1</td>\n    </tr>\n  </tbody>\n</table>\n</div>"
     },
     "metadata": {},
     "output_type": "execute_result",
     "execution_count": 12
    }
   ],
   "source": [
    "# date time variable \n",
    "hour_df.datetime = pd.to_datetime(hour_df.datetime)\n",
    "\n",
    "# categorical variables\n",
    "hour_df.season = hour_df.season.astype('category')\n",
    "hour_df.is_holiday = hour_df.is_holiday.astype('category')\n",
    "hour_df.weekday = hour_df.weekday.astype('category')\n",
    "hour_df.weather_condition = hour_df.weather_condition.astype('category')\n",
    "hour_df.is_workingday = hour_df.is_workingday.astype('category')\n",
    "hour_df.month = hour_df.month.astype('category')\n",
    "hour_df.year = hour_df.year.astype('category')\n",
    "hour_df.hour = hour_df.hour.astype('category')\n",
    "hour_df.head()"
   ],
   "metadata": {
    "collapsed": false,
    "pycharm": {
     "name": "#%%\n",
     "is_executing": false
    }
   }
  },
  {
   "cell_type": "markdown",
   "source": [
    "## 2.3) Make dummy variables for selected categorical variables"
   ],
   "metadata": {
    "collapsed": false
   }
  },
  {
   "cell_type": "code",
   "execution_count": 13,
   "outputs": [
    {
     "name": "stdout",
     "text": [
      "<class 'pandas.core.frame.DataFrame'>\n",
      "RangeIndex: 17379 entries, 0 to 17378\n",
      "Data columns (total 25 columns):\n",
      "rec_id                 17379 non-null int64\n",
      "datetime               17379 non-null datetime64[ns]\n",
      "year                   17379 non-null category\n",
      "month                  17379 non-null category\n",
      "hour                   17379 non-null category\n",
      "weekday                17379 non-null category\n",
      "temp                   17379 non-null float64\n",
      "atemp                  17379 non-null float64\n",
      "humidity               17379 non-null float64\n",
      "windspeed              17379 non-null float64\n",
      "casual                 17379 non-null int64\n",
      "registered             17379 non-null int64\n",
      "total_count            17379 non-null int64\n",
      "season_1               17379 non-null uint8\n",
      "season_2               17379 non-null uint8\n",
      "season_3               17379 non-null uint8\n",
      "season_4               17379 non-null uint8\n",
      "is_holiday_0           17379 non-null uint8\n",
      "is_holiday_1           17379 non-null uint8\n",
      "is_workingday_0        17379 non-null uint8\n",
      "is_workingday_1        17379 non-null uint8\n",
      "weather_condition_1    17379 non-null uint8\n",
      "weather_condition_2    17379 non-null uint8\n",
      "weather_condition_3    17379 non-null uint8\n",
      "weather_condition_4    17379 non-null uint8\n",
      "dtypes: category(4), datetime64[ns](1), float64(4), int64(4), uint8(12)\n",
      "memory usage: 1.5 MB\n",
      "None\n"
     ],
     "output_type": "stream"
    },
    {
     "data": {
      "text/plain": "   rec_id   datetime year month hour weekday  temp   atemp  humidity  \\\n0       1 2011-01-01    0     1    0       6  0.24  0.2879      0.81   \n1       2 2011-01-01    0     1    1       6  0.22  0.2727      0.80   \n2       3 2011-01-01    0     1    2       6  0.22  0.2727      0.80   \n3       4 2011-01-01    0     1    3       6  0.24  0.2879      0.75   \n4       5 2011-01-01    0     1    4       6  0.24  0.2879      0.75   \n\n   windspeed  ...  season_3  season_4  is_holiday_0  is_holiday_1  \\\n0        0.0  ...         0         0             1             0   \n1        0.0  ...         0         0             1             0   \n2        0.0  ...         0         0             1             0   \n3        0.0  ...         0         0             1             0   \n4        0.0  ...         0         0             1             0   \n\n   is_workingday_0  is_workingday_1  weather_condition_1  weather_condition_2  \\\n0                1                0                    1                    0   \n1                1                0                    1                    0   \n2                1                0                    1                    0   \n3                1                0                    1                    0   \n4                1                0                    1                    0   \n\n   weather_condition_3  weather_condition_4  \n0                    0                    0  \n1                    0                    0  \n2                    0                    0  \n3                    0                    0  \n4                    0                    0  \n\n[5 rows x 25 columns]",
      "text/html": "<div>\n<style scoped>\n    .dataframe tbody tr th:only-of-type {\n        vertical-align: middle;\n    }\n\n    .dataframe tbody tr th {\n        vertical-align: top;\n    }\n\n    .dataframe thead th {\n        text-align: right;\n    }\n</style>\n<table border=\"1\" class=\"dataframe\">\n  <thead>\n    <tr style=\"text-align: right;\">\n      <th></th>\n      <th>rec_id</th>\n      <th>datetime</th>\n      <th>year</th>\n      <th>month</th>\n      <th>hour</th>\n      <th>weekday</th>\n      <th>temp</th>\n      <th>atemp</th>\n      <th>humidity</th>\n      <th>windspeed</th>\n      <th>...</th>\n      <th>season_3</th>\n      <th>season_4</th>\n      <th>is_holiday_0</th>\n      <th>is_holiday_1</th>\n      <th>is_workingday_0</th>\n      <th>is_workingday_1</th>\n      <th>weather_condition_1</th>\n      <th>weather_condition_2</th>\n      <th>weather_condition_3</th>\n      <th>weather_condition_4</th>\n    </tr>\n  </thead>\n  <tbody>\n    <tr>\n      <td>0</td>\n      <td>1</td>\n      <td>2011-01-01</td>\n      <td>0</td>\n      <td>1</td>\n      <td>0</td>\n      <td>6</td>\n      <td>0.24</td>\n      <td>0.2879</td>\n      <td>0.81</td>\n      <td>0.0</td>\n      <td>...</td>\n      <td>0</td>\n      <td>0</td>\n      <td>1</td>\n      <td>0</td>\n      <td>1</td>\n      <td>0</td>\n      <td>1</td>\n      <td>0</td>\n      <td>0</td>\n      <td>0</td>\n    </tr>\n    <tr>\n      <td>1</td>\n      <td>2</td>\n      <td>2011-01-01</td>\n      <td>0</td>\n      <td>1</td>\n      <td>1</td>\n      <td>6</td>\n      <td>0.22</td>\n      <td>0.2727</td>\n      <td>0.80</td>\n      <td>0.0</td>\n      <td>...</td>\n      <td>0</td>\n      <td>0</td>\n      <td>1</td>\n      <td>0</td>\n      <td>1</td>\n      <td>0</td>\n      <td>1</td>\n      <td>0</td>\n      <td>0</td>\n      <td>0</td>\n    </tr>\n    <tr>\n      <td>2</td>\n      <td>3</td>\n      <td>2011-01-01</td>\n      <td>0</td>\n      <td>1</td>\n      <td>2</td>\n      <td>6</td>\n      <td>0.22</td>\n      <td>0.2727</td>\n      <td>0.80</td>\n      <td>0.0</td>\n      <td>...</td>\n      <td>0</td>\n      <td>0</td>\n      <td>1</td>\n      <td>0</td>\n      <td>1</td>\n      <td>0</td>\n      <td>1</td>\n      <td>0</td>\n      <td>0</td>\n      <td>0</td>\n    </tr>\n    <tr>\n      <td>3</td>\n      <td>4</td>\n      <td>2011-01-01</td>\n      <td>0</td>\n      <td>1</td>\n      <td>3</td>\n      <td>6</td>\n      <td>0.24</td>\n      <td>0.2879</td>\n      <td>0.75</td>\n      <td>0.0</td>\n      <td>...</td>\n      <td>0</td>\n      <td>0</td>\n      <td>1</td>\n      <td>0</td>\n      <td>1</td>\n      <td>0</td>\n      <td>1</td>\n      <td>0</td>\n      <td>0</td>\n      <td>0</td>\n    </tr>\n    <tr>\n      <td>4</td>\n      <td>5</td>\n      <td>2011-01-01</td>\n      <td>0</td>\n      <td>1</td>\n      <td>4</td>\n      <td>6</td>\n      <td>0.24</td>\n      <td>0.2879</td>\n      <td>0.75</td>\n      <td>0.0</td>\n      <td>...</td>\n      <td>0</td>\n      <td>0</td>\n      <td>1</td>\n      <td>0</td>\n      <td>1</td>\n      <td>0</td>\n      <td>1</td>\n      <td>0</td>\n      <td>0</td>\n      <td>0</td>\n    </tr>\n  </tbody>\n</table>\n<p>5 rows × 25 columns</p>\n</div>"
     },
     "metadata": {},
     "output_type": "execute_result",
     "execution_count": 13
    }
   ],
   "source": [
    "features_for_dummies = ['season','is_holiday','is_workingday','weather_condition']\n",
    "hour_df_with_dummies = pd.get_dummies(hour_df,columns=features_for_dummies, prefix=features_for_dummies)\n",
    "print(hour_df_with_dummies.info())\n",
    "hour_df_with_dummies.head()"
   ],
   "metadata": {
    "collapsed": false,
    "pycharm": {
     "name": "#%%\n",
     "is_executing": false
    }
   }
  },
  {
   "cell_type": "markdown",
   "source": [
    "# 3) Make Model"
   ],
   "metadata": {
    "collapsed": false,
    "pycharm": {
     "name": "#%% md\n",
     "is_executing": false
    }
   }
  },
  {
   "cell_type": "markdown",
   "source": [
    "# 1) Load data"
   ],
   "metadata": {
    "collapsed": false
   }
  },
  {
   "cell_type": "code",
   "execution_count": 14,
   "outputs": [
    {
     "name": "stdout",
     "text": [
      "<class 'pandas.core.frame.DataFrame'>\n",
      "RangeIndex: 17379 entries, 0 to 17378\n",
      "Data columns (total 17 columns):\n",
      "instant       17379 non-null int64\n",
      "dteday        17379 non-null object\n",
      "season        17379 non-null int64\n",
      "yr            17379 non-null int64\n",
      "mnth          17379 non-null int64\n",
      "hr            17379 non-null int64\n",
      "holiday       17379 non-null int64\n",
      "weekday       17379 non-null int64\n",
      "workingday    17379 non-null int64\n",
      "weathersit    17379 non-null int64\n",
      "temp          17379 non-null float64\n",
      "atemp         17379 non-null float64\n",
      "hum           17379 non-null float64\n",
      "windspeed     17379 non-null float64\n",
      "casual        17379 non-null int64\n",
      "registered    17379 non-null int64\n",
      "cnt           17379 non-null int64\n",
      "dtypes: float64(4), int64(12), object(1)\n",
      "memory usage: 2.3+ MB\n",
      "None\n"
     ],
     "output_type": "stream"
    },
    {
     "data": {
      "text/plain": "   instant      dteday  season  yr  mnth  hr  holiday  weekday  workingday  \\\n0        1  2011-01-01       1   0     1   0        0        6           0   \n1        2  2011-01-01       1   0     1   1        0        6           0   \n2        3  2011-01-01       1   0     1   2        0        6           0   \n3        4  2011-01-01       1   0     1   3        0        6           0   \n4        5  2011-01-01       1   0     1   4        0        6           0   \n\n   weathersit  temp   atemp   hum  windspeed  casual  registered  cnt  \n0           1  0.24  0.2879  0.81        0.0       3          13   16  \n1           1  0.22  0.2727  0.80        0.0       8          32   40  \n2           1  0.22  0.2727  0.80        0.0       5          27   32  \n3           1  0.24  0.2879  0.75        0.0       3          10   13  \n4           1  0.24  0.2879  0.75        0.0       0           1    1  ",
      "text/html": "<div>\n<style scoped>\n    .dataframe tbody tr th:only-of-type {\n        vertical-align: middle;\n    }\n\n    .dataframe tbody tr th {\n        vertical-align: top;\n    }\n\n    .dataframe thead th {\n        text-align: right;\n    }\n</style>\n<table border=\"1\" class=\"dataframe\">\n  <thead>\n    <tr style=\"text-align: right;\">\n      <th></th>\n      <th>instant</th>\n      <th>dteday</th>\n      <th>season</th>\n      <th>yr</th>\n      <th>mnth</th>\n      <th>hr</th>\n      <th>holiday</th>\n      <th>weekday</th>\n      <th>workingday</th>\n      <th>weathersit</th>\n      <th>temp</th>\n      <th>atemp</th>\n      <th>hum</th>\n      <th>windspeed</th>\n      <th>casual</th>\n      <th>registered</th>\n      <th>cnt</th>\n    </tr>\n  </thead>\n  <tbody>\n    <tr>\n      <td>0</td>\n      <td>1</td>\n      <td>2011-01-01</td>\n      <td>1</td>\n      <td>0</td>\n      <td>1</td>\n      <td>0</td>\n      <td>0</td>\n      <td>6</td>\n      <td>0</td>\n      <td>1</td>\n      <td>0.24</td>\n      <td>0.2879</td>\n      <td>0.81</td>\n      <td>0.0</td>\n      <td>3</td>\n      <td>13</td>\n      <td>16</td>\n    </tr>\n    <tr>\n      <td>1</td>\n      <td>2</td>\n      <td>2011-01-01</td>\n      <td>1</td>\n      <td>0</td>\n      <td>1</td>\n      <td>1</td>\n      <td>0</td>\n      <td>6</td>\n      <td>0</td>\n      <td>1</td>\n      <td>0.22</td>\n      <td>0.2727</td>\n      <td>0.80</td>\n      <td>0.0</td>\n      <td>8</td>\n      <td>32</td>\n      <td>40</td>\n    </tr>\n    <tr>\n      <td>2</td>\n      <td>3</td>\n      <td>2011-01-01</td>\n      <td>1</td>\n      <td>0</td>\n      <td>1</td>\n      <td>2</td>\n      <td>0</td>\n      <td>6</td>\n      <td>0</td>\n      <td>1</td>\n      <td>0.22</td>\n      <td>0.2727</td>\n      <td>0.80</td>\n      <td>0.0</td>\n      <td>5</td>\n      <td>27</td>\n      <td>32</td>\n    </tr>\n    <tr>\n      <td>3</td>\n      <td>4</td>\n      <td>2011-01-01</td>\n      <td>1</td>\n      <td>0</td>\n      <td>1</td>\n      <td>3</td>\n      <td>0</td>\n      <td>6</td>\n      <td>0</td>\n      <td>1</td>\n      <td>0.24</td>\n      <td>0.2879</td>\n      <td>0.75</td>\n      <td>0.0</td>\n      <td>3</td>\n      <td>10</td>\n      <td>13</td>\n    </tr>\n    <tr>\n      <td>4</td>\n      <td>5</td>\n      <td>2011-01-01</td>\n      <td>1</td>\n      <td>0</td>\n      <td>1</td>\n      <td>4</td>\n      <td>0</td>\n      <td>6</td>\n      <td>0</td>\n      <td>1</td>\n      <td>0.24</td>\n      <td>0.2879</td>\n      <td>0.75</td>\n      <td>0.0</td>\n      <td>0</td>\n      <td>1</td>\n      <td>1</td>\n    </tr>\n  </tbody>\n</table>\n</div>"
     },
     "metadata": {},
     "output_type": "execute_result",
     "execution_count": 14
    }
   ],
   "source": [
    "import pandas as pd\n",
    "\n",
    "# Load data\n",
    "hour_df = pd.read_csv('DATA/Bike-Sharing-Dataset/hour.csv')\n",
    "print(hour_df.info())\n",
    "hour_df.head()"
   ],
   "metadata": {
    "collapsed": false,
    "pycharm": {
     "name": "#%%\n",
     "is_executing": false
    }
   }
  },
  {
   "cell_type": "markdown",
   "source": [
    "# 2) Pre-process data\n",
    "## 2.1) Standarize column names"
   ],
   "metadata": {
    "collapsed": false
   }
  },
  {
   "cell_type": "code",
   "execution_count": 15,
   "outputs": [],
   "source": [
    "hour_df.rename(columns={'instant':'rec_id',\n",
    "                        'dteday':'datetime',\n",
    "                        'holiday':'is_holiday',\n",
    "                        'workingday':'is_workingday',\n",
    "                        'weathersit':'weather_condition',\n",
    "                        'hum':'humidity',\n",
    "                        'mnth':'month',\n",
    "                        'cnt':'total_count',\n",
    "                        'hr':'hour',\n",
    "                        'yr':'year'}, inplace=True)"
   ],
   "metadata": {
    "collapsed": false,
    "pycharm": {
     "name": "#%%\n",
     "is_executing": false
    }
   }
  },
  {
   "cell_type": "markdown",
   "source": [
    "## 2.2) Typecast Attributes"
   ],
   "metadata": {
    "collapsed": false
   }
  },
  {
   "cell_type": "code",
   "execution_count": 16,
   "outputs": [
    {
     "data": {
      "text/plain": "   rec_id   datetime season year month hour is_holiday weekday is_workingday  \\\n0       1 2011-01-01      1    0     1    0          0       6             0   \n1       2 2011-01-01      1    0     1    1          0       6             0   \n2       3 2011-01-01      1    0     1    2          0       6             0   \n3       4 2011-01-01      1    0     1    3          0       6             0   \n4       5 2011-01-01      1    0     1    4          0       6             0   \n\n  weather_condition  temp   atemp  humidity  windspeed  casual  registered  \\\n0                 1  0.24  0.2879      0.81        0.0       3          13   \n1                 1  0.22  0.2727      0.80        0.0       8          32   \n2                 1  0.22  0.2727      0.80        0.0       5          27   \n3                 1  0.24  0.2879      0.75        0.0       3          10   \n4                 1  0.24  0.2879      0.75        0.0       0           1   \n\n   total_count  \n0           16  \n1           40  \n2           32  \n3           13  \n4            1  ",
      "text/html": "<div>\n<style scoped>\n    .dataframe tbody tr th:only-of-type {\n        vertical-align: middle;\n    }\n\n    .dataframe tbody tr th {\n        vertical-align: top;\n    }\n\n    .dataframe thead th {\n        text-align: right;\n    }\n</style>\n<table border=\"1\" class=\"dataframe\">\n  <thead>\n    <tr style=\"text-align: right;\">\n      <th></th>\n      <th>rec_id</th>\n      <th>datetime</th>\n      <th>season</th>\n      <th>year</th>\n      <th>month</th>\n      <th>hour</th>\n      <th>is_holiday</th>\n      <th>weekday</th>\n      <th>is_workingday</th>\n      <th>weather_condition</th>\n      <th>temp</th>\n      <th>atemp</th>\n      <th>humidity</th>\n      <th>windspeed</th>\n      <th>casual</th>\n      <th>registered</th>\n      <th>total_count</th>\n    </tr>\n  </thead>\n  <tbody>\n    <tr>\n      <td>0</td>\n      <td>1</td>\n      <td>2011-01-01</td>\n      <td>1</td>\n      <td>0</td>\n      <td>1</td>\n      <td>0</td>\n      <td>0</td>\n      <td>6</td>\n      <td>0</td>\n      <td>1</td>\n      <td>0.24</td>\n      <td>0.2879</td>\n      <td>0.81</td>\n      <td>0.0</td>\n      <td>3</td>\n      <td>13</td>\n      <td>16</td>\n    </tr>\n    <tr>\n      <td>1</td>\n      <td>2</td>\n      <td>2011-01-01</td>\n      <td>1</td>\n      <td>0</td>\n      <td>1</td>\n      <td>1</td>\n      <td>0</td>\n      <td>6</td>\n      <td>0</td>\n      <td>1</td>\n      <td>0.22</td>\n      <td>0.2727</td>\n      <td>0.80</td>\n      <td>0.0</td>\n      <td>8</td>\n      <td>32</td>\n      <td>40</td>\n    </tr>\n    <tr>\n      <td>2</td>\n      <td>3</td>\n      <td>2011-01-01</td>\n      <td>1</td>\n      <td>0</td>\n      <td>1</td>\n      <td>2</td>\n      <td>0</td>\n      <td>6</td>\n      <td>0</td>\n      <td>1</td>\n      <td>0.22</td>\n      <td>0.2727</td>\n      <td>0.80</td>\n      <td>0.0</td>\n      <td>5</td>\n      <td>27</td>\n      <td>32</td>\n    </tr>\n    <tr>\n      <td>3</td>\n      <td>4</td>\n      <td>2011-01-01</td>\n      <td>1</td>\n      <td>0</td>\n      <td>1</td>\n      <td>3</td>\n      <td>0</td>\n      <td>6</td>\n      <td>0</td>\n      <td>1</td>\n      <td>0.24</td>\n      <td>0.2879</td>\n      <td>0.75</td>\n      <td>0.0</td>\n      <td>3</td>\n      <td>10</td>\n      <td>13</td>\n    </tr>\n    <tr>\n      <td>4</td>\n      <td>5</td>\n      <td>2011-01-01</td>\n      <td>1</td>\n      <td>0</td>\n      <td>1</td>\n      <td>4</td>\n      <td>0</td>\n      <td>6</td>\n      <td>0</td>\n      <td>1</td>\n      <td>0.24</td>\n      <td>0.2879</td>\n      <td>0.75</td>\n      <td>0.0</td>\n      <td>0</td>\n      <td>1</td>\n      <td>1</td>\n    </tr>\n  </tbody>\n</table>\n</div>"
     },
     "metadata": {},
     "output_type": "execute_result",
     "execution_count": 16
    }
   ],
   "source": [
    "# date time variable \n",
    "hour_df.datetime = pd.to_datetime(hour_df.datetime)\n",
    "\n",
    "# categorical variables\n",
    "hour_df.season = hour_df.season.astype('category')\n",
    "hour_df.is_holiday = hour_df.is_holiday.astype('category')\n",
    "hour_df.weekday = hour_df.weekday.astype('category')\n",
    "hour_df.weather_condition = hour_df.weather_condition.astype('category')\n",
    "hour_df.is_workingday = hour_df.is_workingday.astype('category')\n",
    "hour_df.month = hour_df.month.astype('category')\n",
    "hour_df.year = hour_df.year.astype('category')\n",
    "hour_df.hour = hour_df.hour.astype('category')\n",
    "hour_df.head()"
   ],
   "metadata": {
    "collapsed": false,
    "pycharm": {
     "name": "#%%\n",
     "is_executing": false
    }
   }
  },
  {
   "cell_type": "markdown",
   "source": [
    "## 2.3) Make dummy variables for selected categorical variables"
   ],
   "metadata": {
    "collapsed": false
   }
  },
  {
   "cell_type": "code",
   "execution_count": 17,
   "outputs": [
    {
     "name": "stdout",
     "text": [
      "<class 'pandas.core.frame.DataFrame'>\n",
      "RangeIndex: 17379 entries, 0 to 17378\n",
      "Data columns (total 25 columns):\n",
      "rec_id                 17379 non-null int64\n",
      "datetime               17379 non-null datetime64[ns]\n",
      "year                   17379 non-null category\n",
      "month                  17379 non-null category\n",
      "hour                   17379 non-null category\n",
      "weekday                17379 non-null category\n",
      "temp                   17379 non-null float64\n",
      "atemp                  17379 non-null float64\n",
      "humidity               17379 non-null float64\n",
      "windspeed              17379 non-null float64\n",
      "casual                 17379 non-null int64\n",
      "registered             17379 non-null int64\n",
      "total_count            17379 non-null int64\n",
      "season_1               17379 non-null uint8\n",
      "season_2               17379 non-null uint8\n",
      "season_3               17379 non-null uint8\n",
      "season_4               17379 non-null uint8\n",
      "is_holiday_0           17379 non-null uint8\n",
      "is_holiday_1           17379 non-null uint8\n",
      "is_workingday_0        17379 non-null uint8\n",
      "is_workingday_1        17379 non-null uint8\n",
      "weather_condition_1    17379 non-null uint8\n",
      "weather_condition_2    17379 non-null uint8\n",
      "weather_condition_3    17379 non-null uint8\n",
      "weather_condition_4    17379 non-null uint8\n",
      "dtypes: category(4), datetime64[ns](1), float64(4), int64(4), uint8(12)\n",
      "memory usage: 1.5 MB\n",
      "None\n"
     ],
     "output_type": "stream"
    },
    {
     "data": {
      "text/plain": "   rec_id   datetime year month hour weekday  temp   atemp  humidity  \\\n0       1 2011-01-01    0     1    0       6  0.24  0.2879      0.81   \n1       2 2011-01-01    0     1    1       6  0.22  0.2727      0.80   \n2       3 2011-01-01    0     1    2       6  0.22  0.2727      0.80   \n3       4 2011-01-01    0     1    3       6  0.24  0.2879      0.75   \n4       5 2011-01-01    0     1    4       6  0.24  0.2879      0.75   \n\n   windspeed  ...  season_3  season_4  is_holiday_0  is_holiday_1  \\\n0        0.0  ...         0         0             1             0   \n1        0.0  ...         0         0             1             0   \n2        0.0  ...         0         0             1             0   \n3        0.0  ...         0         0             1             0   \n4        0.0  ...         0         0             1             0   \n\n   is_workingday_0  is_workingday_1  weather_condition_1  weather_condition_2  \\\n0                1                0                    1                    0   \n1                1                0                    1                    0   \n2                1                0                    1                    0   \n3                1                0                    1                    0   \n4                1                0                    1                    0   \n\n   weather_condition_3  weather_condition_4  \n0                    0                    0  \n1                    0                    0  \n2                    0                    0  \n3                    0                    0  \n4                    0                    0  \n\n[5 rows x 25 columns]",
      "text/html": "<div>\n<style scoped>\n    .dataframe tbody tr th:only-of-type {\n        vertical-align: middle;\n    }\n\n    .dataframe tbody tr th {\n        vertical-align: top;\n    }\n\n    .dataframe thead th {\n        text-align: right;\n    }\n</style>\n<table border=\"1\" class=\"dataframe\">\n  <thead>\n    <tr style=\"text-align: right;\">\n      <th></th>\n      <th>rec_id</th>\n      <th>datetime</th>\n      <th>year</th>\n      <th>month</th>\n      <th>hour</th>\n      <th>weekday</th>\n      <th>temp</th>\n      <th>atemp</th>\n      <th>humidity</th>\n      <th>windspeed</th>\n      <th>...</th>\n      <th>season_3</th>\n      <th>season_4</th>\n      <th>is_holiday_0</th>\n      <th>is_holiday_1</th>\n      <th>is_workingday_0</th>\n      <th>is_workingday_1</th>\n      <th>weather_condition_1</th>\n      <th>weather_condition_2</th>\n      <th>weather_condition_3</th>\n      <th>weather_condition_4</th>\n    </tr>\n  </thead>\n  <tbody>\n    <tr>\n      <td>0</td>\n      <td>1</td>\n      <td>2011-01-01</td>\n      <td>0</td>\n      <td>1</td>\n      <td>0</td>\n      <td>6</td>\n      <td>0.24</td>\n      <td>0.2879</td>\n      <td>0.81</td>\n      <td>0.0</td>\n      <td>...</td>\n      <td>0</td>\n      <td>0</td>\n      <td>1</td>\n      <td>0</td>\n      <td>1</td>\n      <td>0</td>\n      <td>1</td>\n      <td>0</td>\n      <td>0</td>\n      <td>0</td>\n    </tr>\n    <tr>\n      <td>1</td>\n      <td>2</td>\n      <td>2011-01-01</td>\n      <td>0</td>\n      <td>1</td>\n      <td>1</td>\n      <td>6</td>\n      <td>0.22</td>\n      <td>0.2727</td>\n      <td>0.80</td>\n      <td>0.0</td>\n      <td>...</td>\n      <td>0</td>\n      <td>0</td>\n      <td>1</td>\n      <td>0</td>\n      <td>1</td>\n      <td>0</td>\n      <td>1</td>\n      <td>0</td>\n      <td>0</td>\n      <td>0</td>\n    </tr>\n    <tr>\n      <td>2</td>\n      <td>3</td>\n      <td>2011-01-01</td>\n      <td>0</td>\n      <td>1</td>\n      <td>2</td>\n      <td>6</td>\n      <td>0.22</td>\n      <td>0.2727</td>\n      <td>0.80</td>\n      <td>0.0</td>\n      <td>...</td>\n      <td>0</td>\n      <td>0</td>\n      <td>1</td>\n      <td>0</td>\n      <td>1</td>\n      <td>0</td>\n      <td>1</td>\n      <td>0</td>\n      <td>0</td>\n      <td>0</td>\n    </tr>\n    <tr>\n      <td>3</td>\n      <td>4</td>\n      <td>2011-01-01</td>\n      <td>0</td>\n      <td>1</td>\n      <td>3</td>\n      <td>6</td>\n      <td>0.24</td>\n      <td>0.2879</td>\n      <td>0.75</td>\n      <td>0.0</td>\n      <td>...</td>\n      <td>0</td>\n      <td>0</td>\n      <td>1</td>\n      <td>0</td>\n      <td>1</td>\n      <td>0</td>\n      <td>1</td>\n      <td>0</td>\n      <td>0</td>\n      <td>0</td>\n    </tr>\n    <tr>\n      <td>4</td>\n      <td>5</td>\n      <td>2011-01-01</td>\n      <td>0</td>\n      <td>1</td>\n      <td>4</td>\n      <td>6</td>\n      <td>0.24</td>\n      <td>0.2879</td>\n      <td>0.75</td>\n      <td>0.0</td>\n      <td>...</td>\n      <td>0</td>\n      <td>0</td>\n      <td>1</td>\n      <td>0</td>\n      <td>1</td>\n      <td>0</td>\n      <td>1</td>\n      <td>0</td>\n      <td>0</td>\n      <td>0</td>\n    </tr>\n  </tbody>\n</table>\n<p>5 rows × 25 columns</p>\n</div>"
     },
     "metadata": {},
     "output_type": "execute_result",
     "execution_count": 17
    }
   ],
   "source": [
    "features_for_dummies = ['season','is_holiday','is_workingday','weather_condition']\n",
    "hour_df_with_dummies = pd.get_dummies(hour_df,columns=features_for_dummies, prefix=features_for_dummies)\n",
    "print(hour_df_with_dummies.info())\n",
    "hour_df_with_dummies.head()"
   ],
   "metadata": {
    "collapsed": false,
    "pycharm": {
     "name": "#%%\n",
     "is_executing": false
    }
   }
  },
  {
   "cell_type": "markdown",
   "source": [
    "# 3) Make Model\n",
    "\n",
    "## 3.1) Set up all independent and dependent variables"
   ],
   "metadata": {
    "collapsed": false
   }
  },
  {
   "cell_type": "code",
   "execution_count": 18,
   "outputs": [
    {
     "data": {
      "text/plain": "['year',\n 'month',\n 'hour',\n 'weekday',\n 'temp',\n 'humidity',\n 'windspeed',\n 'season_1',\n 'season_2',\n 'season_3',\n 'season_4',\n 'is_holiday_0',\n 'is_holiday_1',\n 'is_workingday_0',\n 'is_workingday_1',\n 'weather_condition_1',\n 'weather_condition_2',\n 'weather_condition_3',\n 'weather_condition_4']"
     },
     "metadata": {},
     "output_type": "execute_result",
     "execution_count": 18
    }
   ],
   "source": [
    "# crate a list of names of the independent variables\n",
    "x_column_name = list(hour_df_with_dummies.columns)\n",
    "x_column_name.remove('rec_id')\n",
    "x_column_name.remove('datetime')\n",
    "x_column_name.remove('atemp')\n",
    "x_column_name.remove('casual')\n",
    "x_column_name.remove('registered')\n",
    "x_column_name.remove('total_count')\n",
    "x_column_name"
   ],
   "metadata": {
    "collapsed": false,
    "pycharm": {
     "name": "#%%\n",
     "is_executing": false
    }
   }
  },
  {
   "cell_type": "code",
   "execution_count": 19,
   "outputs": [],
   "source": [
    "# all independent and dependent variables\n",
    "all_X = hour_df_with_dummies[x_column_name]\n",
    "all_y = hour_df_with_dummies.total_count\n"
   ],
   "metadata": {
    "collapsed": false,
    "pycharm": {
     "name": "#%%\n",
     "is_executing": false
    }
   }
  },
  {
   "cell_type": "markdown",
   "source": [
    "## 3.2) Make training and testing data"
   ],
   "metadata": {
    "collapsed": false
   }
  },
  {
   "cell_type": "code",
   "execution_count": 20,
   "outputs": [],
   "source": [
    "from sklearn.model_selection import  train_test_split\n",
    "X, X_test, y, y_test = train_test_split(all_X, all_y,test_size=0.33, random_state=42)"
   ],
   "metadata": {
    "collapsed": false,
    "pycharm": {
     "name": "#%%\n",
     "is_executing": false
    }
   }
  },
  {
   "cell_type": "markdown",
   "source": [
    "## 3.3) Get usage of the DecisionTreeRegressor model"
   ],
   "metadata": {
    "collapsed": false,
    "pycharm": {
     "name": "#%% md\n"
    }
   }
  },
  {
   "cell_type": "code",
   "execution_count": 21,
   "outputs": [
    {
     "data": {
      "text/plain": "0.5645919317952333"
     },
     "metadata": {},
     "output_type": "execute_result",
     "execution_count": 21
    }
   ],
   "source": [
    "from sklearn.tree import DecisionTreeRegressor\n",
    "model = DecisionTreeRegressor(max_depth=4, min_samples_split=5, max_leaf_nodes=10)\n",
    "model.fit(X,y)\n",
    "model.score(X,y)"
   ],
   "metadata": {
    "collapsed": false,
    "pycharm": {
     "name": "#%%\n",
     "is_executing": false
    }
   }
  },
  {
   "cell_type": "markdown",
   "source": [
    "## 3.4) Visualize the tree"
   ],
   "metadata": {
    "collapsed": false,
    "pycharm": {
     "name": "#%% md\n"
    }
   }
  },
  {
   "cell_type": "code",
   "execution_count": 22,
   "outputs": [
    {
     "data": {
      "text/plain": "True"
     },
     "metadata": {},
     "output_type": "execute_result",
     "execution_count": 22
    }
   ],
   "source": [
    "from sklearn import tree\n",
    "import pydotplus\n",
    "dot_data = tree.export_graphviz(model,out_file=None)\n",
    "graph = pydotplus.graph_from_dot_data(dot_data)\n",
    "graph.write_pdf(\"bikeshare.pdf\")\n",
    "\n"
   ],
   "metadata": {
    "collapsed": false,
    "pycharm": {
     "name": "#%%\n",
     "is_executing": false
    }
   }
  },
  {
   "cell_type": "markdown",
   "source": [
    "## 3.5) Cross Validation: Best Model Details"
   ],
   "metadata": {
    "collapsed": false,
    "pycharm": {
     "name": "#%% md\n",
     "is_executing": false
    }
   }
  },
  {
   "cell_type": "code",
   "execution_count": 23,
   "outputs": [],
   "source": [
    "# Grid Search With Cross Validation\n",
    "param_grid = {\"criterion\": [\"mse\", \"friedman_mse\", \"mae\"],\n",
    "              \"min_samples_split\": [10, 20, 40],\n",
    "              \"max_depth\": [2, 6, 8],\n",
    "              \"min_samples_leaf\": [20, 40, 100],\n",
    "              \"max_leaf_nodes\": [5, 20, 100, 500, 800],\n",
    "              }"
   ],
   "metadata": {
    "collapsed": false,
    "pycharm": {
     "name": "#%%\n",
     "is_executing": false
    }
   }
  },
  {
   "cell_type": "code",
   "execution_count": 24,
   "outputs": [
    {
     "data": {
      "text/plain": "'\\nfrom sklearn.model_selection import GridSearchCV\\n\\n# prepare a GridSearchCV object \\ngrid_cv_dtr = GridSearchCV(model, param_grid, cv=5)\\n\\n# fit the training dataset to the object\\ngrid_cv_dtr.fit(X,y)\\n\\n'"
     },
     "metadata": {},
     "output_type": "execute_result",
     "execution_count": 24
    }
   ],
   "source": [
    "'''\n",
    "from sklearn.model_selection import GridSearchCV\n",
    "\n",
    "# prepare a GridSearchCV object \n",
    "grid_cv_dtr = GridSearchCV(model, param_grid, cv=5)\n",
    "\n",
    "# fit the training dataset to the object\n",
    "grid_cv_dtr.fit(X,y)\n",
    "\n",
    "'''"
   ],
   "metadata": {
    "collapsed": false,
    "pycharm": {
     "name": "#%%\n",
     "is_executing": false
    }
   }
  },
  {
   "cell_type": "code",
   "execution_count": 25,
   "outputs": [],
   "source": [
    "# print out the results\n",
    "#print(f\"R-Squared::{grid_cv_dtr.best_score_}\")\n",
    "#print(f\"Best Hyperparameters::\\n{grid_cv_dtr.best_params_}\")\n"
   ],
   "metadata": {
    "collapsed": false,
    "pycharm": {
     "name": "#%%\n",
     "is_executing": false
    }
   }
  },
  {
   "cell_type": "markdown",
   "source": [
    "## 3.6) Get the results from the Cross validation"
   ],
   "metadata": {
    "collapsed": false
   }
  },
  {
   "cell_type": "code",
   "execution_count": 26,
   "outputs": [
    {
     "name": "stdout",
     "text": [
      "<class 'pandas.core.frame.DataFrame'>\n",
      "RangeIndex: 405 entries, 0 to 404\n",
      "Data columns (total 18 columns):\n",
      "mean_fit_time              405 non-null float64\n",
      "std_fit_time               405 non-null float64\n",
      "mean_score_time            405 non-null float64\n",
      "std_score_time             405 non-null float64\n",
      "param_criterion            405 non-null object\n",
      "param_max_depth            405 non-null int64\n",
      "param_max_leaf_nodes       405 non-null int64\n",
      "param_min_samples_leaf     405 non-null int64\n",
      "param_min_samples_split    405 non-null int64\n",
      "params                     405 non-null object\n",
      "split0_test_score          405 non-null float64\n",
      "split1_test_score          405 non-null float64\n",
      "split2_test_score          405 non-null float64\n",
      "split3_test_score          405 non-null float64\n",
      "split4_test_score          405 non-null float64\n",
      "mean_test_score            405 non-null float64\n",
      "std_test_score             405 non-null float64\n",
      "rank_test_score            405 non-null int64\n",
      "dtypes: float64(11), int64(5), object(2)\n",
      "memory usage: 57.1+ KB\n",
      "None\n"
     ],
     "output_type": "stream"
    },
    {
     "data": {
      "text/plain": "   mean_fit_time  std_fit_time  mean_score_time  std_score_time  \\\n0       0.015988      0.001729         0.003537        0.000466   \n1       0.010885      0.000156         0.002463        0.000080   \n2       0.011257      0.000542         0.002665        0.000246   \n3       0.013495      0.002403         0.004896        0.002732   \n4       0.016563      0.003213         0.003882        0.000999   \n\n  param_criterion  param_max_depth  param_max_leaf_nodes  \\\n0             mse                2                     5   \n1             mse                2                     5   \n2             mse                2                     5   \n3             mse                2                     5   \n4             mse                2                     5   \n\n   param_min_samples_leaf  param_min_samples_split  \\\n0                      20                       10   \n1                      20                       20   \n2                      20                       40   \n3                      40                       10   \n4                      40                       20   \n\n                                              params  split0_test_score  \\\n0  {'criterion': 'mse', 'max_depth': 2, 'max_leaf...           0.392674   \n1  {'criterion': 'mse', 'max_depth': 2, 'max_leaf...           0.392674   \n2  {'criterion': 'mse', 'max_depth': 2, 'max_leaf...           0.392674   \n3  {'criterion': 'mse', 'max_depth': 2, 'max_leaf...           0.392674   \n4  {'criterion': 'mse', 'max_depth': 2, 'max_leaf...           0.392674   \n\n   split1_test_score  split2_test_score  split3_test_score  split4_test_score  \\\n0           0.400027           0.417498           0.399368           0.417796   \n1           0.400027           0.417498           0.399368           0.417796   \n2           0.400027           0.417498           0.399368           0.417796   \n3           0.400027           0.417498           0.399368           0.417796   \n4           0.400027           0.417498           0.399368           0.417796   \n\n   mean_test_score  std_test_score  rank_test_score  \n0         0.405472        0.010268              271  \n1         0.405472        0.010268              271  \n2         0.405472        0.010268              271  \n3         0.405472        0.010268              271  \n4         0.405472        0.010268              271  ",
      "text/html": "<div>\n<style scoped>\n    .dataframe tbody tr th:only-of-type {\n        vertical-align: middle;\n    }\n\n    .dataframe tbody tr th {\n        vertical-align: top;\n    }\n\n    .dataframe thead th {\n        text-align: right;\n    }\n</style>\n<table border=\"1\" class=\"dataframe\">\n  <thead>\n    <tr style=\"text-align: right;\">\n      <th></th>\n      <th>mean_fit_time</th>\n      <th>std_fit_time</th>\n      <th>mean_score_time</th>\n      <th>std_score_time</th>\n      <th>param_criterion</th>\n      <th>param_max_depth</th>\n      <th>param_max_leaf_nodes</th>\n      <th>param_min_samples_leaf</th>\n      <th>param_min_samples_split</th>\n      <th>params</th>\n      <th>split0_test_score</th>\n      <th>split1_test_score</th>\n      <th>split2_test_score</th>\n      <th>split3_test_score</th>\n      <th>split4_test_score</th>\n      <th>mean_test_score</th>\n      <th>std_test_score</th>\n      <th>rank_test_score</th>\n    </tr>\n  </thead>\n  <tbody>\n    <tr>\n      <td>0</td>\n      <td>0.015988</td>\n      <td>0.001729</td>\n      <td>0.003537</td>\n      <td>0.000466</td>\n      <td>mse</td>\n      <td>2</td>\n      <td>5</td>\n      <td>20</td>\n      <td>10</td>\n      <td>{'criterion': 'mse', 'max_depth': 2, 'max_leaf...</td>\n      <td>0.392674</td>\n      <td>0.400027</td>\n      <td>0.417498</td>\n      <td>0.399368</td>\n      <td>0.417796</td>\n      <td>0.405472</td>\n      <td>0.010268</td>\n      <td>271</td>\n    </tr>\n    <tr>\n      <td>1</td>\n      <td>0.010885</td>\n      <td>0.000156</td>\n      <td>0.002463</td>\n      <td>0.000080</td>\n      <td>mse</td>\n      <td>2</td>\n      <td>5</td>\n      <td>20</td>\n      <td>20</td>\n      <td>{'criterion': 'mse', 'max_depth': 2, 'max_leaf...</td>\n      <td>0.392674</td>\n      <td>0.400027</td>\n      <td>0.417498</td>\n      <td>0.399368</td>\n      <td>0.417796</td>\n      <td>0.405472</td>\n      <td>0.010268</td>\n      <td>271</td>\n    </tr>\n    <tr>\n      <td>2</td>\n      <td>0.011257</td>\n      <td>0.000542</td>\n      <td>0.002665</td>\n      <td>0.000246</td>\n      <td>mse</td>\n      <td>2</td>\n      <td>5</td>\n      <td>20</td>\n      <td>40</td>\n      <td>{'criterion': 'mse', 'max_depth': 2, 'max_leaf...</td>\n      <td>0.392674</td>\n      <td>0.400027</td>\n      <td>0.417498</td>\n      <td>0.399368</td>\n      <td>0.417796</td>\n      <td>0.405472</td>\n      <td>0.010268</td>\n      <td>271</td>\n    </tr>\n    <tr>\n      <td>3</td>\n      <td>0.013495</td>\n      <td>0.002403</td>\n      <td>0.004896</td>\n      <td>0.002732</td>\n      <td>mse</td>\n      <td>2</td>\n      <td>5</td>\n      <td>40</td>\n      <td>10</td>\n      <td>{'criterion': 'mse', 'max_depth': 2, 'max_leaf...</td>\n      <td>0.392674</td>\n      <td>0.400027</td>\n      <td>0.417498</td>\n      <td>0.399368</td>\n      <td>0.417796</td>\n      <td>0.405472</td>\n      <td>0.010268</td>\n      <td>271</td>\n    </tr>\n    <tr>\n      <td>4</td>\n      <td>0.016563</td>\n      <td>0.003213</td>\n      <td>0.003882</td>\n      <td>0.000999</td>\n      <td>mse</td>\n      <td>2</td>\n      <td>5</td>\n      <td>40</td>\n      <td>20</td>\n      <td>{'criterion': 'mse', 'max_depth': 2, 'max_leaf...</td>\n      <td>0.392674</td>\n      <td>0.400027</td>\n      <td>0.417498</td>\n      <td>0.399368</td>\n      <td>0.417796</td>\n      <td>0.405472</td>\n      <td>0.010268</td>\n      <td>271</td>\n    </tr>\n  </tbody>\n</table>\n</div>"
     },
     "metadata": {},
     "output_type": "execute_result",
     "execution_count": 26
    }
   ],
   "source": [
    "# Resulting dataframe\n",
    "#df = pd.DataFrame(data=grid_cv_dtr.cv_results_)\n",
    "import pandas as pd\n",
    "df = pd.read_csv('DATA/cross_validation_result.csv')\n",
    "print(df.info())\n",
    "df.head()"
   ],
   "metadata": {
    "collapsed": false,
    "pycharm": {
     "name": "#%%\n",
     "is_executing": false
    }
   }
  },
  {
   "cell_type": "code",
   "execution_count": 27,
   "outputs": [
    {
     "data": {
      "text/plain": "[Text(0.5, 1.0, 'Effect of Depth and Leaf Nodes on Model Performance')]"
     },
     "metadata": {},
     "output_type": "execute_result",
     "execution_count": 27
    },
    {
     "data": {
      "text/plain": "<Figure size 2160x720 with 1 Axes>",
      "image/png": "[encoded data removed]"
     },
     "metadata": {},
     "output_type": "display_data"
    }
   ],
   "source": [
    "# Plotting to show the relationship of the mean test scores and max-depth parameters \n",
    "#      for different max-leaf-nodes parameters\n",
    "fig,ax = plt.subplots()\n",
    "sn.pointplot(data=df,\n",
    "             y='mean_test_score',x='param_max_depth',\n",
    "             hue='param_max_leaf_nodes',ax=ax)\n",
    "ax.set(title=\"Effect of Depth and Leaf Nodes on Model Performance\")"
   ],
   "metadata": {
    "collapsed": false,
    "pycharm": {
     "name": "#%%\n",
     "is_executing": false
    }
   }
  },
  {
   "cell_type": "markdown",
   "source": [
    "# 4) Work with Resulting Model\n",
    "\n",
    "## 4.1) Recall the final model"
   ],
   "metadata": {
    "collapsed": false
   }
  },
  {
   "cell_type": "code",
   "execution_count": 28,
   "outputs": [
    {
     "name": "stdout",
     "text": [
      "0.8542587156355247\n"
     ],
     "output_type": "stream"
    }
   ],
   "source": [
    "best_model = DecisionTreeRegressor(criterion='mse',\n",
    "                                max_depth=8,\n",
    "                                max_leaf_nodes=500,\n",
    "                                min_samples_leaf=20,\n",
    "                                min_samples_split=10)\n",
    "best_model.fit(X,y)\n",
    "print(best_model.score(X,y))"
   ],
   "metadata": {
    "collapsed": false,
    "pycharm": {
     "name": "#%%\n",
     "is_executing": false
    }
   }
  },
  {
   "cell_type": "markdown",
   "source": [
    "## 4.2) Get the "
   ],
   "metadata": {
    "collapsed": false
   }
  },
  {
   "cell_type": "code",
   "execution_count": 29,
   "outputs": [
    {
     "data": {
      "text/plain": "array([363.73809524, 113.35294118,  14.48148148, ..., 122.28282828,\n       422.        ,  88.4516129 ])"
     },
     "metadata": {},
     "output_type": "execute_result",
     "execution_count": 29
    }
   ],
   "source": [
    "y_pred = best_model.predict(X_test)\n",
    "\n",
    "y_pred"
   ],
   "metadata": {
    "collapsed": false,
    "pycharm": {
     "name": "#%%\n",
     "is_executing": false
    }
   }
  },
  {
   "cell_type": "code",
   "execution_count": 31,
   "outputs": [
    {
     "data": {
      "text/plain": "12830     61.261905\n8688     -25.352941\n7091     -10.481481\n12230      9.590909\n431        1.525000\n            ...    \n6260     -75.610169\n16788   -165.285714\n819       38.717172\n15323    212.000000\n7590      27.548387\nName: total_count, Length: 5736, dtype: float64"
     },
     "metadata": {},
     "output_type": "execute_result",
     "execution_count": 31
    }
   ],
   "source": [
    "y_test - y_pred\n"
   ],
   "metadata": {
    "collapsed": false,
    "pycharm": {
     "name": "#%%\n",
     "is_executing": false
    }
   }
  },
  {
   "cell_type": "code",
   "execution_count": 33,
   "outputs": [
    {
     "traceback": [
      "\u001b[0;31m---------------------------------------------------------------------------\u001b[0m",
      "\u001b[0;31mAttributeError\u001b[0m                            Traceback (most recent call last)",
      "\u001b[0;32m<ipython-input-33-fffbeebbbf55>\u001b[0m in \u001b[0;36m<module>\u001b[0;34m\u001b[0m\n\u001b[0;32m----> 1\u001b[0;31m \u001b[0my_test\u001b[0m\u001b[0;34m.\u001b[0m\u001b[0mflatten\u001b[0m\u001b[0;34m(\u001b[0m\u001b[0;34m)\u001b[0m\u001b[0;34m\u001b[0m\u001b[0;34m\u001b[0m\u001b[0m\n\u001b[0m\u001b[1;32m      2\u001b[0m \u001b[0;34m\u001b[0m\u001b[0m\n\u001b[1;32m      3\u001b[0m \u001b[0;34m\u001b[0m\u001b[0m\n",
      "\u001b[0;32m~/opt/anaconda3/lib/python3.7/site-packages/pandas/core/generic.py\u001b[0m in \u001b[0;36m__getattr__\u001b[0;34m(self, name)\u001b[0m\n\u001b[1;32m   5177\u001b[0m             \u001b[0;32mif\u001b[0m \u001b[0mself\u001b[0m\u001b[0;34m.\u001b[0m\u001b[0m_info_axis\u001b[0m\u001b[0;34m.\u001b[0m\u001b[0m_can_hold_identifiers_and_holds_name\u001b[0m\u001b[0;34m(\u001b[0m\u001b[0mname\u001b[0m\u001b[0;34m)\u001b[0m\u001b[0;34m:\u001b[0m\u001b[0;34m\u001b[0m\u001b[0;34m\u001b[0m\u001b[0m\n\u001b[1;32m   5178\u001b[0m                 \u001b[0;32mreturn\u001b[0m \u001b[0mself\u001b[0m\u001b[0;34m[\u001b[0m\u001b[0mname\u001b[0m\u001b[0;34m]\u001b[0m\u001b[0;34m\u001b[0m\u001b[0;34m\u001b[0m\u001b[0m\n\u001b[0;32m-> 5179\u001b[0;31m             \u001b[0;32mreturn\u001b[0m \u001b[0mobject\u001b[0m\u001b[0;34m.\u001b[0m\u001b[0m__getattribute__\u001b[0m\u001b[0;34m(\u001b[0m\u001b[0mself\u001b[0m\u001b[0;34m,\u001b[0m \u001b[0mname\u001b[0m\u001b[0;34m)\u001b[0m\u001b[0;34m\u001b[0m\u001b[0;34m\u001b[0m\u001b[0m\n\u001b[0m\u001b[1;32m   5180\u001b[0m \u001b[0;34m\u001b[0m\u001b[0m\n\u001b[1;32m   5181\u001b[0m     \u001b[0;32mdef\u001b[0m \u001b[0m__setattr__\u001b[0m\u001b[0;34m(\u001b[0m\u001b[0mself\u001b[0m\u001b[0;34m,\u001b[0m \u001b[0mname\u001b[0m\u001b[0;34m,\u001b[0m \u001b[0mvalue\u001b[0m\u001b[0;34m)\u001b[0m\u001b[0;34m:\u001b[0m\u001b[0;34m\u001b[0m\u001b[0;34m\u001b[0m\u001b[0m\n",
      "\u001b[0;31mAttributeError\u001b[0m: 'Series' object has no attribute 'flatten'"
     ],
     "ename": "AttributeError",
     "evalue": "'Series' object has no attribute 'flatten'",
     "output_type": "error"
    }
   ],
   "source": [
    "from sklearn.model_selection import cross_val_score, cross_val_predict\n",
    "r2_scores = cross_val_score(grid_cv_dtr.best_estimator_, X, y, cv=10)\n",
    "mse_scores = cross_val_score(grid_cv_dtr.best_estimator_, X, y, cv=10,scoring='neg_mean_squared_error')\n"
   ],
   "metadata": {
    "collapsed": false,
    "pycharm": {
     "name": "#%%\n",
     "is_executing": false
    }
   }
  },
  {
   "cell_type": "code",
   "execution_count": null,
   "outputs": [],
   "source": [
    "\n"
   ],
   "metadata": {
    "collapsed": false,
    "pycharm": {
     "name": "#%%\n"
    }
   }
  }
 ],
 "metadata": {
  "kernelspec": {
   "display_name": "Python 3",
   "language": "python",
   "name": "python3"
  },
  "language_info": {
   "codemirror_mode": {
    "name": "ipython",
    "version": 2
   },
   "file_extension": ".py",
   "mimetype": "text/x-python",
   "name": "python",
   "nbconvert_exporter": "python",
   "pygments_lexer": "ipython2",
   "version": "2.7.6"
  },
  "pycharm": {
   "stem_cell": {
    "cell_type": "raw",
    "source": [],
    "metadata": {
     "collapsed": false
    }
   }
  }
 },
 "nbformat": 4,
 "nbformat_minor": 0
}