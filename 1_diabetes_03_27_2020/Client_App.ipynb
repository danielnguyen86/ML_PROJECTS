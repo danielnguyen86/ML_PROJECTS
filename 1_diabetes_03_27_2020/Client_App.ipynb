{
 "cells": [
  {
   "cell_type": "markdown",
   "metadata": {
    "collapsed": true,
    "pycharm": {
     "name": "#%% md\n"
    }
   },
   "source": [
    "# Creating a Client App to Use the Model\n",
    "- formulate the JSON string to send to the service\n",
    "- get the result back in JSON,\n",
    "- and then retrieve the details of the result"
   ]
  },
  {
   "cell_type": "code",
   "execution_count": 5,
   "outputs": [
    {
     "name": "stdout",
     "output_type": "stream",
     "text": [
      "====================================\n",
      "Not Diabetic\n",
      "Confidence: 68.42 %\n",
      "====================================\n"
     ]
    }
   ],
   "source": [
    "import json\n",
    "import requests\n",
    "\n",
    "def predict_diabetes(bmi,age,glucose):\n",
    "    url = 'http://127.0.0.1:5000/PREDICT'\n",
    "    data = {\"BMI\":bmi, \"Age\":age, \"Glucose\":glucose}\n",
    "    data_json = json.dumps(data)\n",
    "    headers = {'Content-type':'application/json'}\n",
    "    response = requests.post(url,data=data_json,headers=headers)\n",
    "    result = json.loads(response.text)\n",
    "    return result\n",
    "\n",
    "if __name__ == '__main__':\n",
    "    predictions = predict_diabetes(30,40,100)\n",
    "    print(\"====================================\")\n",
    "    print('Diabetic' if predictions['prediction'] == 1 else 'Not Diabetic')\n",
    "    print(f\"Confidence: {predictions['confidence']} %\")\n",
    "    print(\"====================================\")"
   ],
   "metadata": {
    "collapsed": false,
    "pycharm": {
     "name": "#%%\n"
    }
   }
  },
  {
   "cell_type": "code",
   "execution_count": null,
   "outputs": [],
   "source": [
    "\n"
   ],
   "metadata": {
    "collapsed": false,
    "pycharm": {
     "name": "#%%\n"
    }
   }
  }
 ],
 "metadata": {
  "kernelspec": {
   "display_name": "Python 3",
   "language": "python",
   "name": "python3"
  },
  "language_info": {
   "codemirror_mode": {
    "name": "ipython",
    "version": 2
   },
   "file_extension": ".py",
   "mimetype": "text/x-python",
   "name": "python",
   "nbconvert_exporter": "python",
   "pygments_lexer": "ipython2",
   "version": "2.7.6"
  }
 },
 "nbformat": 4,
 "nbformat_minor": 0
}