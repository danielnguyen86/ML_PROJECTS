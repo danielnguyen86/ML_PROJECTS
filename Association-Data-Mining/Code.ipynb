{
 "cells": [
  {
   "cell_type": "code",
   "execution_count": 1,
   "metadata": {
    "collapsed": true,
    "pycharm": {
     "is_executing": false
    }
   },
   "outputs": [],
   "source": [
    "import pandas as pd"
   ]
  },
  {
   "cell_type": "markdown",
   "source": [
    "# 1/ Loading data"
   ],
   "metadata": {
    "collapsed": false,
    "pycharm": {
     "name": "#%% md\n"
    }
   }
  },
  {
   "cell_type": "code",
   "execution_count": 2,
   "outputs": [],
   "source": [
    "data = pd.read_csv(\"DATA/grocery_dataset_df.csv\")"
   ],
   "metadata": {
    "collapsed": false,
    "pycharm": {
     "name": "#%%\n",
     "is_executing": false
    }
   }
  },
  {
   "cell_type": "code",
   "execution_count": 3,
   "outputs": [
    {
     "name": "stdout",
     "text": [
      "<class 'pandas.core.frame.DataFrame'>\n",
      "RangeIndex: 9835 entries, 0 to 9834\n",
      "Columns: 169 entries, Instant food products to zwieback\n",
      "dtypes: float64(143), int64(26)\n",
      "memory usage: 12.7 MB\n",
      "None\n"
     ],
     "output_type": "stream"
    },
    {
     "data": {
      "text/plain": "   Instant food products  UHT-milk  abrasive cleaner  artif. sweetener  \\\n0                    NaN         0                 0               NaN   \n1                    NaN         0                 0               NaN   \n2                    NaN         0                 0               NaN   \n3                    NaN         0                 0               NaN   \n4                    NaN         0                 0               NaN   \n\n   baby cosmetics  baby food  bags  baking powder  bathroom cleaner  beef  \\\n0             NaN        NaN   NaN            NaN               NaN   NaN   \n1             NaN        NaN   NaN            NaN               NaN   NaN   \n2             NaN        NaN   NaN            NaN               NaN   NaN   \n3             NaN        NaN   NaN            NaN               NaN   NaN   \n4             NaN        NaN   NaN            NaN               NaN   NaN   \n\n   ...  turkey  vinegar  waffles  whipped/sour cream  whisky  white bread  \\\n0  ...     NaN      NaN      NaN                 NaN     NaN            0   \n1  ...     NaN      NaN      NaN                 NaN     NaN            0   \n2  ...     NaN      NaN      NaN                 NaN     NaN            0   \n3  ...     NaN      NaN      NaN                 NaN     NaN            0   \n4  ...     NaN      NaN      NaN                 NaN     NaN            0   \n\n   white wine  whole milk  yogurt  zwieback  \n0         NaN           0       0       NaN  \n1         NaN           0       1       NaN  \n2         NaN           1       0       NaN  \n3         NaN           0       1       NaN  \n4         NaN           1       0       NaN  \n\n[5 rows x 169 columns]",
      "text/html": "<div>\n<style scoped>\n    .dataframe tbody tr th:only-of-type {\n        vertical-align: middle;\n    }\n\n    .dataframe tbody tr th {\n        vertical-align: top;\n    }\n\n    .dataframe thead th {\n        text-align: right;\n    }\n</style>\n<table border=\"1\" class=\"dataframe\">\n  <thead>\n    <tr style=\"text-align: right;\">\n      <th></th>\n      <th>Instant food products</th>\n      <th>UHT-milk</th>\n      <th>abrasive cleaner</th>\n      <th>artif. sweetener</th>\n      <th>baby cosmetics</th>\n      <th>baby food</th>\n      <th>bags</th>\n      <th>baking powder</th>\n      <th>bathroom cleaner</th>\n      <th>beef</th>\n      <th>...</th>\n      <th>turkey</th>\n      <th>vinegar</th>\n      <th>waffles</th>\n      <th>whipped/sour cream</th>\n      <th>whisky</th>\n      <th>white bread</th>\n      <th>white wine</th>\n      <th>whole milk</th>\n      <th>yogurt</th>\n      <th>zwieback</th>\n    </tr>\n  </thead>\n  <tbody>\n    <tr>\n      <th>0</th>\n      <td>NaN</td>\n      <td>0</td>\n      <td>0</td>\n      <td>NaN</td>\n      <td>NaN</td>\n      <td>NaN</td>\n      <td>NaN</td>\n      <td>NaN</td>\n      <td>NaN</td>\n      <td>NaN</td>\n      <td>...</td>\n      <td>NaN</td>\n      <td>NaN</td>\n      <td>NaN</td>\n      <td>NaN</td>\n      <td>NaN</td>\n      <td>0</td>\n      <td>NaN</td>\n      <td>0</td>\n      <td>0</td>\n      <td>NaN</td>\n    </tr>\n    <tr>\n      <th>1</th>\n      <td>NaN</td>\n      <td>0</td>\n      <td>0</td>\n      <td>NaN</td>\n      <td>NaN</td>\n      <td>NaN</td>\n      <td>NaN</td>\n      <td>NaN</td>\n      <td>NaN</td>\n      <td>NaN</td>\n      <td>...</td>\n      <td>NaN</td>\n      <td>NaN</td>\n      <td>NaN</td>\n      <td>NaN</td>\n      <td>NaN</td>\n      <td>0</td>\n      <td>NaN</td>\n      <td>0</td>\n      <td>1</td>\n      <td>NaN</td>\n    </tr>\n    <tr>\n      <th>2</th>\n      <td>NaN</td>\n      <td>0</td>\n      <td>0</td>\n      <td>NaN</td>\n      <td>NaN</td>\n      <td>NaN</td>\n      <td>NaN</td>\n      <td>NaN</td>\n      <td>NaN</td>\n      <td>NaN</td>\n      <td>...</td>\n      <td>NaN</td>\n      <td>NaN</td>\n      <td>NaN</td>\n      <td>NaN</td>\n      <td>NaN</td>\n      <td>0</td>\n      <td>NaN</td>\n      <td>1</td>\n      <td>0</td>\n      <td>NaN</td>\n    </tr>\n    <tr>\n      <th>3</th>\n      <td>NaN</td>\n      <td>0</td>\n      <td>0</td>\n      <td>NaN</td>\n      <td>NaN</td>\n      <td>NaN</td>\n      <td>NaN</td>\n      <td>NaN</td>\n      <td>NaN</td>\n      <td>NaN</td>\n      <td>...</td>\n      <td>NaN</td>\n      <td>NaN</td>\n      <td>NaN</td>\n      <td>NaN</td>\n      <td>NaN</td>\n      <td>0</td>\n      <td>NaN</td>\n      <td>0</td>\n      <td>1</td>\n      <td>NaN</td>\n    </tr>\n    <tr>\n      <th>4</th>\n      <td>NaN</td>\n      <td>0</td>\n      <td>0</td>\n      <td>NaN</td>\n      <td>NaN</td>\n      <td>NaN</td>\n      <td>NaN</td>\n      <td>NaN</td>\n      <td>NaN</td>\n      <td>NaN</td>\n      <td>...</td>\n      <td>NaN</td>\n      <td>NaN</td>\n      <td>NaN</td>\n      <td>NaN</td>\n      <td>NaN</td>\n      <td>0</td>\n      <td>NaN</td>\n      <td>1</td>\n      <td>0</td>\n      <td>NaN</td>\n    </tr>\n  </tbody>\n</table>\n<p>5 rows × 169 columns</p>\n</div>"
     },
     "metadata": {},
     "output_type": "execute_result",
     "execution_count": 3
    }
   ],
   "source": [
    "print(data.info())\n",
    "data.head()"
   ],
   "metadata": {
    "collapsed": false,
    "pycharm": {
     "name": "#%%\n",
     "is_executing": false
    }
   }
  },
  {
   "cell_type": "markdown",
   "source": [
    "# 2/ Cleaning data"
   ],
   "metadata": {
    "collapsed": false,
    "pycharm": {
     "name": "#%% md\n"
    }
   }
  },
  {
   "cell_type": "code",
   "execution_count": 4,
   "outputs": [
    {
     "data": {
      "text/plain": "   Instant food products  UHT-milk  abrasive cleaner  artif. sweetener  \\\n0                      0         0                 0                 0   \n1                      0         0                 0                 0   \n2                      0         0                 0                 0   \n3                      0         0                 0                 0   \n4                      0         0                 0                 0   \n\n   baby cosmetics  baby food  bags  baking powder  bathroom cleaner  beef  \\\n0               0          0     0              0                 0     0   \n1               0          0     0              0                 0     0   \n2               0          0     0              0                 0     0   \n3               0          0     0              0                 0     0   \n4               0          0     0              0                 0     0   \n\n   ...  turkey  vinegar  waffles  whipped/sour cream  whisky  white bread  \\\n0  ...       0        0        0                   0       0            0   \n1  ...       0        0        0                   0       0            0   \n2  ...       0        0        0                   0       0            0   \n3  ...       0        0        0                   0       0            0   \n4  ...       0        0        0                   0       0            0   \n\n   white wine  whole milk  yogurt  zwieback  \n0           0           0       0         0  \n1           0           0       1         0  \n2           0           1       0         0  \n3           0           0       1         0  \n4           0           1       0         0  \n\n[5 rows x 169 columns]",
      "text/html": "<div>\n<style scoped>\n    .dataframe tbody tr th:only-of-type {\n        vertical-align: middle;\n    }\n\n    .dataframe tbody tr th {\n        vertical-align: top;\n    }\n\n    .dataframe thead th {\n        text-align: right;\n    }\n</style>\n<table border=\"1\" class=\"dataframe\">\n  <thead>\n    <tr style=\"text-align: right;\">\n      <th></th>\n      <th>Instant food products</th>\n      <th>UHT-milk</th>\n      <th>abrasive cleaner</th>\n      <th>artif. sweetener</th>\n      <th>baby cosmetics</th>\n      <th>baby food</th>\n      <th>bags</th>\n      <th>baking powder</th>\n      <th>bathroom cleaner</th>\n      <th>beef</th>\n      <th>...</th>\n      <th>turkey</th>\n      <th>vinegar</th>\n      <th>waffles</th>\n      <th>whipped/sour cream</th>\n      <th>whisky</th>\n      <th>white bread</th>\n      <th>white wine</th>\n      <th>whole milk</th>\n      <th>yogurt</th>\n      <th>zwieback</th>\n    </tr>\n  </thead>\n  <tbody>\n    <tr>\n      <th>0</th>\n      <td>0</td>\n      <td>0</td>\n      <td>0</td>\n      <td>0</td>\n      <td>0</td>\n      <td>0</td>\n      <td>0</td>\n      <td>0</td>\n      <td>0</td>\n      <td>0</td>\n      <td>...</td>\n      <td>0</td>\n      <td>0</td>\n      <td>0</td>\n      <td>0</td>\n      <td>0</td>\n      <td>0</td>\n      <td>0</td>\n      <td>0</td>\n      <td>0</td>\n      <td>0</td>\n    </tr>\n    <tr>\n      <th>1</th>\n      <td>0</td>\n      <td>0</td>\n      <td>0</td>\n      <td>0</td>\n      <td>0</td>\n      <td>0</td>\n      <td>0</td>\n      <td>0</td>\n      <td>0</td>\n      <td>0</td>\n      <td>...</td>\n      <td>0</td>\n      <td>0</td>\n      <td>0</td>\n      <td>0</td>\n      <td>0</td>\n      <td>0</td>\n      <td>0</td>\n      <td>0</td>\n      <td>1</td>\n      <td>0</td>\n    </tr>\n    <tr>\n      <th>2</th>\n      <td>0</td>\n      <td>0</td>\n      <td>0</td>\n      <td>0</td>\n      <td>0</td>\n      <td>0</td>\n      <td>0</td>\n      <td>0</td>\n      <td>0</td>\n      <td>0</td>\n      <td>...</td>\n      <td>0</td>\n      <td>0</td>\n      <td>0</td>\n      <td>0</td>\n      <td>0</td>\n      <td>0</td>\n      <td>0</td>\n      <td>1</td>\n      <td>0</td>\n      <td>0</td>\n    </tr>\n    <tr>\n      <th>3</th>\n      <td>0</td>\n      <td>0</td>\n      <td>0</td>\n      <td>0</td>\n      <td>0</td>\n      <td>0</td>\n      <td>0</td>\n      <td>0</td>\n      <td>0</td>\n      <td>0</td>\n      <td>...</td>\n      <td>0</td>\n      <td>0</td>\n      <td>0</td>\n      <td>0</td>\n      <td>0</td>\n      <td>0</td>\n      <td>0</td>\n      <td>0</td>\n      <td>1</td>\n      <td>0</td>\n    </tr>\n    <tr>\n      <th>4</th>\n      <td>0</td>\n      <td>0</td>\n      <td>0</td>\n      <td>0</td>\n      <td>0</td>\n      <td>0</td>\n      <td>0</td>\n      <td>0</td>\n      <td>0</td>\n      <td>0</td>\n      <td>...</td>\n      <td>0</td>\n      <td>0</td>\n      <td>0</td>\n      <td>0</td>\n      <td>0</td>\n      <td>0</td>\n      <td>0</td>\n      <td>1</td>\n      <td>0</td>\n      <td>0</td>\n    </tr>\n  </tbody>\n</table>\n<p>5 rows × 169 columns</p>\n</div>"
     },
     "metadata": {},
     "output_type": "execute_result",
     "execution_count": 4
    }
   ],
   "source": [
    "# replace all NaN with Os\n",
    "data = data.fillna(0).astype(\"int64\")\n",
    "data.head()"
   ],
   "metadata": {
    "collapsed": false,
    "pycharm": {
     "name": "#%%\n",
     "is_executing": false
    }
   }
  },
  {
   "cell_type": "markdown",
   "source": [
    "# 3/ Exploring data"
   ],
   "metadata": {
    "collapsed": false,
    "pycharm": {
     "name": "#%% md\n"
    }
   }
  },
  {
   "cell_type": "markdown",
   "source": [
    "## 3.1 Amount of items purchased on each transaction"
   ],
   "metadata": {
    "collapsed": false,
    "pycharm": {
     "name": "#%% md\n"
    }
   }
  },
  {
   "cell_type": "code",
   "execution_count": 5,
   "outputs": [
    {
     "name": "stdout",
     "text": [
      "0    4\n",
      "1    3\n",
      "2    1\n",
      "3    4\n",
      "4    4\n",
      "dtype: int64\n"
     ],
     "output_type": "stream"
    }
   ],
   "source": [
    "amount_each_transaction = data.sum(axis=1)\n",
    "print(amount_each_transaction[0:5])"
   ],
   "metadata": {
    "collapsed": false,
    "pycharm": {
     "name": "#%%\n",
     "is_executing": false
    }
   }
  },
  {
   "cell_type": "markdown",
   "source": [
    "## 3.2 Features (purchased items) - Top lists:"
   ],
   "metadata": {
    "collapsed": false
   }
  },
  {
   "cell_type": "code",
   "execution_count": 6,
   "outputs": [
    {
     "name": "stdout",
     "text": [
      "Total purchased items = 43367\n"
     ],
     "output_type": "stream"
    },
    {
     "data": {
      "text/plain": "          item_name  item_count  item_frac  cumsum_frac\n0        whole milk        2513   0.057947     0.057947\n1  other vegetables        1903   0.043881     0.101829\n2        rolls/buns        1809   0.041714     0.143542\n3              soda        1715   0.039546     0.183089\n4            yogurt        1372   0.031637     0.214725",
      "text/html": "<div>\n<style scoped>\n    .dataframe tbody tr th:only-of-type {\n        vertical-align: middle;\n    }\n\n    .dataframe tbody tr th {\n        vertical-align: top;\n    }\n\n    .dataframe thead th {\n        text-align: right;\n    }\n</style>\n<table border=\"1\" class=\"dataframe\">\n  <thead>\n    <tr style=\"text-align: right;\">\n      <th></th>\n      <th>item_name</th>\n      <th>item_count</th>\n      <th>item_frac</th>\n      <th>cumsum_frac</th>\n    </tr>\n  </thead>\n  <tbody>\n    <tr>\n      <th>0</th>\n      <td>whole milk</td>\n      <td>2513</td>\n      <td>0.057947</td>\n      <td>0.057947</td>\n    </tr>\n    <tr>\n      <th>1</th>\n      <td>other vegetables</td>\n      <td>1903</td>\n      <td>0.043881</td>\n      <td>0.101829</td>\n    </tr>\n    <tr>\n      <th>2</th>\n      <td>rolls/buns</td>\n      <td>1809</td>\n      <td>0.041714</td>\n      <td>0.143542</td>\n    </tr>\n    <tr>\n      <th>3</th>\n      <td>soda</td>\n      <td>1715</td>\n      <td>0.039546</td>\n      <td>0.183089</td>\n    </tr>\n    <tr>\n      <th>4</th>\n      <td>yogurt</td>\n      <td>1372</td>\n      <td>0.031637</td>\n      <td>0.214725</td>\n    </tr>\n  </tbody>\n</table>\n</div>"
     },
     "metadata": {},
     "output_type": "display_data"
    },
    {
     "data": {
      "text/plain": "<matplotlib.axes._subplots.AxesSubplot at 0x1223bda90>"
     },
     "metadata": {},
     "output_type": "execute_result",
     "execution_count": 6
    },
    {
     "data": {
      "text/plain": "<Figure size 720x360 with 1 Axes>",
      "image/png": "[encoded data removed]"
     },
     "metadata": {
      "needs_background": "light"
     },
     "output_type": "display_data"
    }
   ],
   "source": [
    "import matplotlib.pyplot as plt\n",
    "\n",
    "# summary table ( sorted by \"count\") of all items:\n",
    "item_summary = data.sum().sort_values(ascending=False).reset_index()\n",
    "item_summary.rename(columns={\"index\":\"item_name\",0:\"item_count\"},inplace=True)\n",
    "total_item_count = item_summary.item_count.sum()        # total amount of all purchased items\n",
    "item_summary[\"item_frac\"]= item_summary.item_count/total_item_count\n",
    "item_summary[\"cumsum_frac\"] = item_summary.item_frac.cumsum()\n",
    "\n",
    "print(f\"Total purchased items = {total_item_count}\")\n",
    "\n",
    "# top 5 most purchased items\n",
    "display(item_summary.head())\n",
    "\n",
    "# plot top 20 most purchased items\n",
    "item_summary.head(20).plot(x=\"item_name\", y=\"item_count\",kind='bar', figsize=(10,5),title=\"Top 20 Most Purchased Items\")"
   ],
   "metadata": {
    "collapsed": false,
    "pycharm": {
     "name": "#%%\n",
     "is_executing": false
    }
   }
  },
  {
   "cell_type": "markdown",
   "source": [
    "# 4/ Association Data-Mining: FP Growth Algorithm "
   ],
   "metadata": {
    "collapsed": false,
    "pycharm": {
     "name": "#%% md\n"
    }
   }
  },
  {
   "cell_type": "markdown",
   "source": [
    "## 4.1 Prepare a desired subset for the algorithm: \n",
    "- It will contain just the items we are interested (i.e, the items contribute 40% to the total sales)\n",
    "- It will hold all transactions with at least 2 purchased items."
   ],
   "metadata": {
    "collapsed": false,
    "pycharm": {
     "name": "#%% md\n"
    }
   }
  },
  {
   "cell_type": "code",
   "execution_count": 7,
   "outputs": [
    {
     "data": {
      "text/plain": "           item_name  item_count  item_frac  cumsum_frac\n0         whole milk        2513   0.057947     0.057947\n1   other vegetables        1903   0.043881     0.101829\n2         rolls/buns        1809   0.041714     0.143542\n3               soda        1715   0.039546     0.183089\n4             yogurt        1372   0.031637     0.214725\n5      bottled water        1087   0.025065     0.239791\n6    root vegetables        1072   0.024719     0.264510\n7     tropical fruit        1032   0.023797     0.288307\n8      shopping bags         969   0.022344     0.310651\n9            sausage         924   0.021307     0.331957\n10            pastry         875   0.020177     0.352134\n11      citrus fruit         814   0.018770     0.370904\n12      bottled beer         792   0.018263     0.389167",
      "text/html": "<div>\n<style scoped>\n    .dataframe tbody tr th:only-of-type {\n        vertical-align: middle;\n    }\n\n    .dataframe tbody tr th {\n        vertical-align: top;\n    }\n\n    .dataframe thead th {\n        text-align: right;\n    }\n</style>\n<table border=\"1\" class=\"dataframe\">\n  <thead>\n    <tr style=\"text-align: right;\">\n      <th></th>\n      <th>item_name</th>\n      <th>item_count</th>\n      <th>item_frac</th>\n      <th>cumsum_frac</th>\n    </tr>\n  </thead>\n  <tbody>\n    <tr>\n      <th>0</th>\n      <td>whole milk</td>\n      <td>2513</td>\n      <td>0.057947</td>\n      <td>0.057947</td>\n    </tr>\n    <tr>\n      <th>1</th>\n      <td>other vegetables</td>\n      <td>1903</td>\n      <td>0.043881</td>\n      <td>0.101829</td>\n    </tr>\n    <tr>\n      <th>2</th>\n      <td>rolls/buns</td>\n      <td>1809</td>\n      <td>0.041714</td>\n      <td>0.143542</td>\n    </tr>\n    <tr>\n      <th>3</th>\n      <td>soda</td>\n      <td>1715</td>\n      <td>0.039546</td>\n      <td>0.183089</td>\n    </tr>\n    <tr>\n      <th>4</th>\n      <td>yogurt</td>\n      <td>1372</td>\n      <td>0.031637</td>\n      <td>0.214725</td>\n    </tr>\n    <tr>\n      <th>5</th>\n      <td>bottled water</td>\n      <td>1087</td>\n      <td>0.025065</td>\n      <td>0.239791</td>\n    </tr>\n    <tr>\n      <th>6</th>\n      <td>root vegetables</td>\n      <td>1072</td>\n      <td>0.024719</td>\n      <td>0.264510</td>\n    </tr>\n    <tr>\n      <th>7</th>\n      <td>tropical fruit</td>\n      <td>1032</td>\n      <td>0.023797</td>\n      <td>0.288307</td>\n    </tr>\n    <tr>\n      <th>8</th>\n      <td>shopping bags</td>\n      <td>969</td>\n      <td>0.022344</td>\n      <td>0.310651</td>\n    </tr>\n    <tr>\n      <th>9</th>\n      <td>sausage</td>\n      <td>924</td>\n      <td>0.021307</td>\n      <td>0.331957</td>\n    </tr>\n    <tr>\n      <th>10</th>\n      <td>pastry</td>\n      <td>875</td>\n      <td>0.020177</td>\n      <td>0.352134</td>\n    </tr>\n    <tr>\n      <th>11</th>\n      <td>citrus fruit</td>\n      <td>814</td>\n      <td>0.018770</td>\n      <td>0.370904</td>\n    </tr>\n    <tr>\n      <th>12</th>\n      <td>bottled beer</td>\n      <td>792</td>\n      <td>0.018263</td>\n      <td>0.389167</td>\n    </tr>\n  </tbody>\n</table>\n</div>"
     },
     "metadata": {},
     "output_type": "display_data"
    }
   ],
   "source": [
    "# summary table of first items that contributes 40% to the total sales\n",
    "summary_c40 =  item_summary[item_summary.cumsum_frac <= 0.4]\n",
    "display(summary_c40)\n",
    "# list of the features (items) whose purchased amounts contribute 40% to the total sales\n",
    "features_c40 = list(summary_c40.item_name)"
   ],
   "metadata": {
    "collapsed": false,
    "pycharm": {
     "name": "#%%\n",
     "is_executing": false
    }
   }
  },
  {
   "cell_type": "code",
   "execution_count": 8,
   "outputs": [
    {
     "name": "stdout",
     "text": [
      "<class 'pandas.core.frame.DataFrame'>\n",
      "Int64Index: 4585 entries, 1 to 9834\n",
      "Data columns (total 13 columns):\n",
      " #   Column            Non-Null Count  Dtype\n",
      "---  ------            --------------  -----\n",
      " 0   whole milk        4585 non-null   int64\n",
      " 1   other vegetables  4585 non-null   int64\n",
      " 2   rolls/buns        4585 non-null   int64\n",
      " 3   soda              4585 non-null   int64\n",
      " 4   yogurt            4585 non-null   int64\n",
      " 5   bottled water     4585 non-null   int64\n",
      " 6   root vegetables   4585 non-null   int64\n",
      " 7   tropical fruit    4585 non-null   int64\n",
      " 8   shopping bags     4585 non-null   int64\n",
      " 9   sausage           4585 non-null   int64\n",
      " 10  pastry            4585 non-null   int64\n",
      " 11  citrus fruit      4585 non-null   int64\n",
      " 12  bottled beer      4585 non-null   int64\n",
      "dtypes: int64(13)\n",
      "memory usage: 501.5 KB\n"
     ],
     "output_type": "stream"
    },
    {
     "name": "stderr",
     "text": [
      "/Users/DuyUyen/opt/anaconda3/envs/duy_051120/lib/python3.7/site-packages/ipykernel_launcher.py:3: SettingWithCopyWarning: \n",
      "A value is trying to be set on a copy of a slice from a DataFrame.\n",
      "Try using .loc[row_indexer,col_indexer] = value instead\n",
      "\n",
      "See the caveats in the documentation: https://pandas.pydata.org/pandas-docs/stable/user_guide/indexing.html#returning-a-view-versus-a-copy\n",
      "  This is separate from the ipykernel package so we can avoid doing imports until\n"
     ],
     "output_type": "stream"
    }
   ],
   "source": [
    "# subset dataframe that contains all transactions, but with just the items (i.e, 13) we are interested\n",
    "data_c40_all_rows = data[features_c40]\n",
    "data_c40_all_rows['Amount'] = data_c40_all_rows.sum(axis=1)\n",
    "\n",
    "# subset that contains the transactions just with ast least 2 items\n",
    "data_c40 = data_c40_all_rows[data_c40_all_rows['Amount'] >1][features_c40]\n",
    "data_c40.info()"
   ],
   "metadata": {
    "collapsed": false,
    "pycharm": {
     "name": "#%%\n",
     "is_executing": false
    }
   }
  },
  {
   "cell_type": "markdown",
   "source": [
    "- Now, there are only 13 items responsible for 40% of sales and 4585 transactions that have those items along with other items"
   ],
   "metadata": {
    "collapsed": false,
    "pycharm": {
     "name": "#%% md\n",
     "is_executing": false
    }
   }
  },
  {
   "cell_type": "markdown",
   "source": [
    "## 4.2/ Set up Orange table"
   ],
   "metadata": {
    "collapsed": false,
    "pycharm": {
     "name": "#%% md\n"
    }
   }
  },
  {
   "cell_type": "code",
   "execution_count": 9,
   "outputs": [],
   "source": [
    "from Orange.data import Domain,Table,DiscreteVariable\n",
    "from orangecontrib.associate.fpgrowth import *\n",
    "\n",
    "# set up Orange tables\n",
    "domain_data_c40 = Domain([DiscreteVariable.make(name=item,values=['0', '1']) for item in features_c40])\n",
    "org_data_c40 = Table.from_numpy(domain=domain_data_c40, \n",
    "                                X=data_c40.to_numpy(),\n",
    "                                Y= None)\n",
    "org_data_c40_en, mapping = OneHot.encode(org_data_c40, include_class=False)"
   ],
   "metadata": {
    "collapsed": false,
    "pycharm": {
     "name": "#%%\n",
     "is_executing": false
    }
   }
  },
  {
   "cell_type": "markdown",
   "source": [
    "## 4.3/ Set up the Rule"
   ],
   "metadata": {
    "collapsed": false
   }
  },
  {
   "cell_type": "code",
   "execution_count": 24,
   "outputs": [
    {
     "name": "stdout",
     "text": [
      "Number of required transactions = 45\n"
     ],
     "output_type": "stream"
    },
    {
     "data": {
      "text/plain": "166886"
     },
     "metadata": {},
     "output_type": "execute_result",
     "execution_count": 24
    }
   ],
   "source": [
    "min_support = 0.01\n",
    "num_trans = int(data_c40.shape[0] * min_support)\n",
    "itemsets = dict(frequent_itemsets(org_data_c40_en,min_support=min_support))\n",
    "print(f\"Number of required transactions = {num_trans}\")\n",
    "len(itemsets)\n"
   ],
   "metadata": {
    "collapsed": false,
    "pycharm": {
     "name": "#%%\n",
     "is_executing": false
    }
   }
  },
  {
   "cell_type": "code",
   "execution_count": 32,
   "outputs": [
    {
     "name": "stdout",
     "text": [
      "Raw rules data frame of 16628 rules generated\n"
     ],
     "output_type": "stream"
    }
   ],
   "source": [
    "confidence = 0.3\n",
    "rules_df = pd.DataFrame()\n",
    "\n",
    "rules = [(P, Q, supp, conf) for P, Q, supp, conf in association_rules(itemsets, confidence) if len(Q) == 1 ]\n",
    "\n",
    "names = {item: f\"{var.name} {val}\" for item, var, val in OneHot.decode(mapping, org_data_c40, mapping)}\n",
    "\n",
    "eligible_ante = [v for k,v in names.items() if v.endswith(\"1\")]\n",
    "\n",
    "N = data_c40.shape[0]\n",
    "\n",
    "rule_stats = list(rules_stats(rules, itemsets, N))\n",
    "\n",
    "rule_list_df = []\n",
    "for ex_rule_frm_rule_stat in rule_stats:\n",
    "    ante = ex_rule_frm_rule_stat[0]            \n",
    "    cons = ex_rule_frm_rule_stat[1]\n",
    "    named_cons = names[next(iter(cons))]\n",
    "    if named_cons in eligible_ante:\n",
    "        rule_lhs = [names[i][:-2] for i in ante if names[i] in eligible_ante]\n",
    "        ante_rule = ', '.join(rule_lhs)\n",
    "        if ante_rule and len(rule_lhs)>1 :\n",
    "            rule_dict = {'support' : ex_rule_frm_rule_stat[2],\n",
    "                         'confidence' : ex_rule_frm_rule_stat[3],\n",
    "                         'coverage' : ex_rule_frm_rule_stat[4],\n",
    "                         'strength' : ex_rule_frm_rule_stat[5],\n",
    "                         'lift' : ex_rule_frm_rule_stat[6],\n",
    "                         'leverage' : ex_rule_frm_rule_stat[7],\n",
    "                         'antecedent': ante_rule,\n",
    "                         'consequent':named_cons[:-2] }\n",
    "            rule_list_df.append(rule_dict)\n",
    "rules_df = pd.DataFrame(rule_list_df)\n",
    "\n",
    "print(f\"Raw rules data frame of {rules_df.shape[0]} rules generated\")\n",
    "if not rules_df.empty:\n",
    "    pruned_rules_df = rules_df.groupby(['antecedent','consequent']).max().reset_index()\n",
    "else:\n",
    "    print(\"Unable to generate any rule\")\n"
   ],
   "metadata": {
    "collapsed": false,
    "pycharm": {
     "name": "#%%\n",
     "is_executing": false
    }
   }
  },
  {
   "cell_type": "markdown",
   "source": [
    "### Sorting rules in our Grocery Dataset"
   ],
   "metadata": {
    "collapsed": false,
    "pycharm": {
     "name": "#%% md\n"
    }
   }
  },
  {
   "cell_type": "code",
   "execution_count": 33,
   "outputs": [
    {
     "data": {
      "text/plain": "          consequent                                    antecedent  support  \\\n4    root vegetables                        yogurt, tropical fruit      228   \n5            sausage                     shopping bags, rolls/buns       59   \n8     tropical fruit                       yogurt, root vegetables       92   \n1       citrus fruit  whole milk, other vegetables, tropical fruit       66   \n10            yogurt                    whole milk, tropical fruit      199   \n2   other vegetables            yogurt, whole milk, tropical fruit      228   \n6      shopping bags                                 soda, sausage       50   \n0      bottled water                                  yogurt, soda       59   \n9         whole milk                        yogurt, tropical fruit      228   \n3         rolls/buns                        yogurt, tropical fruit       97   \n7               soda                               yogurt, sausage       95   \n\n    confidence      lift  \n4     0.463636  2.230611  \n5     0.393162  2.201037  \n8     0.429907  2.156588  \n1     0.333333  2.125637  \n10    0.484211  1.891061  \n2     0.643836  1.826724  \n6     0.304878  1.782992  \n0     0.333333  1.707635  \n9     0.754098  1.703222  \n3     0.522222  1.679095  \n7     0.390625  1.398139  ",
      "text/html": "<div>\n<style scoped>\n    .dataframe tbody tr th:only-of-type {\n        vertical-align: middle;\n    }\n\n    .dataframe tbody tr th {\n        vertical-align: top;\n    }\n\n    .dataframe thead th {\n        text-align: right;\n    }\n</style>\n<table border=\"1\" class=\"dataframe\">\n  <thead>\n    <tr style=\"text-align: right;\">\n      <th></th>\n      <th>consequent</th>\n      <th>antecedent</th>\n      <th>support</th>\n      <th>confidence</th>\n      <th>lift</th>\n    </tr>\n  </thead>\n  <tbody>\n    <tr>\n      <th>4</th>\n      <td>root vegetables</td>\n      <td>yogurt, tropical fruit</td>\n      <td>228</td>\n      <td>0.463636</td>\n      <td>2.230611</td>\n    </tr>\n    <tr>\n      <th>5</th>\n      <td>sausage</td>\n      <td>shopping bags, rolls/buns</td>\n      <td>59</td>\n      <td>0.393162</td>\n      <td>2.201037</td>\n    </tr>\n    <tr>\n      <th>8</th>\n      <td>tropical fruit</td>\n      <td>yogurt, root vegetables</td>\n      <td>92</td>\n      <td>0.429907</td>\n      <td>2.156588</td>\n    </tr>\n    <tr>\n      <th>1</th>\n      <td>citrus fruit</td>\n      <td>whole milk, other vegetables, tropical fruit</td>\n      <td>66</td>\n      <td>0.333333</td>\n      <td>2.125637</td>\n    </tr>\n    <tr>\n      <th>10</th>\n      <td>yogurt</td>\n      <td>whole milk, tropical fruit</td>\n      <td>199</td>\n      <td>0.484211</td>\n      <td>1.891061</td>\n    </tr>\n    <tr>\n      <th>2</th>\n      <td>other vegetables</td>\n      <td>yogurt, whole milk, tropical fruit</td>\n      <td>228</td>\n      <td>0.643836</td>\n      <td>1.826724</td>\n    </tr>\n    <tr>\n      <th>6</th>\n      <td>shopping bags</td>\n      <td>soda, sausage</td>\n      <td>50</td>\n      <td>0.304878</td>\n      <td>1.782992</td>\n    </tr>\n    <tr>\n      <th>0</th>\n      <td>bottled water</td>\n      <td>yogurt, soda</td>\n      <td>59</td>\n      <td>0.333333</td>\n      <td>1.707635</td>\n    </tr>\n    <tr>\n      <th>9</th>\n      <td>whole milk</td>\n      <td>yogurt, tropical fruit</td>\n      <td>228</td>\n      <td>0.754098</td>\n      <td>1.703222</td>\n    </tr>\n    <tr>\n      <th>3</th>\n      <td>rolls/buns</td>\n      <td>yogurt, tropical fruit</td>\n      <td>97</td>\n      <td>0.522222</td>\n      <td>1.679095</td>\n    </tr>\n    <tr>\n      <th>7</th>\n      <td>soda</td>\n      <td>yogurt, sausage</td>\n      <td>95</td>\n      <td>0.390625</td>\n      <td>1.398139</td>\n    </tr>\n  </tbody>\n</table>\n</div>"
     },
     "metadata": {},
     "output_type": "execute_result",
     "execution_count": 33
    }
   ],
   "source": [
    "pruned_rules_df[['antecedent','consequent','support','confidence','lift']].groupby('consequent')\\\n",
    "    .max().reset_index()\\\n",
    "    .sort_values(['lift', 'support','confidence'],ascending=False)"
   ],
   "metadata": {
    "collapsed": false,
    "pycharm": {
     "name": "#%%\n",
     "is_executing": false
    }
   }
  },
  {
   "cell_type": "code",
   "execution_count": 40,
   "outputs": [
    {
     "data": {
      "text/plain": "                                       antecedent       consequent  support  \\\n197  whole milk, other vegetables, tropical fruit  root vegetables       69   \n88                      rolls/buns, shopping bags          sausage       55   \n189    whole milk, other vegetables, citrus fruit  root vegetables       57   \n231           whole milk, yogurt, root vegetables   tropical fruit       46   \n55               other vegetables, tropical fruit     citrus fruit       66   \n190    whole milk, other vegetables, citrus fruit   tropical fruit       49   \n217           whole milk, root vegetables, yogurt   tropical fruit       56   \n234            whole milk, yogurt, tropical fruit  root vegetables       56   \n140                     shopping bags, rolls/buns          sausage       59   \n227            whole milk, tropical fruit, yogurt  root vegetables       49   \n\n     confidence  coverage  strength      lift  leverage  \n197    0.463636  0.036641  8.906542  2.230611  0.007433  \n88     0.393162  0.033588  7.000000  2.201037  0.005996  \n189    0.450450  0.027917  9.076190  2.167172  0.006629  \n231    0.429907  0.023337  8.542056  2.156588  0.005381  \n55     0.333333  0.047328  5.210145  2.125637  0.006973  \n190    0.414414  0.027917  8.234234  2.078873  0.005207  \n217    0.411765  0.031189  7.745763  2.065581  0.005996  \n234    0.422018  0.032497  8.743119  2.030382  0.005459  \n140    0.361702  0.041876  5.978102  2.024914  0.006136  \n227    0.415254  0.025736  8.076271  1.997839  0.005338  ",
      "text/html": "<div>\n<style scoped>\n    .dataframe tbody tr th:only-of-type {\n        vertical-align: middle;\n    }\n\n    .dataframe tbody tr th {\n        vertical-align: top;\n    }\n\n    .dataframe thead th {\n        text-align: right;\n    }\n</style>\n<table border=\"1\" class=\"dataframe\">\n  <thead>\n    <tr style=\"text-align: right;\">\n      <th></th>\n      <th>antecedent</th>\n      <th>consequent</th>\n      <th>support</th>\n      <th>confidence</th>\n      <th>coverage</th>\n      <th>strength</th>\n      <th>lift</th>\n      <th>leverage</th>\n    </tr>\n  </thead>\n  <tbody>\n    <tr>\n      <th>197</th>\n      <td>whole milk, other vegetables, tropical fruit</td>\n      <td>root vegetables</td>\n      <td>69</td>\n      <td>0.463636</td>\n      <td>0.036641</td>\n      <td>8.906542</td>\n      <td>2.230611</td>\n      <td>0.007433</td>\n    </tr>\n    <tr>\n      <th>88</th>\n      <td>rolls/buns, shopping bags</td>\n      <td>sausage</td>\n      <td>55</td>\n      <td>0.393162</td>\n      <td>0.033588</td>\n      <td>7.000000</td>\n      <td>2.201037</td>\n      <td>0.005996</td>\n    </tr>\n    <tr>\n      <th>189</th>\n      <td>whole milk, other vegetables, citrus fruit</td>\n      <td>root vegetables</td>\n      <td>57</td>\n      <td>0.450450</td>\n      <td>0.027917</td>\n      <td>9.076190</td>\n      <td>2.167172</td>\n      <td>0.006629</td>\n    </tr>\n    <tr>\n      <th>231</th>\n      <td>whole milk, yogurt, root vegetables</td>\n      <td>tropical fruit</td>\n      <td>46</td>\n      <td>0.429907</td>\n      <td>0.023337</td>\n      <td>8.542056</td>\n      <td>2.156588</td>\n      <td>0.005381</td>\n    </tr>\n    <tr>\n      <th>55</th>\n      <td>other vegetables, tropical fruit</td>\n      <td>citrus fruit</td>\n      <td>66</td>\n      <td>0.333333</td>\n      <td>0.047328</td>\n      <td>5.210145</td>\n      <td>2.125637</td>\n      <td>0.006973</td>\n    </tr>\n    <tr>\n      <th>190</th>\n      <td>whole milk, other vegetables, citrus fruit</td>\n      <td>tropical fruit</td>\n      <td>49</td>\n      <td>0.414414</td>\n      <td>0.027917</td>\n      <td>8.234234</td>\n      <td>2.078873</td>\n      <td>0.005207</td>\n    </tr>\n    <tr>\n      <th>217</th>\n      <td>whole milk, root vegetables, yogurt</td>\n      <td>tropical fruit</td>\n      <td>56</td>\n      <td>0.411765</td>\n      <td>0.031189</td>\n      <td>7.745763</td>\n      <td>2.065581</td>\n      <td>0.005996</td>\n    </tr>\n    <tr>\n      <th>234</th>\n      <td>whole milk, yogurt, tropical fruit</td>\n      <td>root vegetables</td>\n      <td>56</td>\n      <td>0.422018</td>\n      <td>0.032497</td>\n      <td>8.743119</td>\n      <td>2.030382</td>\n      <td>0.005459</td>\n    </tr>\n    <tr>\n      <th>140</th>\n      <td>shopping bags, rolls/buns</td>\n      <td>sausage</td>\n      <td>59</td>\n      <td>0.361702</td>\n      <td>0.041876</td>\n      <td>5.978102</td>\n      <td>2.024914</td>\n      <td>0.006136</td>\n    </tr>\n    <tr>\n      <th>227</th>\n      <td>whole milk, tropical fruit, yogurt</td>\n      <td>root vegetables</td>\n      <td>49</td>\n      <td>0.415254</td>\n      <td>0.025736</td>\n      <td>8.076271</td>\n      <td>1.997839</td>\n      <td>0.005338</td>\n    </tr>\n  </tbody>\n</table>\n</div>"
     },
     "metadata": {},
     "output_type": "execute_result",
     "execution_count": 40
    }
   ],
   "source": [
    "pruned_rules_df[pruned_rules_df['lift']>1.0].sort_values(['lift', 'support','confidence'],ascending=False).head(10)"
   ],
   "metadata": {
    "collapsed": false,
    "pycharm": {
     "name": "#%%\n",
     "is_executing": false
    }
   }
  },
  {
   "cell_type": "code",
   "execution_count": 41,
   "outputs": [
    {
     "data": {
      "text/plain": "                       antecedent        consequent  support  confidence  \\\n0     bottled beer, bottled water              soda       50    0.322581   \n1     bottled beer, bottled water        whole milk       60    0.475248   \n2  bottled beer, other vegetables        whole milk       75    0.509615   \n3        bottled beer, rolls/buns        whole milk       53    0.409449   \n4        bottled beer, whole milk     bottled water       55    0.317919   \n5        bottled beer, whole milk  other vegetables       75    0.386740   \n6            bottled beer, yogurt        whole milk       51    0.576471   \n7     bottled water, bottled beer        whole milk       47    0.403509   \n8     bottled water, citrus fruit  other vegetables       50    0.377049   \n9     bottled water, citrus fruit        whole milk       58    0.484848   \n\n   coverage   strength      lift  leverage  \n0  0.033806   8.834483  1.154592  0.001460  \n1  0.033806  20.505051  1.073404  0.000716  \n2  0.034678  22.307692  1.151028  0.001517  \n3  0.029226  17.807018  0.924790 -0.000922  \n4  0.037732   5.524691  1.628669  0.004630  \n5  0.043839  11.460993  1.097280  0.001354  \n6  0.019847  23.882353  1.302028  0.002479  \n7  0.027263  17.807018  0.911373 -0.000976  \n8  0.029008  13.245902  1.069784  0.000681  \n9  0.029008  20.714286  1.095089  0.000909  ",
      "text/html": "<div>\n<style scoped>\n    .dataframe tbody tr th:only-of-type {\n        vertical-align: middle;\n    }\n\n    .dataframe tbody tr th {\n        vertical-align: top;\n    }\n\n    .dataframe thead th {\n        text-align: right;\n    }\n</style>\n<table border=\"1\" class=\"dataframe\">\n  <thead>\n    <tr style=\"text-align: right;\">\n      <th></th>\n      <th>antecedent</th>\n      <th>consequent</th>\n      <th>support</th>\n      <th>confidence</th>\n      <th>coverage</th>\n      <th>strength</th>\n      <th>lift</th>\n      <th>leverage</th>\n    </tr>\n  </thead>\n  <tbody>\n    <tr>\n      <th>0</th>\n      <td>bottled beer, bottled water</td>\n      <td>soda</td>\n      <td>50</td>\n      <td>0.322581</td>\n      <td>0.033806</td>\n      <td>8.834483</td>\n      <td>1.154592</td>\n      <td>0.001460</td>\n    </tr>\n    <tr>\n      <th>1</th>\n      <td>bottled beer, bottled water</td>\n      <td>whole milk</td>\n      <td>60</td>\n      <td>0.475248</td>\n      <td>0.033806</td>\n      <td>20.505051</td>\n      <td>1.073404</td>\n      <td>0.000716</td>\n    </tr>\n    <tr>\n      <th>2</th>\n      <td>bottled beer, other vegetables</td>\n      <td>whole milk</td>\n      <td>75</td>\n      <td>0.509615</td>\n      <td>0.034678</td>\n      <td>22.307692</td>\n      <td>1.151028</td>\n      <td>0.001517</td>\n    </tr>\n    <tr>\n      <th>3</th>\n      <td>bottled beer, rolls/buns</td>\n      <td>whole milk</td>\n      <td>53</td>\n      <td>0.409449</td>\n      <td>0.029226</td>\n      <td>17.807018</td>\n      <td>0.924790</td>\n      <td>-0.000922</td>\n    </tr>\n    <tr>\n      <th>4</th>\n      <td>bottled beer, whole milk</td>\n      <td>bottled water</td>\n      <td>55</td>\n      <td>0.317919</td>\n      <td>0.037732</td>\n      <td>5.524691</td>\n      <td>1.628669</td>\n      <td>0.004630</td>\n    </tr>\n    <tr>\n      <th>5</th>\n      <td>bottled beer, whole milk</td>\n      <td>other vegetables</td>\n      <td>75</td>\n      <td>0.386740</td>\n      <td>0.043839</td>\n      <td>11.460993</td>\n      <td>1.097280</td>\n      <td>0.001354</td>\n    </tr>\n    <tr>\n      <th>6</th>\n      <td>bottled beer, yogurt</td>\n      <td>whole milk</td>\n      <td>51</td>\n      <td>0.576471</td>\n      <td>0.019847</td>\n      <td>23.882353</td>\n      <td>1.302028</td>\n      <td>0.002479</td>\n    </tr>\n    <tr>\n      <th>7</th>\n      <td>bottled water, bottled beer</td>\n      <td>whole milk</td>\n      <td>47</td>\n      <td>0.403509</td>\n      <td>0.027263</td>\n      <td>17.807018</td>\n      <td>0.911373</td>\n      <td>-0.000976</td>\n    </tr>\n    <tr>\n      <th>8</th>\n      <td>bottled water, citrus fruit</td>\n      <td>other vegetables</td>\n      <td>50</td>\n      <td>0.377049</td>\n      <td>0.029008</td>\n      <td>13.245902</td>\n      <td>1.069784</td>\n      <td>0.000681</td>\n    </tr>\n    <tr>\n      <th>9</th>\n      <td>bottled water, citrus fruit</td>\n      <td>whole milk</td>\n      <td>58</td>\n      <td>0.484848</td>\n      <td>0.029008</td>\n      <td>20.714286</td>\n      <td>1.095089</td>\n      <td>0.000909</td>\n    </tr>\n  </tbody>\n</table>\n</div>"
     },
     "metadata": {},
     "output_type": "execute_result",
     "execution_count": 41
    }
   ],
   "source": [
    "pruned_rules_df_1 = pruned_rules_df[0:10]\n",
    "pruned_rules_df_1"
   ],
   "metadata": {
    "collapsed": false,
    "pycharm": {
     "name": "#%%\n",
     "is_executing": false
    }
   }
  },
  {
   "cell_type": "code",
   "execution_count": 46,
   "outputs": [
    {
     "data": {
      "text/plain": "                                       antecedent        consequent  support  \\\n187                  whole milk, other vegetables   root vegetables      228   \n56               other vegetables, tropical fruit   root vegetables      121   \n112               root vegetables, tropical fruit  other vegetables      121   \n243                      yogurt, other vegetables   root vegetables      119   \n35                 other vegetables, citrus fruit   root vegetables      102   \n..                                            ...               ...      ...   \n160                          soda, tropical fruit            yogurt       48   \n196  whole milk, other vegetables, tropical fruit      citrus fruit       47   \n225      whole milk, tropical fruit, citrus fruit  other vegetables       47   \n166                  tropical fruit, citrus fruit   root vegetables       47   \n231           whole milk, yogurt, root vegetables    tropical fruit       46   \n\n     confidence      lift  \n187    0.316017  1.520398  \n56     0.368132  1.771128  \n112    0.623077  1.767827  \n243    0.317757  1.528768  \n35     0.366906  1.765232  \n..          ...       ...  \n160    0.393443  1.536571  \n196    0.311258  1.984867  \n225    0.573171  1.626230  \n166    0.317568  1.527857  \n231    0.429907  2.156588  \n\n[74 rows x 5 columns]",
      "text/html": "<div>\n<style scoped>\n    .dataframe tbody tr th:only-of-type {\n        vertical-align: middle;\n    }\n\n    .dataframe tbody tr th {\n        vertical-align: top;\n    }\n\n    .dataframe thead th {\n        text-align: right;\n    }\n</style>\n<table border=\"1\" class=\"dataframe\">\n  <thead>\n    <tr style=\"text-align: right;\">\n      <th></th>\n      <th>antecedent</th>\n      <th>consequent</th>\n      <th>support</th>\n      <th>confidence</th>\n      <th>lift</th>\n    </tr>\n  </thead>\n  <tbody>\n    <tr>\n      <th>187</th>\n      <td>whole milk, other vegetables</td>\n      <td>root vegetables</td>\n      <td>228</td>\n      <td>0.316017</td>\n      <td>1.520398</td>\n    </tr>\n    <tr>\n      <th>56</th>\n      <td>other vegetables, tropical fruit</td>\n      <td>root vegetables</td>\n      <td>121</td>\n      <td>0.368132</td>\n      <td>1.771128</td>\n    </tr>\n    <tr>\n      <th>112</th>\n      <td>root vegetables, tropical fruit</td>\n      <td>other vegetables</td>\n      <td>121</td>\n      <td>0.623077</td>\n      <td>1.767827</td>\n    </tr>\n    <tr>\n      <th>243</th>\n      <td>yogurt, other vegetables</td>\n      <td>root vegetables</td>\n      <td>119</td>\n      <td>0.317757</td>\n      <td>1.528768</td>\n    </tr>\n    <tr>\n      <th>35</th>\n      <td>other vegetables, citrus fruit</td>\n      <td>root vegetables</td>\n      <td>102</td>\n      <td>0.366906</td>\n      <td>1.765232</td>\n    </tr>\n    <tr>\n      <th>...</th>\n      <td>...</td>\n      <td>...</td>\n      <td>...</td>\n      <td>...</td>\n      <td>...</td>\n    </tr>\n    <tr>\n      <th>160</th>\n      <td>soda, tropical fruit</td>\n      <td>yogurt</td>\n      <td>48</td>\n      <td>0.393443</td>\n      <td>1.536571</td>\n    </tr>\n    <tr>\n      <th>196</th>\n      <td>whole milk, other vegetables, tropical fruit</td>\n      <td>citrus fruit</td>\n      <td>47</td>\n      <td>0.311258</td>\n      <td>1.984867</td>\n    </tr>\n    <tr>\n      <th>225</th>\n      <td>whole milk, tropical fruit, citrus fruit</td>\n      <td>other vegetables</td>\n      <td>47</td>\n      <td>0.573171</td>\n      <td>1.626230</td>\n    </tr>\n    <tr>\n      <th>166</th>\n      <td>tropical fruit, citrus fruit</td>\n      <td>root vegetables</td>\n      <td>47</td>\n      <td>0.317568</td>\n      <td>1.527857</td>\n    </tr>\n    <tr>\n      <th>231</th>\n      <td>whole milk, yogurt, root vegetables</td>\n      <td>tropical fruit</td>\n      <td>46</td>\n      <td>0.429907</td>\n      <td>2.156588</td>\n    </tr>\n  </tbody>\n</table>\n<p>74 rows × 5 columns</p>\n</div>"
     },
     "metadata": {},
     "output_type": "execute_result",
     "execution_count": 46
    }
   ],
   "source": [
    "final = pruned_rules_df[['antecedent','consequent','support','confidence','lift']].sort_values(['support','lift' ,'confidence'],ascending=False)\n",
    "final[final['lift']>1.5]"
   ],
   "metadata": {
    "collapsed": false,
    "pycharm": {
     "name": "#%%\n",
     "is_executing": false
    }
   }
  },
  {
   "cell_type": "code",
   "execution_count": null,
   "outputs": [],
   "source": [
    "\n"
   ],
   "metadata": {
    "collapsed": false,
    "pycharm": {
     "name": "#%%\n"
    }
   }
  }
 ],
 "metadata": {
  "kernelspec": {
   "display_name": "Python 3",
   "language": "python",
   "name": "python3"
  },
  "language_info": {
   "codemirror_mode": {
    "name": "ipython",
    "version": 2
   },
   "file_extension": ".py",
   "mimetype": "text/x-python",
   "name": "python",
   "nbconvert_exporter": "python",
   "pygments_lexer": "ipython2",
   "version": "2.7.6"
  },
  "pycharm": {
   "stem_cell": {
    "cell_type": "raw",
    "source": [],
    "metadata": {
     "collapsed": false
    }
   }
  }
 },
 "nbformat": 4,
 "nbformat_minor": 0
}